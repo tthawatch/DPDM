{
  "nbformat": 4,
  "nbformat_minor": 0,
  "metadata": {
    "colab": {
      "name": "Association_Rules.ipynb",
      "provenance": [],
      "authorship_tag": "ABX9TyMLW1i1PxtF01Fw24wennwv",
      "include_colab_link": true
    },
    "kernelspec": {
      "name": "python3",
      "display_name": "Python 3"
    }
  },
  "cells": [
    {
      "cell_type": "markdown",
      "metadata": {
        "id": "view-in-github",
        "colab_type": "text"
      },
      "source": [
        "<a href=\"https://colab.research.google.com/github/tthawatch/DPDM/blob/master/Association_Rules.ipynb\" target=\"_parent\"><img src=\"https://colab.research.google.com/assets/colab-badge.svg\" alt=\"Open In Colab\"/></a>"
      ]
    },
    {
      "cell_type": "code",
      "metadata": {
        "id": "8hgfKq6ahA6G"
      },
      "source": [
        "import pandas as pd"
      ],
      "execution_count": 9,
      "outputs": []
    },
    {
      "cell_type": "markdown",
      "metadata": {
        "id": "UlS28WNEhrGF"
      },
      "source": [
        "##Connect to drive"
      ]
    },
    {
      "cell_type": "code",
      "metadata": {
        "id": "2_RSCT61hXOQ",
        "outputId": "af90f757-f0f4-4435-e538-21d06e7b3812",
        "colab": {
          "base_uri": "https://localhost:8080/",
          "height": 34
        }
      },
      "source": [
        "from google.colab import drive\n",
        "drive.mount('/content/drive')\n",
        "\n",
        "path = '/content/drive/My Drive/DWDM_material'"
      ],
      "execution_count": 10,
      "outputs": [
        {
          "output_type": "stream",
          "text": [
            "Drive already mounted at /content/drive; to attempt to forcibly remount, call drive.mount(\"/content/drive\", force_remount=True).\n"
          ],
          "name": "stdout"
        }
      ]
    },
    {
      "cell_type": "code",
      "metadata": {
        "id": "0JlAblZFhXIH",
        "outputId": "68bcc92b-1bfd-446c-c43c-a10ce1dc7932",
        "colab": {
          "base_uri": "https://localhost:8080/",
          "height": 419
        }
      },
      "source": [
        "import os   \n",
        "data = pd.read_csv(os.path.join(path,'reduced_marketbasket.csv'),encoding='latin1')\n",
        "data"
      ],
      "execution_count": 11,
      "outputs": [
        {
          "output_type": "execute_result",
          "data": {
            "text/html": [
              "<div>\n",
              "<style scoped>\n",
              "    .dataframe tbody tr th:only-of-type {\n",
              "        vertical-align: middle;\n",
              "    }\n",
              "\n",
              "    .dataframe tbody tr th {\n",
              "        vertical-align: top;\n",
              "    }\n",
              "\n",
              "    .dataframe thead th {\n",
              "        text-align: right;\n",
              "    }\n",
              "</style>\n",
              "<table border=\"1\" class=\"dataframe\">\n",
              "  <thead>\n",
              "    <tr style=\"text-align: right;\">\n",
              "      <th></th>\n",
              "      <th>InvoiceNo</th>\n",
              "      <th>StockCode</th>\n",
              "      <th>Description</th>\n",
              "      <th>Quantity</th>\n",
              "      <th>InvoiceDate</th>\n",
              "      <th>UnitPrice</th>\n",
              "      <th>CustomerID</th>\n",
              "      <th>Country</th>\n",
              "    </tr>\n",
              "  </thead>\n",
              "  <tbody>\n",
              "    <tr>\n",
              "      <th>0</th>\n",
              "      <td>536365</td>\n",
              "      <td>85123A</td>\n",
              "      <td>WHITE HANGING HEART T-LIGHT HOLDER</td>\n",
              "      <td>6</td>\n",
              "      <td>12/01/2010 08:26</td>\n",
              "      <td>2.55</td>\n",
              "      <td>17850.0</td>\n",
              "      <td>United Kingdom</td>\n",
              "    </tr>\n",
              "    <tr>\n",
              "      <th>1</th>\n",
              "      <td>536365</td>\n",
              "      <td>71053</td>\n",
              "      <td>WHITE METAL LANTERN</td>\n",
              "      <td>6</td>\n",
              "      <td>12/01/2010 08:26</td>\n",
              "      <td>3.39</td>\n",
              "      <td>17850.0</td>\n",
              "      <td>United Kingdom</td>\n",
              "    </tr>\n",
              "    <tr>\n",
              "      <th>2</th>\n",
              "      <td>536365</td>\n",
              "      <td>84406B</td>\n",
              "      <td>CREAM CUPID HEARTS COAT HANGER</td>\n",
              "      <td>8</td>\n",
              "      <td>12/01/2010 08:26</td>\n",
              "      <td>2.75</td>\n",
              "      <td>17850.0</td>\n",
              "      <td>United Kingdom</td>\n",
              "    </tr>\n",
              "    <tr>\n",
              "      <th>3</th>\n",
              "      <td>536365</td>\n",
              "      <td>84029G</td>\n",
              "      <td>KNITTED UNION FLAG HOT WATER BOTTLE</td>\n",
              "      <td>6</td>\n",
              "      <td>12/01/2010 08:26</td>\n",
              "      <td>3.39</td>\n",
              "      <td>17850.0</td>\n",
              "      <td>United Kingdom</td>\n",
              "    </tr>\n",
              "    <tr>\n",
              "      <th>4</th>\n",
              "      <td>536365</td>\n",
              "      <td>84029E</td>\n",
              "      <td>RED WOOLLY HOTTIE WHITE HEART.</td>\n",
              "      <td>6</td>\n",
              "      <td>12/01/2010 08:26</td>\n",
              "      <td>3.39</td>\n",
              "      <td>17850.0</td>\n",
              "      <td>United Kingdom</td>\n",
              "    </tr>\n",
              "    <tr>\n",
              "      <th>...</th>\n",
              "      <td>...</td>\n",
              "      <td>...</td>\n",
              "      <td>...</td>\n",
              "      <td>...</td>\n",
              "      <td>...</td>\n",
              "      <td>...</td>\n",
              "      <td>...</td>\n",
              "      <td>...</td>\n",
              "    </tr>\n",
              "    <tr>\n",
              "      <th>541904</th>\n",
              "      <td>581587</td>\n",
              "      <td>22613</td>\n",
              "      <td>PACK OF 20 SPACEBOY NAPKINS</td>\n",
              "      <td>12</td>\n",
              "      <td>12/09/2011 12:50</td>\n",
              "      <td>0.85</td>\n",
              "      <td>12680.0</td>\n",
              "      <td>France</td>\n",
              "    </tr>\n",
              "    <tr>\n",
              "      <th>541905</th>\n",
              "      <td>581587</td>\n",
              "      <td>22899</td>\n",
              "      <td>CHILDREN'S APRON DOLLY GIRL</td>\n",
              "      <td>6</td>\n",
              "      <td>12/09/2011 12:50</td>\n",
              "      <td>2.10</td>\n",
              "      <td>12680.0</td>\n",
              "      <td>France</td>\n",
              "    </tr>\n",
              "    <tr>\n",
              "      <th>541906</th>\n",
              "      <td>581587</td>\n",
              "      <td>23254</td>\n",
              "      <td>CHILDRENS CUTLERY DOLLY GIRL</td>\n",
              "      <td>4</td>\n",
              "      <td>12/09/2011 12:50</td>\n",
              "      <td>4.15</td>\n",
              "      <td>12680.0</td>\n",
              "      <td>France</td>\n",
              "    </tr>\n",
              "    <tr>\n",
              "      <th>541907</th>\n",
              "      <td>581587</td>\n",
              "      <td>23255</td>\n",
              "      <td>CHILDRENS CUTLERY CIRCUS PARADE</td>\n",
              "      <td>4</td>\n",
              "      <td>12/09/2011 12:50</td>\n",
              "      <td>4.15</td>\n",
              "      <td>12680.0</td>\n",
              "      <td>France</td>\n",
              "    </tr>\n",
              "    <tr>\n",
              "      <th>541908</th>\n",
              "      <td>581587</td>\n",
              "      <td>22138</td>\n",
              "      <td>BAKING SET 9 PIECE RETROSPOT</td>\n",
              "      <td>3</td>\n",
              "      <td>12/09/2011 12:50</td>\n",
              "      <td>4.95</td>\n",
              "      <td>12680.0</td>\n",
              "      <td>France</td>\n",
              "    </tr>\n",
              "  </tbody>\n",
              "</table>\n",
              "<p>541909 rows × 8 columns</p>\n",
              "</div>"
            ],
            "text/plain": [
              "       InvoiceNo StockCode  ... CustomerID         Country\n",
              "0         536365    85123A  ...    17850.0  United Kingdom\n",
              "1         536365     71053  ...    17850.0  United Kingdom\n",
              "2         536365    84406B  ...    17850.0  United Kingdom\n",
              "3         536365    84029G  ...    17850.0  United Kingdom\n",
              "4         536365    84029E  ...    17850.0  United Kingdom\n",
              "...          ...       ...  ...        ...             ...\n",
              "541904    581587     22613  ...    12680.0          France\n",
              "541905    581587     22899  ...    12680.0          France\n",
              "541906    581587     23254  ...    12680.0          France\n",
              "541907    581587     23255  ...    12680.0          France\n",
              "541908    581587     22138  ...    12680.0          France\n",
              "\n",
              "[541909 rows x 8 columns]"
            ]
          },
          "metadata": {
            "tags": []
          },
          "execution_count": 11
        }
      ]
    },
    {
      "cell_type": "markdown",
      "metadata": {
        "id": "UXzThr06hxI4"
      },
      "source": [
        "##Ex ให้หาว่าแต่ละประเทศ ขายสินค้ารวมกันทั้งหมดได้ประเทศละกี่ชิ้น"
      ]
    },
    {
      "cell_type": "code",
      "metadata": {
        "id": "ihso8hXHhXEn",
        "outputId": "f0e03fe6-898c-4aa9-a44e-d16c540c6075",
        "colab": {
          "base_uri": "https://localhost:8080/",
          "height": 1000
        }
      },
      "source": [
        "data.groupby('Country').sum().sort_values('Quantity')"
      ],
      "execution_count": 12,
      "outputs": [
        {
          "output_type": "execute_result",
          "data": {
            "text/html": [
              "<div>\n",
              "<style scoped>\n",
              "    .dataframe tbody tr th:only-of-type {\n",
              "        vertical-align: middle;\n",
              "    }\n",
              "\n",
              "    .dataframe tbody tr th {\n",
              "        vertical-align: top;\n",
              "    }\n",
              "\n",
              "    .dataframe thead th {\n",
              "        text-align: right;\n",
              "    }\n",
              "</style>\n",
              "<table border=\"1\" class=\"dataframe\">\n",
              "  <thead>\n",
              "    <tr style=\"text-align: right;\">\n",
              "      <th></th>\n",
              "      <th>Quantity</th>\n",
              "      <th>UnitPrice</th>\n",
              "      <th>CustomerID</th>\n",
              "    </tr>\n",
              "    <tr>\n",
              "      <th>Country</th>\n",
              "      <th></th>\n",
              "      <th></th>\n",
              "      <th></th>\n",
              "    </tr>\n",
              "  </thead>\n",
              "  <tbody>\n",
              "    <tr>\n",
              "      <th>Saudi Arabia</th>\n",
              "      <td>75</td>\n",
              "      <td>2.411000e+01</td>\n",
              "      <td>1.256500e+05</td>\n",
              "    </tr>\n",
              "    <tr>\n",
              "      <th>Bahrain</th>\n",
              "      <td>260</td>\n",
              "      <td>8.657000e+01</td>\n",
              "      <td>2.100270e+05</td>\n",
              "    </tr>\n",
              "    <tr>\n",
              "      <th>RSA</th>\n",
              "      <td>352</td>\n",
              "      <td>2.481000e+02</td>\n",
              "      <td>7.218680e+05</td>\n",
              "    </tr>\n",
              "    <tr>\n",
              "      <th>Brazil</th>\n",
              "      <td>356</td>\n",
              "      <td>1.426000e+02</td>\n",
              "      <td>4.086080e+05</td>\n",
              "    </tr>\n",
              "    <tr>\n",
              "      <th>Lebanon</th>\n",
              "      <td>386</td>\n",
              "      <td>2.424400e+02</td>\n",
              "      <td>5.743800e+05</td>\n",
              "    </tr>\n",
              "    <tr>\n",
              "      <th>European Community</th>\n",
              "      <td>497</td>\n",
              "      <td>2.940500e+02</td>\n",
              "      <td>9.215880e+05</td>\n",
              "    </tr>\n",
              "    <tr>\n",
              "      <th>Czech Republic</th>\n",
              "      <td>592</td>\n",
              "      <td>8.815000e+01</td>\n",
              "      <td>3.834300e+05</td>\n",
              "    </tr>\n",
              "    <tr>\n",
              "      <th>Lithuania</th>\n",
              "      <td>652</td>\n",
              "      <td>9.944000e+01</td>\n",
              "      <td>5.366200e+05</td>\n",
              "    </tr>\n",
              "    <tr>\n",
              "      <th>Malta</th>\n",
              "      <td>944</td>\n",
              "      <td>6.660100e+02</td>\n",
              "      <td>2.158496e+06</td>\n",
              "    </tr>\n",
              "    <tr>\n",
              "      <th>United Arab Emirates</th>\n",
              "      <td>982</td>\n",
              "      <td>2.298900e+02</td>\n",
              "      <td>1.018952e+06</td>\n",
              "    </tr>\n",
              "    <tr>\n",
              "      <th>USA</th>\n",
              "      <td>1034</td>\n",
              "      <td>6.449800e+02</td>\n",
              "      <td>3.672086e+06</td>\n",
              "    </tr>\n",
              "    <tr>\n",
              "      <th>Greece</th>\n",
              "      <td>1556</td>\n",
              "      <td>7.132900e+02</td>\n",
              "      <td>2.008584e+06</td>\n",
              "    </tr>\n",
              "    <tr>\n",
              "      <th>Iceland</th>\n",
              "      <td>2458</td>\n",
              "      <td>4.812100e+02</td>\n",
              "      <td>2.247154e+06</td>\n",
              "    </tr>\n",
              "    <tr>\n",
              "      <th>Canada</th>\n",
              "      <td>2763</td>\n",
              "      <td>9.105800e+02</td>\n",
              "      <td>2.615483e+06</td>\n",
              "    </tr>\n",
              "    <tr>\n",
              "      <th>Unspecified</th>\n",
              "      <td>3300</td>\n",
              "      <td>1.204010e+03</td>\n",
              "      <td>3.348046e+06</td>\n",
              "    </tr>\n",
              "    <tr>\n",
              "      <th>Poland</th>\n",
              "      <td>3653</td>\n",
              "      <td>1.422270e+03</td>\n",
              "      <td>4.341972e+06</td>\n",
              "    </tr>\n",
              "    <tr>\n",
              "      <th>Israel</th>\n",
              "      <td>4353</td>\n",
              "      <td>1.079040e+03</td>\n",
              "      <td>3.164467e+06</td>\n",
              "    </tr>\n",
              "    <tr>\n",
              "      <th>Hong Kong</th>\n",
              "      <td>4769</td>\n",
              "      <td>1.224150e+04</td>\n",
              "      <td>0.000000e+00</td>\n",
              "    </tr>\n",
              "    <tr>\n",
              "      <th>Austria</th>\n",
              "      <td>4827</td>\n",
              "      <td>1.701520e+03</td>\n",
              "      <td>5.021102e+06</td>\n",
              "    </tr>\n",
              "    <tr>\n",
              "      <th>Singapore</th>\n",
              "      <td>5234</td>\n",
              "      <td>2.510889e+04</td>\n",
              "      <td>2.918376e+06</td>\n",
              "    </tr>\n",
              "    <tr>\n",
              "      <th>Cyprus</th>\n",
              "      <td>6317</td>\n",
              "      <td>3.920070e+03</td>\n",
              "      <td>7.715880e+06</td>\n",
              "    </tr>\n",
              "    <tr>\n",
              "      <th>Italy</th>\n",
              "      <td>7999</td>\n",
              "      <td>3.879390e+03</td>\n",
              "      <td>1.015666e+07</td>\n",
              "    </tr>\n",
              "    <tr>\n",
              "      <th>Denmark</th>\n",
              "      <td>8188</td>\n",
              "      <td>1.266950e+03</td>\n",
              "      <td>4.876734e+06</td>\n",
              "    </tr>\n",
              "    <tr>\n",
              "      <th>Channel Islands</th>\n",
              "      <td>9479</td>\n",
              "      <td>3.738550e+03</td>\n",
              "      <td>1.128522e+07</td>\n",
              "    </tr>\n",
              "    <tr>\n",
              "      <th>Finland</th>\n",
              "      <td>10666</td>\n",
              "      <td>3.786850e+03</td>\n",
              "      <td>8.699324e+06</td>\n",
              "    </tr>\n",
              "    <tr>\n",
              "      <th>Portugal</th>\n",
              "      <td>16180</td>\n",
              "      <td>1.303754e+04</td>\n",
              "      <td>1.886480e+07</td>\n",
              "    </tr>\n",
              "    <tr>\n",
              "      <th>Norway</th>\n",
              "      <td>19247</td>\n",
              "      <td>6.529060e+03</td>\n",
              "      <td>1.350765e+07</td>\n",
              "    </tr>\n",
              "    <tr>\n",
              "      <th>Belgium</th>\n",
              "      <td>23152</td>\n",
              "      <td>7.540130e+03</td>\n",
              "      <td>2.571829e+07</td>\n",
              "    </tr>\n",
              "    <tr>\n",
              "      <th>Japan</th>\n",
              "      <td>25218</td>\n",
              "      <td>8.148600e+02</td>\n",
              "      <td>4.567292e+06</td>\n",
              "    </tr>\n",
              "    <tr>\n",
              "      <th>Spain</th>\n",
              "      <td>26824</td>\n",
              "      <td>1.263345e+04</td>\n",
              "      <td>3.268929e+07</td>\n",
              "    </tr>\n",
              "    <tr>\n",
              "      <th>Switzerland</th>\n",
              "      <td>30325</td>\n",
              "      <td>6.813690e+03</td>\n",
              "      <td>2.377592e+07</td>\n",
              "    </tr>\n",
              "    <tr>\n",
              "      <th>Sweden</th>\n",
              "      <td>35637</td>\n",
              "      <td>1.806830e+03</td>\n",
              "      <td>6.790083e+06</td>\n",
              "    </tr>\n",
              "    <tr>\n",
              "      <th>Australia</th>\n",
              "      <td>83653</td>\n",
              "      <td>4.054750e+03</td>\n",
              "      <td>1.569300e+07</td>\n",
              "    </tr>\n",
              "    <tr>\n",
              "      <th>France</th>\n",
              "      <td>110480</td>\n",
              "      <td>4.303199e+04</td>\n",
              "      <td>1.076489e+08</td>\n",
              "    </tr>\n",
              "    <tr>\n",
              "      <th>Germany</th>\n",
              "      <td>117448</td>\n",
              "      <td>3.766600e+04</td>\n",
              "      <td>1.200751e+08</td>\n",
              "    </tr>\n",
              "    <tr>\n",
              "      <th>EIRE</th>\n",
              "      <td>142637</td>\n",
              "      <td>4.844719e+04</td>\n",
              "      <td>1.103917e+08</td>\n",
              "    </tr>\n",
              "    <tr>\n",
              "      <th>Netherlands</th>\n",
              "      <td>200128</td>\n",
              "      <td>6.492550e+03</td>\n",
              "      <td>3.419054e+07</td>\n",
              "    </tr>\n",
              "    <tr>\n",
              "      <th>United Kingdom</th>\n",
              "      <td>4263829</td>\n",
              "      <td>2.245715e+06</td>\n",
              "      <td>5.626433e+09</td>\n",
              "    </tr>\n",
              "  </tbody>\n",
              "</table>\n",
              "</div>"
            ],
            "text/plain": [
              "                      Quantity     UnitPrice    CustomerID\n",
              "Country                                                   \n",
              "Saudi Arabia                75  2.411000e+01  1.256500e+05\n",
              "Bahrain                    260  8.657000e+01  2.100270e+05\n",
              "RSA                        352  2.481000e+02  7.218680e+05\n",
              "Brazil                     356  1.426000e+02  4.086080e+05\n",
              "Lebanon                    386  2.424400e+02  5.743800e+05\n",
              "European Community         497  2.940500e+02  9.215880e+05\n",
              "Czech Republic             592  8.815000e+01  3.834300e+05\n",
              "Lithuania                  652  9.944000e+01  5.366200e+05\n",
              "Malta                      944  6.660100e+02  2.158496e+06\n",
              "United Arab Emirates       982  2.298900e+02  1.018952e+06\n",
              "USA                       1034  6.449800e+02  3.672086e+06\n",
              "Greece                    1556  7.132900e+02  2.008584e+06\n",
              "Iceland                   2458  4.812100e+02  2.247154e+06\n",
              "Canada                    2763  9.105800e+02  2.615483e+06\n",
              "Unspecified               3300  1.204010e+03  3.348046e+06\n",
              "Poland                    3653  1.422270e+03  4.341972e+06\n",
              "Israel                    4353  1.079040e+03  3.164467e+06\n",
              "Hong Kong                 4769  1.224150e+04  0.000000e+00\n",
              "Austria                   4827  1.701520e+03  5.021102e+06\n",
              "Singapore                 5234  2.510889e+04  2.918376e+06\n",
              "Cyprus                    6317  3.920070e+03  7.715880e+06\n",
              "Italy                     7999  3.879390e+03  1.015666e+07\n",
              "Denmark                   8188  1.266950e+03  4.876734e+06\n",
              "Channel Islands           9479  3.738550e+03  1.128522e+07\n",
              "Finland                  10666  3.786850e+03  8.699324e+06\n",
              "Portugal                 16180  1.303754e+04  1.886480e+07\n",
              "Norway                   19247  6.529060e+03  1.350765e+07\n",
              "Belgium                  23152  7.540130e+03  2.571829e+07\n",
              "Japan                    25218  8.148600e+02  4.567292e+06\n",
              "Spain                    26824  1.263345e+04  3.268929e+07\n",
              "Switzerland              30325  6.813690e+03  2.377592e+07\n",
              "Sweden                   35637  1.806830e+03  6.790083e+06\n",
              "Australia                83653  4.054750e+03  1.569300e+07\n",
              "France                  110480  4.303199e+04  1.076489e+08\n",
              "Germany                 117448  3.766600e+04  1.200751e+08\n",
              "EIRE                    142637  4.844719e+04  1.103917e+08\n",
              "Netherlands             200128  6.492550e+03  3.419054e+07\n",
              "United Kingdom         4263829  2.245715e+06  5.626433e+09"
            ]
          },
          "metadata": {
            "tags": []
          },
          "execution_count": 12
        }
      ]
    },
    {
      "cell_type": "code",
      "metadata": {
        "id": "KRa9e8B-hXBv",
        "outputId": "d205b3bf-ca62-456c-833c-fce31f5fb652",
        "colab": {
          "base_uri": "https://localhost:8080/",
          "height": 450
        }
      },
      "source": [
        "data.groupby('InvoiceNo').sum()"
      ],
      "execution_count": 13,
      "outputs": [
        {
          "output_type": "execute_result",
          "data": {
            "text/html": [
              "<div>\n",
              "<style scoped>\n",
              "    .dataframe tbody tr th:only-of-type {\n",
              "        vertical-align: middle;\n",
              "    }\n",
              "\n",
              "    .dataframe tbody tr th {\n",
              "        vertical-align: top;\n",
              "    }\n",
              "\n",
              "    .dataframe thead th {\n",
              "        text-align: right;\n",
              "    }\n",
              "</style>\n",
              "<table border=\"1\" class=\"dataframe\">\n",
              "  <thead>\n",
              "    <tr style=\"text-align: right;\">\n",
              "      <th></th>\n",
              "      <th>Quantity</th>\n",
              "      <th>UnitPrice</th>\n",
              "      <th>CustomerID</th>\n",
              "    </tr>\n",
              "    <tr>\n",
              "      <th>InvoiceNo</th>\n",
              "      <th></th>\n",
              "      <th></th>\n",
              "      <th></th>\n",
              "    </tr>\n",
              "  </thead>\n",
              "  <tbody>\n",
              "    <tr>\n",
              "      <th>536365</th>\n",
              "      <td>40</td>\n",
              "      <td>27.37</td>\n",
              "      <td>124950.0</td>\n",
              "    </tr>\n",
              "    <tr>\n",
              "      <th>536366</th>\n",
              "      <td>12</td>\n",
              "      <td>3.70</td>\n",
              "      <td>35700.0</td>\n",
              "    </tr>\n",
              "    <tr>\n",
              "      <th>536367</th>\n",
              "      <td>83</td>\n",
              "      <td>58.24</td>\n",
              "      <td>156564.0</td>\n",
              "    </tr>\n",
              "    <tr>\n",
              "      <th>536368</th>\n",
              "      <td>15</td>\n",
              "      <td>19.10</td>\n",
              "      <td>52188.0</td>\n",
              "    </tr>\n",
              "    <tr>\n",
              "      <th>536369</th>\n",
              "      <td>3</td>\n",
              "      <td>5.95</td>\n",
              "      <td>13047.0</td>\n",
              "    </tr>\n",
              "    <tr>\n",
              "      <th>...</th>\n",
              "      <td>...</td>\n",
              "      <td>...</td>\n",
              "      <td>...</td>\n",
              "    </tr>\n",
              "    <tr>\n",
              "      <th>C581484</th>\n",
              "      <td>-80995</td>\n",
              "      <td>2.08</td>\n",
              "      <td>16446.0</td>\n",
              "    </tr>\n",
              "    <tr>\n",
              "      <th>C581490</th>\n",
              "      <td>-23</td>\n",
              "      <td>2.78</td>\n",
              "      <td>28794.0</td>\n",
              "    </tr>\n",
              "    <tr>\n",
              "      <th>C581499</th>\n",
              "      <td>-1</td>\n",
              "      <td>224.69</td>\n",
              "      <td>15498.0</td>\n",
              "    </tr>\n",
              "    <tr>\n",
              "      <th>C581568</th>\n",
              "      <td>-5</td>\n",
              "      <td>10.95</td>\n",
              "      <td>15311.0</td>\n",
              "    </tr>\n",
              "    <tr>\n",
              "      <th>C581569</th>\n",
              "      <td>-6</td>\n",
              "      <td>2.50</td>\n",
              "      <td>34630.0</td>\n",
              "    </tr>\n",
              "  </tbody>\n",
              "</table>\n",
              "<p>25900 rows × 3 columns</p>\n",
              "</div>"
            ],
            "text/plain": [
              "           Quantity  UnitPrice  CustomerID\n",
              "InvoiceNo                                 \n",
              "536365           40      27.37    124950.0\n",
              "536366           12       3.70     35700.0\n",
              "536367           83      58.24    156564.0\n",
              "536368           15      19.10     52188.0\n",
              "536369            3       5.95     13047.0\n",
              "...             ...        ...         ...\n",
              "C581484      -80995       2.08     16446.0\n",
              "C581490         -23       2.78     28794.0\n",
              "C581499          -1     224.69     15498.0\n",
              "C581568          -5      10.95     15311.0\n",
              "C581569          -6       2.50     34630.0\n",
              "\n",
              "[25900 rows x 3 columns]"
            ]
          },
          "metadata": {
            "tags": []
          },
          "execution_count": 13
        }
      ]
    },
    {
      "cell_type": "code",
      "metadata": {
        "id": "5SKG0tqchW7o",
        "outputId": "723aa28b-9166-45cd-88c3-697cf0859937",
        "colab": {
          "base_uri": "https://localhost:8080/",
          "height": 238
        }
      },
      "source": [
        "transacs = data.groupby('InvoiceNo')['StockCode'].apply(list)\n",
        "transacs"
      ],
      "execution_count": 14,
      "outputs": [
        {
          "output_type": "execute_result",
          "data": {
            "text/plain": [
              "InvoiceNo\n",
              "536365     [85123A, 71053, 84406B, 84029G, 84029E, 22752,...\n",
              "536366                                        [22633, 22632]\n",
              "536367     [84879, 22745, 22748, 22749, 22310, 84969, 226...\n",
              "536368                          [22960, 22913, 22912, 22914]\n",
              "536369                                               [21756]\n",
              "                                 ...                        \n",
              "C581484                                              [23843]\n",
              "C581490                                       [22178, 23144]\n",
              "C581499                                                  [M]\n",
              "C581568                                              [21258]\n",
              "C581569                                       [84978, 20979]\n",
              "Name: StockCode, Length: 25900, dtype: object"
            ]
          },
          "metadata": {
            "tags": []
          },
          "execution_count": 14
        }
      ]
    },
    {
      "cell_type": "markdown",
      "metadata": {
        "id": "6zr5fDPyiD4w"
      },
      "source": [
        "##Apriori\n",
        "http://zaxrosenberg.com/unofficial-apyori-documentation/"
      ]
    },
    {
      "cell_type": "code",
      "metadata": {
        "id": "GxscXfyohW1y",
        "outputId": "2aa892c5-325b-4808-f202-bd1ab9195a13",
        "colab": {
          "base_uri": "https://localhost:8080/",
          "height": 170
        }
      },
      "source": [
        "!pip install apyori"
      ],
      "execution_count": 15,
      "outputs": [
        {
          "output_type": "stream",
          "text": [
            "Collecting apyori\n",
            "  Downloading https://files.pythonhosted.org/packages/5e/62/5ffde5c473ea4b033490617ec5caa80d59804875ad3c3c57c0976533a21a/apyori-1.1.2.tar.gz\n",
            "Building wheels for collected packages: apyori\n",
            "  Building wheel for apyori (setup.py) ... \u001b[?25l\u001b[?25hdone\n",
            "  Created wheel for apyori: filename=apyori-1.1.2-cp36-none-any.whl size=5975 sha256=9d093d307bd11a11980cfbc2a204b36f5f2e3a366a0c98ceb170ad9a386c295c\n",
            "  Stored in directory: /root/.cache/pip/wheels/5d/92/bb/474bbadbc8c0062b9eb168f69982a0443263f8ab1711a8cad0\n",
            "Successfully built apyori\n",
            "Installing collected packages: apyori\n",
            "Successfully installed apyori-1.1.2\n"
          ],
          "name": "stdout"
        }
      ]
    },
    {
      "cell_type": "code",
      "metadata": {
        "id": "ZxUoONdohWyq"
      },
      "source": [
        "from apyori import apriori"
      ],
      "execution_count": 16,
      "outputs": []
    },
    {
      "cell_type": "code",
      "metadata": {
        "id": "jTKiKn55hWvl"
      },
      "source": [
        "out = list(apriori(transacs, min_support = 0.03, min_confidence = 0.1))"
      ],
      "execution_count": 17,
      "outputs": []
    },
    {
      "cell_type": "code",
      "metadata": {
        "id": "wYR32AgriJ_o",
        "outputId": "f688d429-fafc-4a8a-c13d-7240b0f5e275",
        "colab": {
          "base_uri": "https://localhost:8080/",
          "height": 54
        }
      },
      "source": [
        "out[0]"
      ],
      "execution_count": 18,
      "outputs": [
        {
          "output_type": "execute_result",
          "data": {
            "text/plain": [
              "RelationRecord(items=frozenset({'22386', '85099B'}), support=0.03216216216216216, ordered_statistics=[OrderedStatistic(items_base=frozenset({'22386'}), items_add=frozenset({'85099B'}), confidence=0.6766856214459789, lift=8.20897311262335), OrderedStatistic(items_base=frozenset({'85099B'}), items_add=frozenset({'22386'}), confidence=0.39016393442622943, lift=8.20897311262335)])"
            ]
          },
          "metadata": {
            "tags": []
          },
          "execution_count": 18
        }
      ]
    },
    {
      "cell_type": "markdown",
      "metadata": {
        "id": "qu1xDOvRiXJb"
      },
      "source": [
        "##Quiz หา k-itemset ที่มีความน่าสนใจ (โดยพิจารณาลูกค้าเป็นรายคน) พร้อมทั้งอธิบายว่าน่าสนใจยังไง"
      ]
    },
    {
      "cell_type": "code",
      "metadata": {
        "id": "pHleTzfriKY3",
        "outputId": "cc8ce23f-4e63-4622-e6a5-43f41a7a5c69",
        "colab": {
          "base_uri": "https://localhost:8080/",
          "height": 238
        }
      },
      "source": [
        "transacs = data.groupby('CustomerID')['StockCode'].apply(list)\n",
        "transacs"
      ],
      "execution_count": 19,
      "outputs": [
        {
          "output_type": "execute_result",
          "data": {
            "text/plain": [
              "CustomerID\n",
              "12346.0                                       [23166, 23166]\n",
              "12347.0    [85116, 22375, 71477, 22492, 22771, 22772, 227...\n",
              "12348.0    [84992, 22951, 84991, 84991, 21213, 21213, 226...\n",
              "12349.0    [23112, 23460, 21564, 21411, 21563, 22131, 221...\n",
              "12350.0    [21908, 22412, 79066K, 79191C, 22348, 84086C, ...\n",
              "                                 ...                        \n",
              "18280.0    [82484, 22180, 22467, 22725, 22727, 22495, 223...\n",
              "18281.0    [22037, 22716, 22028, 23007, 23008, 23209, 22467]\n",
              "18282.0    [21270, 23187, 23295, 22089, 21108, 21109, 224...\n",
              "18283.0    [22356, 20726, 22384, 22386, 20717, 20718, 850...\n",
              "18287.0    [22755, 22754, 22753, 22756, 22758, 22757, 227...\n",
              "Name: StockCode, Length: 4372, dtype: object"
            ]
          },
          "metadata": {
            "tags": []
          },
          "execution_count": 19
        }
      ]
    },
    {
      "cell_type": "code",
      "metadata": {
        "id": "WWOs1YfwiJ2Q",
        "outputId": "543e0773-0157-48ec-865a-58966937d144",
        "colab": {
          "base_uri": "https://localhost:8080/",
          "height": 88
        }
      },
      "source": [
        "list(apriori(transacs, min_support = 0.07, min_confidence = 0.7))"
      ],
      "execution_count": 20,
      "outputs": [
        {
          "output_type": "execute_result",
          "data": {
            "text/plain": [
              "[RelationRecord(items=frozenset({'21733', '85123A'}), support=0.07136322049405307, ordered_statistics=[OrderedStatistic(items_base=frozenset({'21733'}), items_add=frozenset({'85123A'}), confidence=0.8103896103896104, lift=4.129397874852421)]),\n",
              " RelationRecord(items=frozenset({'22423', '22699'}), support=0.07410795974382434, ordered_statistics=[OrderedStatistic(items_base=frozenset({'22699'}), items_add=frozenset({'22423'}), confidence=0.7587822014051523, lift=3.740017795426523)]),\n",
              " RelationRecord(items=frozenset({'22699', '22697'}), support=0.07410795974382434, ordered_statistics=[OrderedStatistic(items_base=frozenset({'22697'}), items_add=frozenset({'22699'}), confidence=0.8307692307692307, lift=8.506143037290578), OrderedStatistic(items_base=frozenset({'22699'}), items_add=frozenset({'22697'}), confidence=0.7587822014051523, lift=8.506143037290578)])]"
            ]
          },
          "metadata": {
            "tags": []
          },
          "execution_count": 20
        }
      ]
    },
    {
      "cell_type": "markdown",
      "metadata": {
        "id": "Sb4ui7_difRv"
      },
      "source": [
        "###\n",
        "(แนวข้อสอบ) เปรียบเทียบ รูปแบบ ที่น่าสนใจของสองประเทศ.."
      ]
    }
  ]
}