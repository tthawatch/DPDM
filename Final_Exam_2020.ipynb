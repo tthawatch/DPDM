{
  "nbformat": 4,
  "nbformat_minor": 0,
  "metadata": {
    "colab": {
      "name": "Final Exam 2020.ipynb",
      "provenance": [],
      "include_colab_link": true
    },
    "kernelspec": {
      "name": "python3",
      "display_name": "Python 3"
    }
  },
  "cells": [
    {
      "cell_type": "markdown",
      "metadata": {
        "id": "view-in-github",
        "colab_type": "text"
      },
      "source": [
        "<a href=\"https://colab.research.google.com/github/tthawatch/DPDM/blob/master/Final_Exam_2020.ipynb\" target=\"_parent\"><img src=\"https://colab.research.google.com/assets/colab-badge.svg\" alt=\"Open In Colab\"/></a>"
      ]
    },
    {
      "cell_type": "markdown",
      "metadata": {
        "id": "APlaB9l9CeBy"
      },
      "source": [
        "1. จากข้อมูล (```w_restaurant.csv```, ```search_click.csv```, ```search_request.csv```) ใน http://qr.tebs.io/TTGDFf สร้าง model เพื่อทำนาย (Classification) ว่าผลการ search เป็นร้านอาหารหรือไม่(```is_food = = True```) โดยพิจารณาจาก \n",
        "- วันในสัปดาห์ที่ทำการ search (```Monday-Sunday```) \n",
        "- วันในที่ทำการ search (```1-31```)\n",
        "- เวลาที่ทำการ search (```1-24```)\n",
        "\n",
        "หมายเหตุที่ 1 สามารถใช้ function ที่ให้มาช่วยในการทำงานได้\n",
        "1. ```extract_time()``` ซึ่ง input เป็น ```timestamp``` และ output เป็น ```เวลาที่ทำการ search```, ```วันที่ทำการ search```, ```วันในสัปดาห์ที่ทำการ search```\n",
        "\n",
        "2. ```is_food()``` ซึ่ง input เป็น ```category_name``` และ ```output``` เป็น คำตอบว่า ```เป็นร้านอาหารหรือไม่```\n",
        "\n",
        "หมายเหตุที่ 2 ควรเตรียมข้อมูลโดยรวมข้อมูลจาก ตาราง ```w_restaurant.csv```, ```search_click.csv```, ```search_request.csv``` ให้ได้ในรูปแบบ ต่อไปนี้\n",
        "![exam_table.PNG](data:image/png;base64,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)\n",
        "\n",
        "(150 คะแนน)"
      ]
    },
    {
      "cell_type": "code",
      "metadata": {
        "id": "212B1ztJIgtU"
      },
      "source": [
        "import datetime\n",
        "def extract_time(datetime_s):\n",
        "    EX_date = datetime.datetime.strptime(datetime_s, \"%Y-%m-%d %H:%M:%S.%f\")\n",
        "    return EX_date.hour, EX_date.day, get_day(EX_date.weekday()) \n",
        "\n",
        "def get_day(D):\n",
        "    weekdays = ['Monday','Tuesday','Wednesday','Thursday','Friday','Saturday','Sunday']\n",
        "    return weekdays[D] \n",
        "\n",
        "def is_food(inp):\n",
        "    food_list = ['Vegeterian','Sushi','Sukiyaki/Shabu','Street Food/Food Stands','Steak House/Barbeque','Southern Food','Seafood','Ramen','Quick Meal','Pizza','Northern Food','Noodles','Mexican','Korean',\n",
        "             'Japanese','Italian','Izakaya','Healthy Food','German Food','Fusion Food','French','Food Truck','Fastfood','Dim Sum','Delivery Only','Chinese','Cafe','Café/Coffee Shop','Buffet',\n",
        "             'Breakfast/Brunch','Bakery/Cake','Barbeque/Grill','American']\n",
        "    return inp in food_list"
      ],
      "execution_count": 1,
      "outputs": []
    },
    {
      "cell_type": "markdown",
      "metadata": {
        "id": "zm8mN3OAIpJE"
      },
      "source": [
        "2. จากข้อมูล (```reduced_marketbasket.csv```) ใน http://qr.tebs.io/TTGDFf ให้เปรียบเทียบ รูปแบบ การซื้อที่น่าสนใจเป็นราย Transaction ของประชากรใน ประเทศ ```United Kingdom``` กับ ประเทศอื่นๆ (```'Country'!='United Kingdom'```)\n",
        "\n",
        "(40 คะแนน)"
      ]
    },
    {
      "cell_type": "markdown",
      "metadata": {
        "id": "uhgCU6TcKX9v"
      },
      "source": [
        "3. เขียนคำศัพท์ที่ได้เรียนในวิชาพร้อมทั้งคำนิยามที่เป็นคำพูดของนักศึกษาเอง (ห้าม search google) 20 คำ\n",
        "\n",
        "(คำละ 0.5 คะแนน)"
      ]
    },
    {
      "cell_type": "markdown",
      "metadata": {
        "id": "yCwzeVFseFju"
      },
      "source": [
        "1.จากข้อมูล (w_restaurant.csv, search_click.csv, search_request.csv) ใน http://qr.tebs.io/TTGDFf สร้าง model เพื่อทำนาย (Classification) ว่าผลการ search เป็นร้านอาหารหรือไม่(is_food = = True) โดยพิจารณาจาก\n",
        "วันในสัปดาห์ที่ทำการ search (Monday-Sunday)\n",
        "วันในที่ทำการ search (1-31)\n",
        "เวลาที่ทำการ search (1-24)"
      ]
    },
    {
      "cell_type": "code",
      "metadata": {
        "id": "KWz0lqbVeFBG"
      },
      "source": [
        "import pandas"
      ],
      "execution_count": 1,
      "outputs": []
    },
    {
      "cell_type": "code",
      "metadata": {
        "id": "gvF9v5nseWPY"
      },
      "source": [
        "import pandas as pd"
      ],
      "execution_count": 2,
      "outputs": []
    },
    {
      "cell_type": "code",
      "metadata": {
        "id": "wke4aQqjeWFK"
      },
      "source": [
        "from google.colab import drive"
      ],
      "execution_count": 3,
      "outputs": []
    },
    {
      "cell_type": "code",
      "metadata": {
        "id": "f1g6mPtIeWBu",
        "outputId": "ad58c1a5-a5a0-4ac0-e01b-530c4e73381b",
        "colab": {
          "base_uri": "https://localhost:8080/"
        }
      },
      "source": [
        "drive.mount('/content/drive')"
      ],
      "execution_count": 4,
      "outputs": [
        {
          "output_type": "stream",
          "text": [
            "Drive already mounted at /content/drive; to attempt to forcibly remount, call drive.mount(\"/content/drive\", force_remount=True).\n"
          ],
          "name": "stdout"
        }
      ]
    },
    {
      "cell_type": "code",
      "metadata": {
        "id": "yfMeQRZneV-1"
      },
      "source": [
        "import os"
      ],
      "execution_count": 5,
      "outputs": []
    },
    {
      "cell_type": "code",
      "metadata": {
        "id": "vop0IEKzeV7y"
      },
      "source": [
        "base_path = '/content/drive/My Drive/DWDM_material'"
      ],
      "execution_count": 6,
      "outputs": []
    },
    {
      "cell_type": "code",
      "metadata": {
        "id": "iKVuJqozeV42",
        "outputId": "53b31ff6-0d08-4824-a8e0-a274cb2a48d0",
        "colab": {
          "base_uri": "https://localhost:8080/"
        }
      },
      "source": [
        "os.listdir('/content/drive/My Drive/DWDM_material') #ดูชื่อไฟล์ในไดฟ์"
      ],
      "execution_count": 7,
      "outputs": [
        {
          "output_type": "execute_result",
          "data": {
            "text/plain": [
              "['test.csv',\n",
              " 'Preprocessing02.html',\n",
              " 'teach.csv',\n",
              " 'teach02.csv',\n",
              " '03 สังคม.xls',\n",
              " '52835793_259306464964511_3851804852342489088_n (1).png',\n",
              " 'Copy of search_click (1).csv',\n",
              " 'Copy of w_restaurant (1).csv',\n",
              " 'metadata (1).xlsx',\n",
              " 'a6b698d8efa85a3159c034c250c7a68e.jpg',\n",
              " '2-58 (1).pdf',\n",
              " 'animal.csv',\n",
              " 'Project2.xlsx',\n",
              " '2015-ogd1-2 (1).csv',\n",
              " 'untitled-12 (2).xlsx',\n",
              " 'Project1.gsheet',\n",
              " 'Project1.xlsx',\n",
              " 'project.xlsx',\n",
              " 'Project3.xlsx',\n",
              " 'search_request.csv',\n",
              " 'w_restaurant.csv',\n",
              " 'search_click.csv',\n",
              " 'reduced_marketbasket.csv']"
            ]
          },
          "metadata": {
            "tags": []
          },
          "execution_count": 7
        }
      ]
    },
    {
      "cell_type": "code",
      "metadata": {
        "id": "vxLlFL7teV19"
      },
      "source": [
        "file_path_1 = os.path.join(base_path,'w_restaurant.csv')"
      ],
      "execution_count": 15,
      "outputs": []
    },
    {
      "cell_type": "code",
      "metadata": {
        "id": "PdPUW9yxeVzD"
      },
      "source": [
        "Data_1=pd.read_csv(file_path_1)"
      ],
      "execution_count": 16,
      "outputs": []
    },
    {
      "cell_type": "code",
      "metadata": {
        "id": "Gra2_83TgMB2"
      },
      "source": [
        "Data_1 =[]"
      ],
      "execution_count": 19,
      "outputs": []
    },
    {
      "cell_type": "code",
      "metadata": {
        "id": "xkRO6NKcuVhx",
        "outputId": "2c7125e1-585c-404d-864b-c8459f49f5c7",
        "colab": {
          "base_uri": "https://localhost:8080/",
          "height": 407
        }
      },
      "source": [
        "Data_table_1 = Data_1[['id','category_name']]\n",
        "Data_table_1"
      ],
      "execution_count": 18,
      "outputs": [
        {
          "output_type": "execute_result",
          "data": {
            "text/html": [
              "<div>\n",
              "<style scoped>\n",
              "    .dataframe tbody tr th:only-of-type {\n",
              "        vertical-align: middle;\n",
              "    }\n",
              "\n",
              "    .dataframe tbody tr th {\n",
              "        vertical-align: top;\n",
              "    }\n",
              "\n",
              "    .dataframe thead th {\n",
              "        text-align: right;\n",
              "    }\n",
              "</style>\n",
              "<table border=\"1\" class=\"dataframe\">\n",
              "  <thead>\n",
              "    <tr style=\"text-align: right;\">\n",
              "      <th></th>\n",
              "      <th>id</th>\n",
              "      <th>category_name</th>\n",
              "    </tr>\n",
              "  </thead>\n",
              "  <tbody>\n",
              "    <tr>\n",
              "      <th>0</th>\n",
              "      <td>2</td>\n",
              "      <td>Orthodontic</td>\n",
              "    </tr>\n",
              "    <tr>\n",
              "      <th>1</th>\n",
              "      <td>4</td>\n",
              "      <td>Quick Meal</td>\n",
              "    </tr>\n",
              "    <tr>\n",
              "      <th>2</th>\n",
              "      <td>5</td>\n",
              "      <td>Historical/Religion</td>\n",
              "    </tr>\n",
              "    <tr>\n",
              "      <th>3</th>\n",
              "      <td>6</td>\n",
              "      <td>Karaoke</td>\n",
              "    </tr>\n",
              "    <tr>\n",
              "      <th>4</th>\n",
              "      <td>7</td>\n",
              "      <td>Café/Coffee Shop</td>\n",
              "    </tr>\n",
              "    <tr>\n",
              "      <th>...</th>\n",
              "      <td>...</td>\n",
              "      <td>...</td>\n",
              "    </tr>\n",
              "    <tr>\n",
              "      <th>246842</th>\n",
              "      <td>340068</td>\n",
              "      <td>Sushi</td>\n",
              "    </tr>\n",
              "    <tr>\n",
              "      <th>246843</th>\n",
              "      <td>340070</td>\n",
              "      <td>Karaoke</td>\n",
              "    </tr>\n",
              "    <tr>\n",
              "      <th>246844</th>\n",
              "      <td>340074</td>\n",
              "      <td>Steak House/Barbeque</td>\n",
              "    </tr>\n",
              "    <tr>\n",
              "      <th>246845</th>\n",
              "      <td>340079</td>\n",
              "      <td>Café/Coffee Shop</td>\n",
              "    </tr>\n",
              "    <tr>\n",
              "      <th>246846</th>\n",
              "      <td>340091</td>\n",
              "      <td>Noodles</td>\n",
              "    </tr>\n",
              "  </tbody>\n",
              "</table>\n",
              "<p>246847 rows × 2 columns</p>\n",
              "</div>"
            ],
            "text/plain": [
              "            id         category_name\n",
              "0            2           Orthodontic\n",
              "1            4            Quick Meal\n",
              "2            5   Historical/Religion\n",
              "3            6               Karaoke\n",
              "4            7      Café/Coffee Shop\n",
              "...        ...                   ...\n",
              "246842  340068                 Sushi\n",
              "246843  340070               Karaoke\n",
              "246844  340074  Steak House/Barbeque\n",
              "246845  340079      Café/Coffee Shop\n",
              "246846  340091               Noodles\n",
              "\n",
              "[246847 rows x 2 columns]"
            ]
          },
          "metadata": {
            "tags": []
          },
          "execution_count": 18
        }
      ]
    },
    {
      "cell_type": "code",
      "metadata": {
        "id": "ntfEXUlLxyvO",
        "outputId": "edda1002-3203-431f-fa49-a7ef22e07872",
        "colab": {
          "base_uri": "https://localhost:8080/",
          "height": 407
        }
      },
      "source": [
        "Data_table_1.isnull()"
      ],
      "execution_count": 20,
      "outputs": [
        {
          "output_type": "execute_result",
          "data": {
            "text/html": [
              "<div>\n",
              "<style scoped>\n",
              "    .dataframe tbody tr th:only-of-type {\n",
              "        vertical-align: middle;\n",
              "    }\n",
              "\n",
              "    .dataframe tbody tr th {\n",
              "        vertical-align: top;\n",
              "    }\n",
              "\n",
              "    .dataframe thead th {\n",
              "        text-align: right;\n",
              "    }\n",
              "</style>\n",
              "<table border=\"1\" class=\"dataframe\">\n",
              "  <thead>\n",
              "    <tr style=\"text-align: right;\">\n",
              "      <th></th>\n",
              "      <th>id</th>\n",
              "      <th>category_name</th>\n",
              "    </tr>\n",
              "  </thead>\n",
              "  <tbody>\n",
              "    <tr>\n",
              "      <th>0</th>\n",
              "      <td>False</td>\n",
              "      <td>False</td>\n",
              "    </tr>\n",
              "    <tr>\n",
              "      <th>1</th>\n",
              "      <td>False</td>\n",
              "      <td>False</td>\n",
              "    </tr>\n",
              "    <tr>\n",
              "      <th>2</th>\n",
              "      <td>False</td>\n",
              "      <td>False</td>\n",
              "    </tr>\n",
              "    <tr>\n",
              "      <th>3</th>\n",
              "      <td>False</td>\n",
              "      <td>False</td>\n",
              "    </tr>\n",
              "    <tr>\n",
              "      <th>4</th>\n",
              "      <td>False</td>\n",
              "      <td>False</td>\n",
              "    </tr>\n",
              "    <tr>\n",
              "      <th>...</th>\n",
              "      <td>...</td>\n",
              "      <td>...</td>\n",
              "    </tr>\n",
              "    <tr>\n",
              "      <th>246842</th>\n",
              "      <td>False</td>\n",
              "      <td>False</td>\n",
              "    </tr>\n",
              "    <tr>\n",
              "      <th>246843</th>\n",
              "      <td>False</td>\n",
              "      <td>False</td>\n",
              "    </tr>\n",
              "    <tr>\n",
              "      <th>246844</th>\n",
              "      <td>False</td>\n",
              "      <td>False</td>\n",
              "    </tr>\n",
              "    <tr>\n",
              "      <th>246845</th>\n",
              "      <td>False</td>\n",
              "      <td>False</td>\n",
              "    </tr>\n",
              "    <tr>\n",
              "      <th>246846</th>\n",
              "      <td>False</td>\n",
              "      <td>False</td>\n",
              "    </tr>\n",
              "  </tbody>\n",
              "</table>\n",
              "<p>246847 rows × 2 columns</p>\n",
              "</div>"
            ],
            "text/plain": [
              "           id  category_name\n",
              "0       False          False\n",
              "1       False          False\n",
              "2       False          False\n",
              "3       False          False\n",
              "4       False          False\n",
              "...       ...            ...\n",
              "246842  False          False\n",
              "246843  False          False\n",
              "246844  False          False\n",
              "246845  False          False\n",
              "246846  False          False\n",
              "\n",
              "[246847 rows x 2 columns]"
            ]
          },
          "metadata": {
            "tags": []
          },
          "execution_count": 20
        }
      ]
    },
    {
      "cell_type": "code",
      "metadata": {
        "id": "x9W11UA0x3Z_",
        "outputId": "e29ef956-1358-496d-e301-2953ae515e78",
        "colab": {
          "base_uri": "https://localhost:8080/"
        }
      },
      "source": [
        "Data_table_1.isnull().any()"
      ],
      "execution_count": 21,
      "outputs": [
        {
          "output_type": "execute_result",
          "data": {
            "text/plain": [
              "id               False\n",
              "category_name    False\n",
              "dtype: bool"
            ]
          },
          "metadata": {
            "tags": []
          },
          "execution_count": 21
        }
      ]
    },
    {
      "cell_type": "code",
      "metadata": {
        "id": "AVAi6hHWeVv9"
      },
      "source": [
        "file_path_2 = os.path.join(base_path,'search_click.csv')"
      ],
      "execution_count": 22,
      "outputs": []
    },
    {
      "cell_type": "code",
      "metadata": {
        "id": "dYleDyDffWo7"
      },
      "source": [
        "Data_2=pd.read_csv(file_path_2)"
      ],
      "execution_count": 23,
      "outputs": []
    },
    {
      "cell_type": "code",
      "metadata": {
        "id": "t-6biHBEgOeh"
      },
      "source": [
        "Data_2=[]"
      ],
      "execution_count": 28,
      "outputs": []
    },
    {
      "cell_type": "code",
      "metadata": {
        "id": "4qO6RovWvku7",
        "outputId": "eaae07de-8e9a-4197-8529-67d7b35f5ce1",
        "colab": {
          "base_uri": "https://localhost:8080/",
          "height": 407
        }
      },
      "source": [
        "Data_table_2 = Data_2[['click_timestamp','search_id','business_id','ads']]\n",
        "Data_table_2"
      ],
      "execution_count": 27,
      "outputs": [
        {
          "output_type": "execute_result",
          "data": {
            "text/html": [
              "<div>\n",
              "<style scoped>\n",
              "    .dataframe tbody tr th:only-of-type {\n",
              "        vertical-align: middle;\n",
              "    }\n",
              "\n",
              "    .dataframe tbody tr th {\n",
              "        vertical-align: top;\n",
              "    }\n",
              "\n",
              "    .dataframe thead th {\n",
              "        text-align: right;\n",
              "    }\n",
              "</style>\n",
              "<table border=\"1\" class=\"dataframe\">\n",
              "  <thead>\n",
              "    <tr style=\"text-align: right;\">\n",
              "      <th></th>\n",
              "      <th>click_timestamp</th>\n",
              "      <th>search_id</th>\n",
              "      <th>business_id</th>\n",
              "      <th>ads</th>\n",
              "    </tr>\n",
              "  </thead>\n",
              "  <tbody>\n",
              "    <tr>\n",
              "      <th>0</th>\n",
              "      <td>2018-06-15 05:11:38.914154</td>\n",
              "      <td>5c004472-5ecc-4159-9698-9f329b8e26e1</td>\n",
              "      <td>298839.0</td>\n",
              "      <td>True</td>\n",
              "    </tr>\n",
              "    <tr>\n",
              "      <th>1</th>\n",
              "      <td>2018-06-15 06:30:51.277476</td>\n",
              "      <td>5f34eca0-c04e-4c10-b600-54aa447dbd8e</td>\n",
              "      <td>171372.0</td>\n",
              "      <td>True</td>\n",
              "    </tr>\n",
              "    <tr>\n",
              "      <th>2</th>\n",
              "      <td>2018-06-15 06:32:09.558025</td>\n",
              "      <td>8dc6d1f0-11f1-4239-9dd2-5c1674c81224</td>\n",
              "      <td>16157.0</td>\n",
              "      <td>True</td>\n",
              "    </tr>\n",
              "    <tr>\n",
              "      <th>3</th>\n",
              "      <td>2018-06-15 06:00:59.820390</td>\n",
              "      <td>1a5810e9-3d1f-44b9-9a2e-26ede21c524b</td>\n",
              "      <td>89741.0</td>\n",
              "      <td>True</td>\n",
              "    </tr>\n",
              "    <tr>\n",
              "      <th>4</th>\n",
              "      <td>2018-06-15 05:23:36.828525</td>\n",
              "      <td>6bc75e0d-fc65-471e-9926-ff6be6708639</td>\n",
              "      <td>189564.0</td>\n",
              "      <td>True</td>\n",
              "    </tr>\n",
              "    <tr>\n",
              "      <th>...</th>\n",
              "      <td>...</td>\n",
              "      <td>...</td>\n",
              "      <td>...</td>\n",
              "      <td>...</td>\n",
              "    </tr>\n",
              "    <tr>\n",
              "      <th>7882032</th>\n",
              "      <td>2018-06-28 01:59:10.893735</td>\n",
              "      <td>9ecd2dc1-b6f6-486d-b751-33eb16c53951</td>\n",
              "      <td>16614.0</td>\n",
              "      <td>True</td>\n",
              "    </tr>\n",
              "    <tr>\n",
              "      <th>7882033</th>\n",
              "      <td>2018-06-28 01:59:11.085196</td>\n",
              "      <td>9ecd2dc1-b6f6-486d-b751-33eb16c53951</td>\n",
              "      <td>16614.0</td>\n",
              "      <td>True</td>\n",
              "    </tr>\n",
              "    <tr>\n",
              "      <th>7882034</th>\n",
              "      <td>2018-06-28 06:49:02.493141</td>\n",
              "      <td>d086453d-7fde-4766-af39-8205f0f0a4aa</td>\n",
              "      <td>19569.0</td>\n",
              "      <td>True</td>\n",
              "    </tr>\n",
              "    <tr>\n",
              "      <th>7882035</th>\n",
              "      <td>2018-06-28 06:36:02.865507</td>\n",
              "      <td>d157eba1-15e6-4f7a-b090-27a311d976a0</td>\n",
              "      <td>227719.0</td>\n",
              "      <td>True</td>\n",
              "    </tr>\n",
              "    <tr>\n",
              "      <th>7882036</th>\n",
              "      <td>2018-06-28 06:20:35.249050</td>\n",
              "      <td>fb09595c-26cf-4bf3-a51b-1a9b4dd2fe50</td>\n",
              "      <td>316442.0</td>\n",
              "      <td>True</td>\n",
              "    </tr>\n",
              "  </tbody>\n",
              "</table>\n",
              "<p>7882037 rows × 4 columns</p>\n",
              "</div>"
            ],
            "text/plain": [
              "                    click_timestamp  ...   ads\n",
              "0        2018-06-15 05:11:38.914154  ...  True\n",
              "1        2018-06-15 06:30:51.277476  ...  True\n",
              "2        2018-06-15 06:32:09.558025  ...  True\n",
              "3        2018-06-15 06:00:59.820390  ...  True\n",
              "4        2018-06-15 05:23:36.828525  ...  True\n",
              "...                             ...  ...   ...\n",
              "7882032  2018-06-28 01:59:10.893735  ...  True\n",
              "7882033  2018-06-28 01:59:11.085196  ...  True\n",
              "7882034  2018-06-28 06:49:02.493141  ...  True\n",
              "7882035  2018-06-28 06:36:02.865507  ...  True\n",
              "7882036  2018-06-28 06:20:35.249050  ...  True\n",
              "\n",
              "[7882037 rows x 4 columns]"
            ]
          },
          "metadata": {
            "tags": []
          },
          "execution_count": 27
        }
      ]
    },
    {
      "cell_type": "code",
      "metadata": {
        "id": "lGnV7L0Zyk93",
        "outputId": "4f003b2a-88c6-448f-c238-9c76d5568bca",
        "colab": {
          "base_uri": "https://localhost:8080/",
          "height": 407
        }
      },
      "source": [
        "Data_table_2.isnull()"
      ],
      "execution_count": 40,
      "outputs": [
        {
          "output_type": "execute_result",
          "data": {
            "text/html": [
              "<div>\n",
              "<style scoped>\n",
              "    .dataframe tbody tr th:only-of-type {\n",
              "        vertical-align: middle;\n",
              "    }\n",
              "\n",
              "    .dataframe tbody tr th {\n",
              "        vertical-align: top;\n",
              "    }\n",
              "\n",
              "    .dataframe thead th {\n",
              "        text-align: right;\n",
              "    }\n",
              "</style>\n",
              "<table border=\"1\" class=\"dataframe\">\n",
              "  <thead>\n",
              "    <tr style=\"text-align: right;\">\n",
              "      <th></th>\n",
              "      <th>click_timestamp</th>\n",
              "      <th>search_id</th>\n",
              "      <th>business_id</th>\n",
              "      <th>ads</th>\n",
              "    </tr>\n",
              "  </thead>\n",
              "  <tbody>\n",
              "    <tr>\n",
              "      <th>0</th>\n",
              "      <td>False</td>\n",
              "      <td>False</td>\n",
              "      <td>False</td>\n",
              "      <td>False</td>\n",
              "    </tr>\n",
              "    <tr>\n",
              "      <th>1</th>\n",
              "      <td>False</td>\n",
              "      <td>False</td>\n",
              "      <td>False</td>\n",
              "      <td>False</td>\n",
              "    </tr>\n",
              "    <tr>\n",
              "      <th>2</th>\n",
              "      <td>False</td>\n",
              "      <td>False</td>\n",
              "      <td>False</td>\n",
              "      <td>False</td>\n",
              "    </tr>\n",
              "    <tr>\n",
              "      <th>3</th>\n",
              "      <td>False</td>\n",
              "      <td>False</td>\n",
              "      <td>False</td>\n",
              "      <td>False</td>\n",
              "    </tr>\n",
              "    <tr>\n",
              "      <th>4</th>\n",
              "      <td>False</td>\n",
              "      <td>False</td>\n",
              "      <td>False</td>\n",
              "      <td>False</td>\n",
              "    </tr>\n",
              "    <tr>\n",
              "      <th>...</th>\n",
              "      <td>...</td>\n",
              "      <td>...</td>\n",
              "      <td>...</td>\n",
              "      <td>...</td>\n",
              "    </tr>\n",
              "    <tr>\n",
              "      <th>7882032</th>\n",
              "      <td>False</td>\n",
              "      <td>False</td>\n",
              "      <td>False</td>\n",
              "      <td>False</td>\n",
              "    </tr>\n",
              "    <tr>\n",
              "      <th>7882033</th>\n",
              "      <td>False</td>\n",
              "      <td>False</td>\n",
              "      <td>False</td>\n",
              "      <td>False</td>\n",
              "    </tr>\n",
              "    <tr>\n",
              "      <th>7882034</th>\n",
              "      <td>False</td>\n",
              "      <td>False</td>\n",
              "      <td>False</td>\n",
              "      <td>False</td>\n",
              "    </tr>\n",
              "    <tr>\n",
              "      <th>7882035</th>\n",
              "      <td>False</td>\n",
              "      <td>False</td>\n",
              "      <td>False</td>\n",
              "      <td>False</td>\n",
              "    </tr>\n",
              "    <tr>\n",
              "      <th>7882036</th>\n",
              "      <td>False</td>\n",
              "      <td>False</td>\n",
              "      <td>False</td>\n",
              "      <td>False</td>\n",
              "    </tr>\n",
              "  </tbody>\n",
              "</table>\n",
              "<p>7882037 rows × 4 columns</p>\n",
              "</div>"
            ],
            "text/plain": [
              "         click_timestamp  search_id  business_id    ads\n",
              "0                  False      False        False  False\n",
              "1                  False      False        False  False\n",
              "2                  False      False        False  False\n",
              "3                  False      False        False  False\n",
              "4                  False      False        False  False\n",
              "...                  ...        ...          ...    ...\n",
              "7882032            False      False        False  False\n",
              "7882033            False      False        False  False\n",
              "7882034            False      False        False  False\n",
              "7882035            False      False        False  False\n",
              "7882036            False      False        False  False\n",
              "\n",
              "[7882037 rows x 4 columns]"
            ]
          },
          "metadata": {
            "tags": []
          },
          "execution_count": 40
        }
      ]
    },
    {
      "cell_type": "code",
      "metadata": {
        "id": "zBsFmS-SyWwh",
        "outputId": "3777b225-2f69-4cb3-a696-56d1bbb19338",
        "colab": {
          "base_uri": "https://localhost:8080/"
        }
      },
      "source": [
        "Data_table_2.isnull().any()"
      ],
      "execution_count": 32,
      "outputs": [
        {
          "output_type": "execute_result",
          "data": {
            "text/plain": [
              "click_timestamp    False\n",
              "search_id           True\n",
              "business_id         True\n",
              "ads                False\n",
              "dtype: bool"
            ]
          },
          "metadata": {
            "tags": []
          },
          "execution_count": 32
        }
      ]
    },
    {
      "cell_type": "code",
      "metadata": {
        "id": "cBCQyT2ZyWuA"
      },
      "source": [
        "Data_table_2_nm =  Data_table_2.dropna()"
      ],
      "execution_count": 34,
      "outputs": []
    },
    {
      "cell_type": "code",
      "metadata": {
        "id": "KZrP5iZtyWrF",
        "outputId": "80eeff67-b8c5-4fb4-d0f0-e3faf93eaa9b",
        "colab": {
          "base_uri": "https://localhost:8080/"
        }
      },
      "source": [
        "Data_table_2_nm.isnull()\n",
        "Data_table_2_nm.isnull().any()"
      ],
      "execution_count": 37,
      "outputs": [
        {
          "output_type": "execute_result",
          "data": {
            "text/plain": [
              "click_timestamp    False\n",
              "search_id          False\n",
              "business_id        False\n",
              "ads                False\n",
              "dtype: bool"
            ]
          },
          "metadata": {
            "tags": []
          },
          "execution_count": 37
        }
      ]
    },
    {
      "cell_type": "code",
      "metadata": {
        "id": "ZP_ef7UPfWmB"
      },
      "source": [
        "file_path_3 = os.path.join(base_path,'search_request.csv')"
      ],
      "execution_count": 38,
      "outputs": []
    },
    {
      "cell_type": "code",
      "metadata": {
        "id": "LMPuZ50UfWip",
        "outputId": "9d14de25-8588-493f-e1d4-81b94e989ac4",
        "colab": {
          "base_uri": "https://localhost:8080/"
        }
      },
      "source": [
        "Data_3=pd.read_csv(file_path_3)"
      ],
      "execution_count": 39,
      "outputs": [
        {
          "output_type": "stream",
          "text": [
            "/usr/local/lib/python3.6/dist-packages/IPython/core/interactiveshell.py:2718: DtypeWarning: Columns (7,8,9) have mixed types.Specify dtype option on import or set low_memory=False.\n",
            "  interactivity=interactivity, compiler=compiler, result=result)\n"
          ],
          "name": "stderr"
        }
      ]
    },
    {
      "cell_type": "code",
      "metadata": {
        "id": "5qOstdzgfWfT"
      },
      "source": [
        "Data_3 =[]"
      ],
      "execution_count": 47,
      "outputs": []
    },
    {
      "cell_type": "code",
      "metadata": {
        "id": "RuXXemFJz765",
        "outputId": "3601e367-529f-4e66-e48a-93f5b67fe2a3",
        "colab": {
          "base_uri": "https://localhost:8080/",
          "height": 407
        }
      },
      "source": [
        "Data_table_3 = Data_3[['search_id','long','lat']]\n",
        "Data_table_3"
      ],
      "execution_count": 46,
      "outputs": [
        {
          "output_type": "execute_result",
          "data": {
            "text/html": [
              "<div>\n",
              "<style scoped>\n",
              "    .dataframe tbody tr th:only-of-type {\n",
              "        vertical-align: middle;\n",
              "    }\n",
              "\n",
              "    .dataframe tbody tr th {\n",
              "        vertical-align: top;\n",
              "    }\n",
              "\n",
              "    .dataframe thead th {\n",
              "        text-align: right;\n",
              "    }\n",
              "</style>\n",
              "<table border=\"1\" class=\"dataframe\">\n",
              "  <thead>\n",
              "    <tr style=\"text-align: right;\">\n",
              "      <th></th>\n",
              "      <th>search_id</th>\n",
              "      <th>long</th>\n",
              "      <th>lat</th>\n",
              "    </tr>\n",
              "  </thead>\n",
              "  <tbody>\n",
              "    <tr>\n",
              "      <th>0</th>\n",
              "      <td>683de889-f923-494e-9d46-44a3d67b7259</td>\n",
              "      <td>101.463</td>\n",
              "      <td>12.6347</td>\n",
              "    </tr>\n",
              "    <tr>\n",
              "      <th>1</th>\n",
              "      <td>4a811230-ffa4-4631-a4c8-5d0394137d02</td>\n",
              "      <td>102.534</td>\n",
              "      <td>14.8009</td>\n",
              "    </tr>\n",
              "    <tr>\n",
              "      <th>2</th>\n",
              "      <td>7ad6ee8e-438e-4bea-9183-74dcef9e358e</td>\n",
              "      <td>100.371</td>\n",
              "      <td>13.7383</td>\n",
              "    </tr>\n",
              "    <tr>\n",
              "      <th>3</th>\n",
              "      <td>0c17a5f5-fa89-40f4-ae94-a8659268f827</td>\n",
              "      <td>101.861</td>\n",
              "      <td>12.6669</td>\n",
              "    </tr>\n",
              "    <tr>\n",
              "      <th>4</th>\n",
              "      <td>6870dc3a-5602-44fc-80ed-df0a7783df9d</td>\n",
              "      <td>99.88</td>\n",
              "      <td>12.2372</td>\n",
              "    </tr>\n",
              "    <tr>\n",
              "      <th>...</th>\n",
              "      <td>...</td>\n",
              "      <td>...</td>\n",
              "      <td>...</td>\n",
              "    </tr>\n",
              "    <tr>\n",
              "      <th>10004352</th>\n",
              "      <td>5d8c10aa-63cf-4bdd-ab01-0af17a98781f</td>\n",
              "      <td>NaN</td>\n",
              "      <td>NaN</td>\n",
              "    </tr>\n",
              "    <tr>\n",
              "      <th>10004353</th>\n",
              "      <td>66cc94db-217a-4d8e-aa20-b1d10e17c968</td>\n",
              "      <td>NaN</td>\n",
              "      <td>NaN</td>\n",
              "    </tr>\n",
              "    <tr>\n",
              "      <th>10004354</th>\n",
              "      <td>4eb3b514-fb71-4dfe-a580-c560e8c9dcc7</td>\n",
              "      <td>NaN</td>\n",
              "      <td>NaN</td>\n",
              "    </tr>\n",
              "    <tr>\n",
              "      <th>10004355</th>\n",
              "      <td>f5554532-2eb1-4ba6-a98e-1e10b2174d2c</td>\n",
              "      <td>NaN</td>\n",
              "      <td>NaN</td>\n",
              "    </tr>\n",
              "    <tr>\n",
              "      <th>10004356</th>\n",
              "      <td>48421ba4-8c69-46a5-aa05-425ddc82a09a</td>\n",
              "      <td>NaN</td>\n",
              "      <td>NaN</td>\n",
              "    </tr>\n",
              "  </tbody>\n",
              "</table>\n",
              "<p>10004357 rows × 3 columns</p>\n",
              "</div>"
            ],
            "text/plain": [
              "                                     search_id     long      lat\n",
              "0         683de889-f923-494e-9d46-44a3d67b7259  101.463  12.6347\n",
              "1         4a811230-ffa4-4631-a4c8-5d0394137d02  102.534  14.8009\n",
              "2         7ad6ee8e-438e-4bea-9183-74dcef9e358e  100.371  13.7383\n",
              "3         0c17a5f5-fa89-40f4-ae94-a8659268f827  101.861  12.6669\n",
              "4         6870dc3a-5602-44fc-80ed-df0a7783df9d    99.88  12.2372\n",
              "...                                        ...      ...      ...\n",
              "10004352  5d8c10aa-63cf-4bdd-ab01-0af17a98781f      NaN      NaN\n",
              "10004353  66cc94db-217a-4d8e-aa20-b1d10e17c968      NaN      NaN\n",
              "10004354  4eb3b514-fb71-4dfe-a580-c560e8c9dcc7      NaN      NaN\n",
              "10004355  f5554532-2eb1-4ba6-a98e-1e10b2174d2c      NaN      NaN\n",
              "10004356  48421ba4-8c69-46a5-aa05-425ddc82a09a      NaN      NaN\n",
              "\n",
              "[10004357 rows x 3 columns]"
            ]
          },
          "metadata": {
            "tags": []
          },
          "execution_count": 46
        }
      ]
    },
    {
      "cell_type": "code",
      "metadata": {
        "id": "jgVp0rBY5Gm-"
      },
      "source": [
        " # หาค่าเฉลี่ยของ long และ let\n",
        "# จากนั้น dropna() แทนค่าเฉลี่ยของทั้งสองข้อมูลลงไปตามลำดับ แล้วนำข้อมูลที่แก้ missing ไปรวมกับข้อมูลที่ต้องการเพื่อใช้พยากรณ์ต่อไป\n",
        "#ควรทำข้างต้นผมขอตัดเลย"
      ],
      "execution_count": 90,
      "outputs": []
    },
    {
      "cell_type": "code",
      "metadata": {
        "id": "6ae6LUoUGK04"
      },
      "source": [
        "Data_table_3_nm=Data_table_3.dropna()"
      ],
      "execution_count": 92,
      "outputs": []
    },
    {
      "cell_type": "code",
      "metadata": {
        "id": "tUKKsBVifWcs",
        "outputId": "2f8eedf4-4fbf-40a0-a908-a977e5e5f0bd",
        "colab": {
          "base_uri": "https://localhost:8080/"
        }
      },
      "source": [
        "Data_table_1.shape"
      ],
      "execution_count": 49,
      "outputs": [
        {
          "output_type": "execute_result",
          "data": {
            "text/plain": [
              "(246847, 2)"
            ]
          },
          "metadata": {
            "tags": []
          },
          "execution_count": 49
        }
      ]
    },
    {
      "cell_type": "code",
      "metadata": {
        "id": "Q6nhZw3HfWZp",
        "outputId": "b09cb742-d82c-414b-bd3e-ad6665b7c39b",
        "colab": {
          "base_uri": "https://localhost:8080/"
        }
      },
      "source": [
        "Data_table_2.shape"
      ],
      "execution_count": 50,
      "outputs": [
        {
          "output_type": "execute_result",
          "data": {
            "text/plain": [
              "(7882037, 4)"
            ]
          },
          "metadata": {
            "tags": []
          },
          "execution_count": 50
        }
      ]
    },
    {
      "cell_type": "code",
      "metadata": {
        "id": "1usRJvuifWW8",
        "outputId": "45e888b6-2cc0-446b-d874-81eca9b9e887",
        "colab": {
          "base_uri": "https://localhost:8080/"
        }
      },
      "source": [
        "Data_table_3.shape"
      ],
      "execution_count": 51,
      "outputs": [
        {
          "output_type": "execute_result",
          "data": {
            "text/plain": [
              "(10004357, 3)"
            ]
          },
          "metadata": {
            "tags": []
          },
          "execution_count": 51
        }
      ]
    },
    {
      "cell_type": "code",
      "metadata": {
        "id": "khtI84digo_4",
        "outputId": "dcdb529b-86d2-46e3-822f-fa3898292f3d",
        "colab": {
          "base_uri": "https://localhost:8080/",
          "height": 407
        }
      },
      "source": [
        "merged_table_1 = Data_table_2_nm.merge(Data_table_1,how='left',left_on='business_id',right_on='id') #how=กำหนดตารางหลัก left_on ข้อมูลที่ตรงกันสอดคล้องกันนำมารวมกัน\n",
        "merged_table_1 #รวมตารางของชุดข้อมูล1และชุดข้อมูล2"
      ],
      "execution_count": 61,
      "outputs": [
        {
          "output_type": "execute_result",
          "data": {
            "text/html": [
              "<div>\n",
              "<style scoped>\n",
              "    .dataframe tbody tr th:only-of-type {\n",
              "        vertical-align: middle;\n",
              "    }\n",
              "\n",
              "    .dataframe tbody tr th {\n",
              "        vertical-align: top;\n",
              "    }\n",
              "\n",
              "    .dataframe thead th {\n",
              "        text-align: right;\n",
              "    }\n",
              "</style>\n",
              "<table border=\"1\" class=\"dataframe\">\n",
              "  <thead>\n",
              "    <tr style=\"text-align: right;\">\n",
              "      <th></th>\n",
              "      <th>click_timestamp</th>\n",
              "      <th>search_id</th>\n",
              "      <th>business_id</th>\n",
              "      <th>ads</th>\n",
              "      <th>id</th>\n",
              "      <th>category_name</th>\n",
              "    </tr>\n",
              "  </thead>\n",
              "  <tbody>\n",
              "    <tr>\n",
              "      <th>0</th>\n",
              "      <td>2018-06-15 05:11:38.914154</td>\n",
              "      <td>5c004472-5ecc-4159-9698-9f329b8e26e1</td>\n",
              "      <td>298839.0</td>\n",
              "      <td>True</td>\n",
              "      <td>298839</td>\n",
              "      <td>Seafood</td>\n",
              "    </tr>\n",
              "    <tr>\n",
              "      <th>1</th>\n",
              "      <td>2018-06-15 06:30:51.277476</td>\n",
              "      <td>5f34eca0-c04e-4c10-b600-54aa447dbd8e</td>\n",
              "      <td>171372.0</td>\n",
              "      <td>True</td>\n",
              "      <td>171372</td>\n",
              "      <td>Japanese</td>\n",
              "    </tr>\n",
              "    <tr>\n",
              "      <th>2</th>\n",
              "      <td>2018-06-15 06:32:09.558025</td>\n",
              "      <td>8dc6d1f0-11f1-4239-9dd2-5c1674c81224</td>\n",
              "      <td>16157.0</td>\n",
              "      <td>True</td>\n",
              "      <td>16157</td>\n",
              "      <td>Cafe</td>\n",
              "    </tr>\n",
              "    <tr>\n",
              "      <th>3</th>\n",
              "      <td>2018-06-15 06:00:59.820390</td>\n",
              "      <td>1a5810e9-3d1f-44b9-9a2e-26ede21c524b</td>\n",
              "      <td>89741.0</td>\n",
              "      <td>True</td>\n",
              "      <td>89741</td>\n",
              "      <td>Dim Sum</td>\n",
              "    </tr>\n",
              "    <tr>\n",
              "      <th>4</th>\n",
              "      <td>2018-06-15 05:23:36.828525</td>\n",
              "      <td>6bc75e0d-fc65-471e-9926-ff6be6708639</td>\n",
              "      <td>189564.0</td>\n",
              "      <td>True</td>\n",
              "      <td>189564</td>\n",
              "      <td>Japanese</td>\n",
              "    </tr>\n",
              "    <tr>\n",
              "      <th>...</th>\n",
              "      <td>...</td>\n",
              "      <td>...</td>\n",
              "      <td>...</td>\n",
              "      <td>...</td>\n",
              "      <td>...</td>\n",
              "      <td>...</td>\n",
              "    </tr>\n",
              "    <tr>\n",
              "      <th>7880116</th>\n",
              "      <td>2018-06-28 01:59:10.893735</td>\n",
              "      <td>9ecd2dc1-b6f6-486d-b751-33eb16c53951</td>\n",
              "      <td>16614.0</td>\n",
              "      <td>True</td>\n",
              "      <td>16614</td>\n",
              "      <td>Healthy Food</td>\n",
              "    </tr>\n",
              "    <tr>\n",
              "      <th>7880117</th>\n",
              "      <td>2018-06-28 01:59:11.085196</td>\n",
              "      <td>9ecd2dc1-b6f6-486d-b751-33eb16c53951</td>\n",
              "      <td>16614.0</td>\n",
              "      <td>True</td>\n",
              "      <td>16614</td>\n",
              "      <td>Healthy Food</td>\n",
              "    </tr>\n",
              "    <tr>\n",
              "      <th>7880118</th>\n",
              "      <td>2018-06-28 06:49:02.493141</td>\n",
              "      <td>d086453d-7fde-4766-af39-8205f0f0a4aa</td>\n",
              "      <td>19569.0</td>\n",
              "      <td>True</td>\n",
              "      <td>19569</td>\n",
              "      <td>Cafe</td>\n",
              "    </tr>\n",
              "    <tr>\n",
              "      <th>7880119</th>\n",
              "      <td>2018-06-28 06:36:02.865507</td>\n",
              "      <td>d157eba1-15e6-4f7a-b090-27a311d976a0</td>\n",
              "      <td>227719.0</td>\n",
              "      <td>True</td>\n",
              "      <td>227719</td>\n",
              "      <td>Thai</td>\n",
              "    </tr>\n",
              "    <tr>\n",
              "      <th>7880120</th>\n",
              "      <td>2018-06-28 06:20:35.249050</td>\n",
              "      <td>fb09595c-26cf-4bf3-a51b-1a9b4dd2fe50</td>\n",
              "      <td>316442.0</td>\n",
              "      <td>True</td>\n",
              "      <td>316442</td>\n",
              "      <td>Vegeterian</td>\n",
              "    </tr>\n",
              "  </tbody>\n",
              "</table>\n",
              "<p>7880121 rows × 6 columns</p>\n",
              "</div>"
            ],
            "text/plain": [
              "                    click_timestamp  ... category_name\n",
              "0        2018-06-15 05:11:38.914154  ...       Seafood\n",
              "1        2018-06-15 06:30:51.277476  ...      Japanese\n",
              "2        2018-06-15 06:32:09.558025  ...          Cafe\n",
              "3        2018-06-15 06:00:59.820390  ...       Dim Sum\n",
              "4        2018-06-15 05:23:36.828525  ...      Japanese\n",
              "...                             ...  ...           ...\n",
              "7880116  2018-06-28 01:59:10.893735  ...  Healthy Food\n",
              "7880117  2018-06-28 01:59:11.085196  ...  Healthy Food\n",
              "7880118  2018-06-28 06:49:02.493141  ...          Cafe\n",
              "7880119  2018-06-28 06:36:02.865507  ...          Thai\n",
              "7880120  2018-06-28 06:20:35.249050  ...    Vegeterian\n",
              "\n",
              "[7880121 rows x 6 columns]"
            ]
          },
          "metadata": {
            "tags": []
          },
          "execution_count": 61
        }
      ]
    },
    {
      "cell_type": "code",
      "metadata": {
        "id": "oFStSCltgo9D",
        "outputId": "759cd31a-2cad-46dd-dbe0-b952bf239d35",
        "colab": {
          "base_uri": "https://localhost:8080/",
          "height": 407
        }
      },
      "source": [
        "merged_table_2 = Data_table_3_nm.merge(merged_table_1,how='left',left_on='search_id',right_on='search_id') #how=กำหนดตารางหลัก left_on ข้อมูลที่ตรงกันสอดคล้องกันนำมารวมกัน\n",
        "merged_table_2 #รวมตารางของชุดข้อมูล merged_table_1 และชุดข้อมูล3"
      ],
      "execution_count": 93,
      "outputs": [
        {
          "output_type": "execute_result",
          "data": {
            "text/html": [
              "<div>\n",
              "<style scoped>\n",
              "    .dataframe tbody tr th:only-of-type {\n",
              "        vertical-align: middle;\n",
              "    }\n",
              "\n",
              "    .dataframe tbody tr th {\n",
              "        vertical-align: top;\n",
              "    }\n",
              "\n",
              "    .dataframe thead th {\n",
              "        text-align: right;\n",
              "    }\n",
              "</style>\n",
              "<table border=\"1\" class=\"dataframe\">\n",
              "  <thead>\n",
              "    <tr style=\"text-align: right;\">\n",
              "      <th></th>\n",
              "      <th>search_id</th>\n",
              "      <th>long</th>\n",
              "      <th>lat</th>\n",
              "      <th>click_timestamp</th>\n",
              "      <th>business_id</th>\n",
              "      <th>ads</th>\n",
              "      <th>id</th>\n",
              "      <th>category_name</th>\n",
              "    </tr>\n",
              "  </thead>\n",
              "  <tbody>\n",
              "    <tr>\n",
              "      <th>0</th>\n",
              "      <td>683de889-f923-494e-9d46-44a3d67b7259</td>\n",
              "      <td>101.463</td>\n",
              "      <td>12.6347</td>\n",
              "      <td>NaN</td>\n",
              "      <td>NaN</td>\n",
              "      <td>NaN</td>\n",
              "      <td>NaN</td>\n",
              "      <td>NaN</td>\n",
              "    </tr>\n",
              "    <tr>\n",
              "      <th>1</th>\n",
              "      <td>4a811230-ffa4-4631-a4c8-5d0394137d02</td>\n",
              "      <td>102.534</td>\n",
              "      <td>14.8009</td>\n",
              "      <td>NaN</td>\n",
              "      <td>NaN</td>\n",
              "      <td>NaN</td>\n",
              "      <td>NaN</td>\n",
              "      <td>NaN</td>\n",
              "    </tr>\n",
              "    <tr>\n",
              "      <th>2</th>\n",
              "      <td>7ad6ee8e-438e-4bea-9183-74dcef9e358e</td>\n",
              "      <td>100.371</td>\n",
              "      <td>13.7383</td>\n",
              "      <td>NaN</td>\n",
              "      <td>NaN</td>\n",
              "      <td>NaN</td>\n",
              "      <td>NaN</td>\n",
              "      <td>NaN</td>\n",
              "    </tr>\n",
              "    <tr>\n",
              "      <th>3</th>\n",
              "      <td>0c17a5f5-fa89-40f4-ae94-a8659268f827</td>\n",
              "      <td>101.861</td>\n",
              "      <td>12.6669</td>\n",
              "      <td>NaN</td>\n",
              "      <td>NaN</td>\n",
              "      <td>NaN</td>\n",
              "      <td>NaN</td>\n",
              "      <td>NaN</td>\n",
              "    </tr>\n",
              "    <tr>\n",
              "      <th>4</th>\n",
              "      <td>6870dc3a-5602-44fc-80ed-df0a7783df9d</td>\n",
              "      <td>99.88</td>\n",
              "      <td>12.2372</td>\n",
              "      <td>NaN</td>\n",
              "      <td>NaN</td>\n",
              "      <td>NaN</td>\n",
              "      <td>NaN</td>\n",
              "      <td>NaN</td>\n",
              "    </tr>\n",
              "    <tr>\n",
              "      <th>...</th>\n",
              "      <td>...</td>\n",
              "      <td>...</td>\n",
              "      <td>...</td>\n",
              "      <td>...</td>\n",
              "      <td>...</td>\n",
              "      <td>...</td>\n",
              "      <td>...</td>\n",
              "      <td>...</td>\n",
              "    </tr>\n",
              "    <tr>\n",
              "      <th>8498561</th>\n",
              "      <td>07969762-9971-4170-98cc-c168966be4d8</td>\n",
              "      <td>100.911</td>\n",
              "      <td>13.2897</td>\n",
              "      <td>2018-06-02 14:32:31.433809</td>\n",
              "      <td>205259.0</td>\n",
              "      <td>False</td>\n",
              "      <td>205259.0</td>\n",
              "      <td>Bakery/Cake</td>\n",
              "    </tr>\n",
              "    <tr>\n",
              "      <th>8498562</th>\n",
              "      <td>07969762-9971-4170-98cc-c168966be4d8</td>\n",
              "      <td>100.911</td>\n",
              "      <td>13.2897</td>\n",
              "      <td>2018-06-02 14:32:02.551259</td>\n",
              "      <td>205259.0</td>\n",
              "      <td>False</td>\n",
              "      <td>205259.0</td>\n",
              "      <td>Bakery/Cake</td>\n",
              "    </tr>\n",
              "    <tr>\n",
              "      <th>8498563</th>\n",
              "      <td>07969762-9971-4170-98cc-c168966be4d8</td>\n",
              "      <td>100.911</td>\n",
              "      <td>13.2897</td>\n",
              "      <td>2018-06-02 14:32:02.459278</td>\n",
              "      <td>205259.0</td>\n",
              "      <td>False</td>\n",
              "      <td>205259.0</td>\n",
              "      <td>Bakery/Cake</td>\n",
              "    </tr>\n",
              "    <tr>\n",
              "      <th>8498564</th>\n",
              "      <td>96bb951c-bb78-414c-8b0f-2cf5f4a9fc96</td>\n",
              "      <td>100.911</td>\n",
              "      <td>13.2897</td>\n",
              "      <td>NaN</td>\n",
              "      <td>NaN</td>\n",
              "      <td>NaN</td>\n",
              "      <td>NaN</td>\n",
              "      <td>NaN</td>\n",
              "    </tr>\n",
              "    <tr>\n",
              "      <th>8498565</th>\n",
              "      <td>acc69eff-09a9-4f97-9fd2-2568c16a5dd9</td>\n",
              "      <td>100.911</td>\n",
              "      <td>13.2897</td>\n",
              "      <td>2018-06-02 14:30:50.425805</td>\n",
              "      <td>153684.0</td>\n",
              "      <td>False</td>\n",
              "      <td>153684.0</td>\n",
              "      <td>Quick Meal</td>\n",
              "    </tr>\n",
              "  </tbody>\n",
              "</table>\n",
              "<p>8498566 rows × 8 columns</p>\n",
              "</div>"
            ],
            "text/plain": [
              "                                    search_id     long  ...        id category_name\n",
              "0        683de889-f923-494e-9d46-44a3d67b7259  101.463  ...       NaN           NaN\n",
              "1        4a811230-ffa4-4631-a4c8-5d0394137d02  102.534  ...       NaN           NaN\n",
              "2        7ad6ee8e-438e-4bea-9183-74dcef9e358e  100.371  ...       NaN           NaN\n",
              "3        0c17a5f5-fa89-40f4-ae94-a8659268f827  101.861  ...       NaN           NaN\n",
              "4        6870dc3a-5602-44fc-80ed-df0a7783df9d    99.88  ...       NaN           NaN\n",
              "...                                       ...      ...  ...       ...           ...\n",
              "8498561  07969762-9971-4170-98cc-c168966be4d8  100.911  ...  205259.0   Bakery/Cake\n",
              "8498562  07969762-9971-4170-98cc-c168966be4d8  100.911  ...  205259.0   Bakery/Cake\n",
              "8498563  07969762-9971-4170-98cc-c168966be4d8  100.911  ...  205259.0   Bakery/Cake\n",
              "8498564  96bb951c-bb78-414c-8b0f-2cf5f4a9fc96  100.911  ...       NaN           NaN\n",
              "8498565  acc69eff-09a9-4f97-9fd2-2568c16a5dd9  100.911  ...  153684.0    Quick Meal\n",
              "\n",
              "[8498566 rows x 8 columns]"
            ]
          },
          "metadata": {
            "tags": []
          },
          "execution_count": 93
        }
      ]
    },
    {
      "cell_type": "code",
      "metadata": {
        "id": "owILydh_go64",
        "outputId": "5f24493e-c8c2-4eb1-cc17-d9ba07a3de1e",
        "colab": {
          "base_uri": "https://localhost:8080/"
        }
      },
      "source": [
        "merged_table_2.isnull()\n",
        "merged_table_2.isnull().any()"
      ],
      "execution_count": 94,
      "outputs": [
        {
          "output_type": "execute_result",
          "data": {
            "text/plain": [
              "search_id          False\n",
              "long               False\n",
              "lat                False\n",
              "click_timestamp     True\n",
              "business_id         True\n",
              "ads                 True\n",
              "id                  True\n",
              "category_name       True\n",
              "dtype: bool"
            ]
          },
          "metadata": {
            "tags": []
          },
          "execution_count": 94
        }
      ]
    },
    {
      "cell_type": "code",
      "metadata": {
        "id": "5yKvhLxDgo1x"
      },
      "source": [
        "merged_table_2_nm = merged_table_2.dropna()"
      ],
      "execution_count": 95,
      "outputs": []
    },
    {
      "cell_type": "code",
      "metadata": {
        "id": "4alUsx8fgoy5",
        "outputId": "38904fb2-83f8-41d5-c4d8-fde9b71d2d57",
        "colab": {
          "base_uri": "https://localhost:8080/"
        }
      },
      "source": [
        "merged_table_2_nm.isnull()\n",
        "merged_table_2_nm.isnull().any()"
      ],
      "execution_count": 96,
      "outputs": [
        {
          "output_type": "execute_result",
          "data": {
            "text/plain": [
              "search_id          False\n",
              "long               False\n",
              "lat                False\n",
              "click_timestamp    False\n",
              "business_id        False\n",
              "ads                False\n",
              "id                 False\n",
              "category_name      False\n",
              "dtype: bool"
            ]
          },
          "metadata": {
            "tags": []
          },
          "execution_count": 96
        }
      ]
    },
    {
      "cell_type": "code",
      "metadata": {
        "id": "ZrOgQZFEgowO",
        "outputId": "47251a06-30aa-4515-cb24-a276f23b1150",
        "colab": {
          "base_uri": "https://localhost:8080/",
          "height": 407
        }
      },
      "source": [
        "merged_table_2_nm"
      ],
      "execution_count": 97,
      "outputs": [
        {
          "output_type": "execute_result",
          "data": {
            "text/html": [
              "<div>\n",
              "<style scoped>\n",
              "    .dataframe tbody tr th:only-of-type {\n",
              "        vertical-align: middle;\n",
              "    }\n",
              "\n",
              "    .dataframe tbody tr th {\n",
              "        vertical-align: top;\n",
              "    }\n",
              "\n",
              "    .dataframe thead th {\n",
              "        text-align: right;\n",
              "    }\n",
              "</style>\n",
              "<table border=\"1\" class=\"dataframe\">\n",
              "  <thead>\n",
              "    <tr style=\"text-align: right;\">\n",
              "      <th></th>\n",
              "      <th>search_id</th>\n",
              "      <th>long</th>\n",
              "      <th>lat</th>\n",
              "      <th>click_timestamp</th>\n",
              "      <th>business_id</th>\n",
              "      <th>ads</th>\n",
              "      <th>id</th>\n",
              "      <th>category_name</th>\n",
              "    </tr>\n",
              "  </thead>\n",
              "  <tbody>\n",
              "    <tr>\n",
              "      <th>6</th>\n",
              "      <td>3ecf13ba-be4d-4eb9-9374-a1cca09d1614</td>\n",
              "      <td>102.249</td>\n",
              "      <td>12.4511</td>\n",
              "      <td>2018-06-22 11:28:13.569015</td>\n",
              "      <td>335648.0</td>\n",
              "      <td>False</td>\n",
              "      <td>335648.0</td>\n",
              "      <td>Thai</td>\n",
              "    </tr>\n",
              "    <tr>\n",
              "      <th>7</th>\n",
              "      <td>a7e6b7c5-3d3c-4337-8337-d29c5346b686</td>\n",
              "      <td>100.433</td>\n",
              "      <td>13.6409</td>\n",
              "      <td>2018-06-22 09:19:48.488849</td>\n",
              "      <td>125106.0</td>\n",
              "      <td>False</td>\n",
              "      <td>125106.0</td>\n",
              "      <td>Chinese</td>\n",
              "    </tr>\n",
              "    <tr>\n",
              "      <th>8</th>\n",
              "      <td>a7e6b7c5-3d3c-4337-8337-d29c5346b686</td>\n",
              "      <td>100.433</td>\n",
              "      <td>13.6409</td>\n",
              "      <td>2018-06-22 09:20:58.041008</td>\n",
              "      <td>243452.0</td>\n",
              "      <td>False</td>\n",
              "      <td>243452.0</td>\n",
              "      <td>Noodles</td>\n",
              "    </tr>\n",
              "    <tr>\n",
              "      <th>9</th>\n",
              "      <td>02fedb5c-c9cd-46d7-9354-7613ecb7cfdd</td>\n",
              "      <td>100.527</td>\n",
              "      <td>13.7209</td>\n",
              "      <td>2018-06-22 12:22:20.098172</td>\n",
              "      <td>311384.0</td>\n",
              "      <td>False</td>\n",
              "      <td>311384.0</td>\n",
              "      <td>Vietnam</td>\n",
              "    </tr>\n",
              "    <tr>\n",
              "      <th>10</th>\n",
              "      <td>e215d487-0450-4794-830a-ecfc0ab6493b</td>\n",
              "      <td>100.527</td>\n",
              "      <td>13.7208</td>\n",
              "      <td>2018-06-22 12:15:28.397920</td>\n",
              "      <td>85155.0</td>\n",
              "      <td>False</td>\n",
              "      <td>85155.0</td>\n",
              "      <td>Café/Coffee Shop</td>\n",
              "    </tr>\n",
              "    <tr>\n",
              "      <th>...</th>\n",
              "      <td>...</td>\n",
              "      <td>...</td>\n",
              "      <td>...</td>\n",
              "      <td>...</td>\n",
              "      <td>...</td>\n",
              "      <td>...</td>\n",
              "      <td>...</td>\n",
              "      <td>...</td>\n",
              "    </tr>\n",
              "    <tr>\n",
              "      <th>8498560</th>\n",
              "      <td>07969762-9971-4170-98cc-c168966be4d8</td>\n",
              "      <td>100.911</td>\n",
              "      <td>13.2897</td>\n",
              "      <td>2018-06-02 14:32:26.901020</td>\n",
              "      <td>303769.0</td>\n",
              "      <td>False</td>\n",
              "      <td>303769.0</td>\n",
              "      <td>Street Food/Food Stands</td>\n",
              "    </tr>\n",
              "    <tr>\n",
              "      <th>8498561</th>\n",
              "      <td>07969762-9971-4170-98cc-c168966be4d8</td>\n",
              "      <td>100.911</td>\n",
              "      <td>13.2897</td>\n",
              "      <td>2018-06-02 14:32:31.433809</td>\n",
              "      <td>205259.0</td>\n",
              "      <td>False</td>\n",
              "      <td>205259.0</td>\n",
              "      <td>Bakery/Cake</td>\n",
              "    </tr>\n",
              "    <tr>\n",
              "      <th>8498562</th>\n",
              "      <td>07969762-9971-4170-98cc-c168966be4d8</td>\n",
              "      <td>100.911</td>\n",
              "      <td>13.2897</td>\n",
              "      <td>2018-06-02 14:32:02.551259</td>\n",
              "      <td>205259.0</td>\n",
              "      <td>False</td>\n",
              "      <td>205259.0</td>\n",
              "      <td>Bakery/Cake</td>\n",
              "    </tr>\n",
              "    <tr>\n",
              "      <th>8498563</th>\n",
              "      <td>07969762-9971-4170-98cc-c168966be4d8</td>\n",
              "      <td>100.911</td>\n",
              "      <td>13.2897</td>\n",
              "      <td>2018-06-02 14:32:02.459278</td>\n",
              "      <td>205259.0</td>\n",
              "      <td>False</td>\n",
              "      <td>205259.0</td>\n",
              "      <td>Bakery/Cake</td>\n",
              "    </tr>\n",
              "    <tr>\n",
              "      <th>8498565</th>\n",
              "      <td>acc69eff-09a9-4f97-9fd2-2568c16a5dd9</td>\n",
              "      <td>100.911</td>\n",
              "      <td>13.2897</td>\n",
              "      <td>2018-06-02 14:30:50.425805</td>\n",
              "      <td>153684.0</td>\n",
              "      <td>False</td>\n",
              "      <td>153684.0</td>\n",
              "      <td>Quick Meal</td>\n",
              "    </tr>\n",
              "  </tbody>\n",
              "</table>\n",
              "<p>2549987 rows × 8 columns</p>\n",
              "</div>"
            ],
            "text/plain": [
              "                                    search_id  ...            category_name\n",
              "6        3ecf13ba-be4d-4eb9-9374-a1cca09d1614  ...                     Thai\n",
              "7        a7e6b7c5-3d3c-4337-8337-d29c5346b686  ...                  Chinese\n",
              "8        a7e6b7c5-3d3c-4337-8337-d29c5346b686  ...                  Noodles\n",
              "9        02fedb5c-c9cd-46d7-9354-7613ecb7cfdd  ...                  Vietnam\n",
              "10       e215d487-0450-4794-830a-ecfc0ab6493b  ...         Café/Coffee Shop\n",
              "...                                       ...  ...                      ...\n",
              "8498560  07969762-9971-4170-98cc-c168966be4d8  ...  Street Food/Food Stands\n",
              "8498561  07969762-9971-4170-98cc-c168966be4d8  ...              Bakery/Cake\n",
              "8498562  07969762-9971-4170-98cc-c168966be4d8  ...              Bakery/Cake\n",
              "8498563  07969762-9971-4170-98cc-c168966be4d8  ...              Bakery/Cake\n",
              "8498565  acc69eff-09a9-4f97-9fd2-2568c16a5dd9  ...               Quick Meal\n",
              "\n",
              "[2549987 rows x 8 columns]"
            ]
          },
          "metadata": {
            "tags": []
          },
          "execution_count": 97
        }
      ]
    },
    {
      "cell_type": "code",
      "metadata": {
        "id": "-sL6ugPcFCtK"
      },
      "source": [
        "#เมื่อได้ตารางข้อมูลที่ไม่มี missing แล้ว จากนั้นวิเคราห์โค้ดที่ให้มาว่าจะเป็นร้านอาหารเมื่อไหร่\n",
        "# นำไปวิเคราะห์การพยากรณ์ด้วย (Classification) ด้วยวิธี knn"
      ],
      "execution_count": null,
      "outputs": []
    },
    {
      "cell_type": "code",
      "metadata": {
        "id": "xfE9WuC98U3-"
      },
      "source": [
        "import datetime\n",
        "def extract_time(datetime_s):\n",
        "    EX_date = datetime.datetime.strptime(datetime_s, \"%Y-%m-%d %H:%M:%S.%f\")\n",
        "    return EX_date.hour, EX_date.day, get_day(EX_date.weekday()) \n",
        "\n",
        "def get_day(D):\n",
        "    weekdays = ['Monday','Tuesday','Wednesday','Thursday','Friday','Saturday','Sunday']\n",
        "    return weekdays[D] \n",
        "\n",
        "def is_food(inp):\n",
        "    food_list = ['Vegeterian','Sushi','Sukiyaki/Shabu','Street Food/Food Stands','Steak House/Barbeque','Southern Food','Seafood','Ramen','Quick Meal','Pizza','Northern Food','Noodles','Mexican','Korean',\n",
        "             'Japanese','Italian','Izakaya','Healthy Food','German Food','Fusion Food','French','Food Truck','Fastfood','Dim Sum','Delivery Only','Chinese','Cafe','Café/Coffee Shop','Buffet',\n",
        "             'Breakfast/Brunch','Bakery/Cake','Barbeque/Grill','American']\n",
        "    return inp in food_list"
      ],
      "execution_count": 82,
      "outputs": []
    },
    {
      "cell_type": "code",
      "metadata": {
        "id": "Xb8OUo4bFzcA"
      },
      "source": [
        "# วิเคราะห์ X_train Y_train X_test Y_test จากนั้นทำ kkn ตามด้านล่าง"
      ],
      "execution_count": null,
      "outputs": []
    },
    {
      "cell_type": "markdown",
      "metadata": {
        "id": "yFfP36KCHZaj"
      },
      "source": [
        "#K-nearest neighbors ¶¶¶\n",
        "\n",
        "##-Import\n",
        "\n",
        "##-Define\n",
        "\n",
        "##-Train (fit)\n",
        "\n",
        "##-Test\n",
        "\n",
        "##-Evaluate"
      ]
    },
    {
      "cell_type": "code",
      "metadata": {
        "id": "R8psBNzzH5Nu"
      },
      "source": [
        "#วิเคราะห์  Train (fit) ที่ดีที่สุดจากนั้นเลือกมา Test "
      ],
      "execution_count": null,
      "outputs": []
    },
    {
      "cell_type": "markdown",
      "metadata": {
        "id": "EfVT8dfssusC"
      },
      "source": [
        "##จากข้อมูล (reduced_marketbasket.csv) ใน http://qr.tebs.io/TTGDFf ให้เปรียบเทียบ รูปแบบ การซื้อที่น่าสนใจเป็นราย Transaction ของประชากรใน ประเทศ United Kingdom กับ ประเทศอื่นๆ ('Country'!='United Kingdom')\n",
        "(40 คะแนน)"
      ]
    },
    {
      "cell_type": "code",
      "metadata": {
        "id": "WjaciFsA6pzx"
      },
      "source": [
        "path = '/content/drive/My Drive/DWDM_material'"
      ],
      "execution_count": 63,
      "outputs": []
    },
    {
      "cell_type": "code",
      "metadata": {
        "id": "Piz5LehntIuy",
        "outputId": "7ca58d2e-8675-4c67-f640-ed19eccd5518",
        "colab": {
          "base_uri": "https://localhost:8080/",
          "height": 407
        }
      },
      "source": [
        "data = pd.read_csv(os.path.join(path,'reduced_marketbasket.csv'),encoding='latin1')\n",
        "data"
      ],
      "execution_count": 64,
      "outputs": [
        {
          "output_type": "execute_result",
          "data": {
            "text/html": [
              "<div>\n",
              "<style scoped>\n",
              "    .dataframe tbody tr th:only-of-type {\n",
              "        vertical-align: middle;\n",
              "    }\n",
              "\n",
              "    .dataframe tbody tr th {\n",
              "        vertical-align: top;\n",
              "    }\n",
              "\n",
              "    .dataframe thead th {\n",
              "        text-align: right;\n",
              "    }\n",
              "</style>\n",
              "<table border=\"1\" class=\"dataframe\">\n",
              "  <thead>\n",
              "    <tr style=\"text-align: right;\">\n",
              "      <th></th>\n",
              "      <th>InvoiceNo</th>\n",
              "      <th>StockCode</th>\n",
              "      <th>Description</th>\n",
              "      <th>Quantity</th>\n",
              "      <th>InvoiceDate</th>\n",
              "      <th>UnitPrice</th>\n",
              "      <th>CustomerID</th>\n",
              "      <th>Country</th>\n",
              "    </tr>\n",
              "  </thead>\n",
              "  <tbody>\n",
              "    <tr>\n",
              "      <th>0</th>\n",
              "      <td>536365</td>\n",
              "      <td>85123A</td>\n",
              "      <td>WHITE HANGING HEART T-LIGHT HOLDER</td>\n",
              "      <td>6</td>\n",
              "      <td>12/01/2010 08:26</td>\n",
              "      <td>2.55</td>\n",
              "      <td>17850.0</td>\n",
              "      <td>United Kingdom</td>\n",
              "    </tr>\n",
              "    <tr>\n",
              "      <th>1</th>\n",
              "      <td>536365</td>\n",
              "      <td>71053</td>\n",
              "      <td>WHITE METAL LANTERN</td>\n",
              "      <td>6</td>\n",
              "      <td>12/01/2010 08:26</td>\n",
              "      <td>3.39</td>\n",
              "      <td>17850.0</td>\n",
              "      <td>United Kingdom</td>\n",
              "    </tr>\n",
              "    <tr>\n",
              "      <th>2</th>\n",
              "      <td>536365</td>\n",
              "      <td>84406B</td>\n",
              "      <td>CREAM CUPID HEARTS COAT HANGER</td>\n",
              "      <td>8</td>\n",
              "      <td>12/01/2010 08:26</td>\n",
              "      <td>2.75</td>\n",
              "      <td>17850.0</td>\n",
              "      <td>United Kingdom</td>\n",
              "    </tr>\n",
              "    <tr>\n",
              "      <th>3</th>\n",
              "      <td>536365</td>\n",
              "      <td>84029G</td>\n",
              "      <td>KNITTED UNION FLAG HOT WATER BOTTLE</td>\n",
              "      <td>6</td>\n",
              "      <td>12/01/2010 08:26</td>\n",
              "      <td>3.39</td>\n",
              "      <td>17850.0</td>\n",
              "      <td>United Kingdom</td>\n",
              "    </tr>\n",
              "    <tr>\n",
              "      <th>4</th>\n",
              "      <td>536365</td>\n",
              "      <td>84029E</td>\n",
              "      <td>RED WOOLLY HOTTIE WHITE HEART.</td>\n",
              "      <td>6</td>\n",
              "      <td>12/01/2010 08:26</td>\n",
              "      <td>3.39</td>\n",
              "      <td>17850.0</td>\n",
              "      <td>United Kingdom</td>\n",
              "    </tr>\n",
              "    <tr>\n",
              "      <th>...</th>\n",
              "      <td>...</td>\n",
              "      <td>...</td>\n",
              "      <td>...</td>\n",
              "      <td>...</td>\n",
              "      <td>...</td>\n",
              "      <td>...</td>\n",
              "      <td>...</td>\n",
              "      <td>...</td>\n",
              "    </tr>\n",
              "    <tr>\n",
              "      <th>541904</th>\n",
              "      <td>581587</td>\n",
              "      <td>22613</td>\n",
              "      <td>PACK OF 20 SPACEBOY NAPKINS</td>\n",
              "      <td>12</td>\n",
              "      <td>12/09/2011 12:50</td>\n",
              "      <td>0.85</td>\n",
              "      <td>12680.0</td>\n",
              "      <td>France</td>\n",
              "    </tr>\n",
              "    <tr>\n",
              "      <th>541905</th>\n",
              "      <td>581587</td>\n",
              "      <td>22899</td>\n",
              "      <td>CHILDREN'S APRON DOLLY GIRL</td>\n",
              "      <td>6</td>\n",
              "      <td>12/09/2011 12:50</td>\n",
              "      <td>2.10</td>\n",
              "      <td>12680.0</td>\n",
              "      <td>France</td>\n",
              "    </tr>\n",
              "    <tr>\n",
              "      <th>541906</th>\n",
              "      <td>581587</td>\n",
              "      <td>23254</td>\n",
              "      <td>CHILDRENS CUTLERY DOLLY GIRL</td>\n",
              "      <td>4</td>\n",
              "      <td>12/09/2011 12:50</td>\n",
              "      <td>4.15</td>\n",
              "      <td>12680.0</td>\n",
              "      <td>France</td>\n",
              "    </tr>\n",
              "    <tr>\n",
              "      <th>541907</th>\n",
              "      <td>581587</td>\n",
              "      <td>23255</td>\n",
              "      <td>CHILDRENS CUTLERY CIRCUS PARADE</td>\n",
              "      <td>4</td>\n",
              "      <td>12/09/2011 12:50</td>\n",
              "      <td>4.15</td>\n",
              "      <td>12680.0</td>\n",
              "      <td>France</td>\n",
              "    </tr>\n",
              "    <tr>\n",
              "      <th>541908</th>\n",
              "      <td>581587</td>\n",
              "      <td>22138</td>\n",
              "      <td>BAKING SET 9 PIECE RETROSPOT</td>\n",
              "      <td>3</td>\n",
              "      <td>12/09/2011 12:50</td>\n",
              "      <td>4.95</td>\n",
              "      <td>12680.0</td>\n",
              "      <td>France</td>\n",
              "    </tr>\n",
              "  </tbody>\n",
              "</table>\n",
              "<p>541909 rows × 8 columns</p>\n",
              "</div>"
            ],
            "text/plain": [
              "       InvoiceNo StockCode  ... CustomerID         Country\n",
              "0         536365    85123A  ...    17850.0  United Kingdom\n",
              "1         536365     71053  ...    17850.0  United Kingdom\n",
              "2         536365    84406B  ...    17850.0  United Kingdom\n",
              "3         536365    84029G  ...    17850.0  United Kingdom\n",
              "4         536365    84029E  ...    17850.0  United Kingdom\n",
              "...          ...       ...  ...        ...             ...\n",
              "541904    581587     22613  ...    12680.0          France\n",
              "541905    581587     22899  ...    12680.0          France\n",
              "541906    581587     23254  ...    12680.0          France\n",
              "541907    581587     23255  ...    12680.0          France\n",
              "541908    581587     22138  ...    12680.0          France\n",
              "\n",
              "[541909 rows x 8 columns]"
            ]
          },
          "metadata": {
            "tags": []
          },
          "execution_count": 64
        }
      ]
    },
    {
      "cell_type": "code",
      "metadata": {
        "id": "0qU0ddgksynn",
        "outputId": "475ff02c-3d13-443f-fab3-8b2bcdc4e02e",
        "colab": {
          "base_uri": "https://localhost:8080/",
          "height": 1000
        }
      },
      "source": [
        "data.groupby('Country').sum().sort_values('Quantity') #รวมกลุ่มของ Country และเรียงผลรวมของ Qountry"
      ],
      "execution_count": 65,
      "outputs": [
        {
          "output_type": "execute_result",
          "data": {
            "text/html": [
              "<div>\n",
              "<style scoped>\n",
              "    .dataframe tbody tr th:only-of-type {\n",
              "        vertical-align: middle;\n",
              "    }\n",
              "\n",
              "    .dataframe tbody tr th {\n",
              "        vertical-align: top;\n",
              "    }\n",
              "\n",
              "    .dataframe thead th {\n",
              "        text-align: right;\n",
              "    }\n",
              "</style>\n",
              "<table border=\"1\" class=\"dataframe\">\n",
              "  <thead>\n",
              "    <tr style=\"text-align: right;\">\n",
              "      <th></th>\n",
              "      <th>Quantity</th>\n",
              "      <th>UnitPrice</th>\n",
              "      <th>CustomerID</th>\n",
              "    </tr>\n",
              "    <tr>\n",
              "      <th>Country</th>\n",
              "      <th></th>\n",
              "      <th></th>\n",
              "      <th></th>\n",
              "    </tr>\n",
              "  </thead>\n",
              "  <tbody>\n",
              "    <tr>\n",
              "      <th>Saudi Arabia</th>\n",
              "      <td>75</td>\n",
              "      <td>2.411000e+01</td>\n",
              "      <td>1.256500e+05</td>\n",
              "    </tr>\n",
              "    <tr>\n",
              "      <th>Bahrain</th>\n",
              "      <td>260</td>\n",
              "      <td>8.657000e+01</td>\n",
              "      <td>2.100270e+05</td>\n",
              "    </tr>\n",
              "    <tr>\n",
              "      <th>RSA</th>\n",
              "      <td>352</td>\n",
              "      <td>2.481000e+02</td>\n",
              "      <td>7.218680e+05</td>\n",
              "    </tr>\n",
              "    <tr>\n",
              "      <th>Brazil</th>\n",
              "      <td>356</td>\n",
              "      <td>1.426000e+02</td>\n",
              "      <td>4.086080e+05</td>\n",
              "    </tr>\n",
              "    <tr>\n",
              "      <th>Lebanon</th>\n",
              "      <td>386</td>\n",
              "      <td>2.424400e+02</td>\n",
              "      <td>5.743800e+05</td>\n",
              "    </tr>\n",
              "    <tr>\n",
              "      <th>European Community</th>\n",
              "      <td>497</td>\n",
              "      <td>2.940500e+02</td>\n",
              "      <td>9.215880e+05</td>\n",
              "    </tr>\n",
              "    <tr>\n",
              "      <th>Czech Republic</th>\n",
              "      <td>592</td>\n",
              "      <td>8.815000e+01</td>\n",
              "      <td>3.834300e+05</td>\n",
              "    </tr>\n",
              "    <tr>\n",
              "      <th>Lithuania</th>\n",
              "      <td>652</td>\n",
              "      <td>9.944000e+01</td>\n",
              "      <td>5.366200e+05</td>\n",
              "    </tr>\n",
              "    <tr>\n",
              "      <th>Malta</th>\n",
              "      <td>944</td>\n",
              "      <td>6.660100e+02</td>\n",
              "      <td>2.158496e+06</td>\n",
              "    </tr>\n",
              "    <tr>\n",
              "      <th>United Arab Emirates</th>\n",
              "      <td>982</td>\n",
              "      <td>2.298900e+02</td>\n",
              "      <td>1.018952e+06</td>\n",
              "    </tr>\n",
              "    <tr>\n",
              "      <th>USA</th>\n",
              "      <td>1034</td>\n",
              "      <td>6.449800e+02</td>\n",
              "      <td>3.672086e+06</td>\n",
              "    </tr>\n",
              "    <tr>\n",
              "      <th>Greece</th>\n",
              "      <td>1556</td>\n",
              "      <td>7.132900e+02</td>\n",
              "      <td>2.008584e+06</td>\n",
              "    </tr>\n",
              "    <tr>\n",
              "      <th>Iceland</th>\n",
              "      <td>2458</td>\n",
              "      <td>4.812100e+02</td>\n",
              "      <td>2.247154e+06</td>\n",
              "    </tr>\n",
              "    <tr>\n",
              "      <th>Canada</th>\n",
              "      <td>2763</td>\n",
              "      <td>9.105800e+02</td>\n",
              "      <td>2.615483e+06</td>\n",
              "    </tr>\n",
              "    <tr>\n",
              "      <th>Unspecified</th>\n",
              "      <td>3300</td>\n",
              "      <td>1.204010e+03</td>\n",
              "      <td>3.348046e+06</td>\n",
              "    </tr>\n",
              "    <tr>\n",
              "      <th>Poland</th>\n",
              "      <td>3653</td>\n",
              "      <td>1.422270e+03</td>\n",
              "      <td>4.341972e+06</td>\n",
              "    </tr>\n",
              "    <tr>\n",
              "      <th>Israel</th>\n",
              "      <td>4353</td>\n",
              "      <td>1.079040e+03</td>\n",
              "      <td>3.164467e+06</td>\n",
              "    </tr>\n",
              "    <tr>\n",
              "      <th>Hong Kong</th>\n",
              "      <td>4769</td>\n",
              "      <td>1.224150e+04</td>\n",
              "      <td>0.000000e+00</td>\n",
              "    </tr>\n",
              "    <tr>\n",
              "      <th>Austria</th>\n",
              "      <td>4827</td>\n",
              "      <td>1.701520e+03</td>\n",
              "      <td>5.021102e+06</td>\n",
              "    </tr>\n",
              "    <tr>\n",
              "      <th>Singapore</th>\n",
              "      <td>5234</td>\n",
              "      <td>2.510889e+04</td>\n",
              "      <td>2.918376e+06</td>\n",
              "    </tr>\n",
              "    <tr>\n",
              "      <th>Cyprus</th>\n",
              "      <td>6317</td>\n",
              "      <td>3.920070e+03</td>\n",
              "      <td>7.715880e+06</td>\n",
              "    </tr>\n",
              "    <tr>\n",
              "      <th>Italy</th>\n",
              "      <td>7999</td>\n",
              "      <td>3.879390e+03</td>\n",
              "      <td>1.015666e+07</td>\n",
              "    </tr>\n",
              "    <tr>\n",
              "      <th>Denmark</th>\n",
              "      <td>8188</td>\n",
              "      <td>1.266950e+03</td>\n",
              "      <td>4.876734e+06</td>\n",
              "    </tr>\n",
              "    <tr>\n",
              "      <th>Channel Islands</th>\n",
              "      <td>9479</td>\n",
              "      <td>3.738550e+03</td>\n",
              "      <td>1.128522e+07</td>\n",
              "    </tr>\n",
              "    <tr>\n",
              "      <th>Finland</th>\n",
              "      <td>10666</td>\n",
              "      <td>3.786850e+03</td>\n",
              "      <td>8.699324e+06</td>\n",
              "    </tr>\n",
              "    <tr>\n",
              "      <th>Portugal</th>\n",
              "      <td>16180</td>\n",
              "      <td>1.303754e+04</td>\n",
              "      <td>1.886480e+07</td>\n",
              "    </tr>\n",
              "    <tr>\n",
              "      <th>Norway</th>\n",
              "      <td>19247</td>\n",
              "      <td>6.529060e+03</td>\n",
              "      <td>1.350765e+07</td>\n",
              "    </tr>\n",
              "    <tr>\n",
              "      <th>Belgium</th>\n",
              "      <td>23152</td>\n",
              "      <td>7.540130e+03</td>\n",
              "      <td>2.571829e+07</td>\n",
              "    </tr>\n",
              "    <tr>\n",
              "      <th>Japan</th>\n",
              "      <td>25218</td>\n",
              "      <td>8.148600e+02</td>\n",
              "      <td>4.567292e+06</td>\n",
              "    </tr>\n",
              "    <tr>\n",
              "      <th>Spain</th>\n",
              "      <td>26824</td>\n",
              "      <td>1.263345e+04</td>\n",
              "      <td>3.268929e+07</td>\n",
              "    </tr>\n",
              "    <tr>\n",
              "      <th>Switzerland</th>\n",
              "      <td>30325</td>\n",
              "      <td>6.813690e+03</td>\n",
              "      <td>2.377592e+07</td>\n",
              "    </tr>\n",
              "    <tr>\n",
              "      <th>Sweden</th>\n",
              "      <td>35637</td>\n",
              "      <td>1.806830e+03</td>\n",
              "      <td>6.790083e+06</td>\n",
              "    </tr>\n",
              "    <tr>\n",
              "      <th>Australia</th>\n",
              "      <td>83653</td>\n",
              "      <td>4.054750e+03</td>\n",
              "      <td>1.569300e+07</td>\n",
              "    </tr>\n",
              "    <tr>\n",
              "      <th>France</th>\n",
              "      <td>110480</td>\n",
              "      <td>4.303199e+04</td>\n",
              "      <td>1.076489e+08</td>\n",
              "    </tr>\n",
              "    <tr>\n",
              "      <th>Germany</th>\n",
              "      <td>117448</td>\n",
              "      <td>3.766600e+04</td>\n",
              "      <td>1.200751e+08</td>\n",
              "    </tr>\n",
              "    <tr>\n",
              "      <th>EIRE</th>\n",
              "      <td>142637</td>\n",
              "      <td>4.844719e+04</td>\n",
              "      <td>1.103917e+08</td>\n",
              "    </tr>\n",
              "    <tr>\n",
              "      <th>Netherlands</th>\n",
              "      <td>200128</td>\n",
              "      <td>6.492550e+03</td>\n",
              "      <td>3.419054e+07</td>\n",
              "    </tr>\n",
              "    <tr>\n",
              "      <th>United Kingdom</th>\n",
              "      <td>4263829</td>\n",
              "      <td>2.245715e+06</td>\n",
              "      <td>5.626433e+09</td>\n",
              "    </tr>\n",
              "  </tbody>\n",
              "</table>\n",
              "</div>"
            ],
            "text/plain": [
              "                      Quantity     UnitPrice    CustomerID\n",
              "Country                                                   \n",
              "Saudi Arabia                75  2.411000e+01  1.256500e+05\n",
              "Bahrain                    260  8.657000e+01  2.100270e+05\n",
              "RSA                        352  2.481000e+02  7.218680e+05\n",
              "Brazil                     356  1.426000e+02  4.086080e+05\n",
              "Lebanon                    386  2.424400e+02  5.743800e+05\n",
              "European Community         497  2.940500e+02  9.215880e+05\n",
              "Czech Republic             592  8.815000e+01  3.834300e+05\n",
              "Lithuania                  652  9.944000e+01  5.366200e+05\n",
              "Malta                      944  6.660100e+02  2.158496e+06\n",
              "United Arab Emirates       982  2.298900e+02  1.018952e+06\n",
              "USA                       1034  6.449800e+02  3.672086e+06\n",
              "Greece                    1556  7.132900e+02  2.008584e+06\n",
              "Iceland                   2458  4.812100e+02  2.247154e+06\n",
              "Canada                    2763  9.105800e+02  2.615483e+06\n",
              "Unspecified               3300  1.204010e+03  3.348046e+06\n",
              "Poland                    3653  1.422270e+03  4.341972e+06\n",
              "Israel                    4353  1.079040e+03  3.164467e+06\n",
              "Hong Kong                 4769  1.224150e+04  0.000000e+00\n",
              "Austria                   4827  1.701520e+03  5.021102e+06\n",
              "Singapore                 5234  2.510889e+04  2.918376e+06\n",
              "Cyprus                    6317  3.920070e+03  7.715880e+06\n",
              "Italy                     7999  3.879390e+03  1.015666e+07\n",
              "Denmark                   8188  1.266950e+03  4.876734e+06\n",
              "Channel Islands           9479  3.738550e+03  1.128522e+07\n",
              "Finland                  10666  3.786850e+03  8.699324e+06\n",
              "Portugal                 16180  1.303754e+04  1.886480e+07\n",
              "Norway                   19247  6.529060e+03  1.350765e+07\n",
              "Belgium                  23152  7.540130e+03  2.571829e+07\n",
              "Japan                    25218  8.148600e+02  4.567292e+06\n",
              "Spain                    26824  1.263345e+04  3.268929e+07\n",
              "Switzerland              30325  6.813690e+03  2.377592e+07\n",
              "Sweden                   35637  1.806830e+03  6.790083e+06\n",
              "Australia                83653  4.054750e+03  1.569300e+07\n",
              "France                  110480  4.303199e+04  1.076489e+08\n",
              "Germany                 117448  3.766600e+04  1.200751e+08\n",
              "EIRE                    142637  4.844719e+04  1.103917e+08\n",
              "Netherlands             200128  6.492550e+03  3.419054e+07\n",
              "United Kingdom         4263829  2.245715e+06  5.626433e+09"
            ]
          },
          "metadata": {
            "tags": []
          },
          "execution_count": 65
        }
      ]
    },
    {
      "cell_type": "code",
      "metadata": {
        "id": "aThEdWPSsykf",
        "outputId": "b7401870-ab5f-45c4-914d-b8d2af4fd480",
        "colab": {
          "base_uri": "https://localhost:8080/"
        }
      },
      "source": [
        "!pip install apyori"
      ],
      "execution_count": 66,
      "outputs": [
        {
          "output_type": "stream",
          "text": [
            "Collecting apyori\n",
            "  Downloading https://files.pythonhosted.org/packages/5e/62/5ffde5c473ea4b033490617ec5caa80d59804875ad3c3c57c0976533a21a/apyori-1.1.2.tar.gz\n",
            "Building wheels for collected packages: apyori\n",
            "  Building wheel for apyori (setup.py) ... \u001b[?25l\u001b[?25hdone\n",
            "  Created wheel for apyori: filename=apyori-1.1.2-cp36-none-any.whl size=5975 sha256=95970406836e957b6b059fe588fd4660b4411e6c23902eeaa821fea030d7ef51\n",
            "  Stored in directory: /root/.cache/pip/wheels/5d/92/bb/474bbadbc8c0062b9eb168f69982a0443263f8ab1711a8cad0\n",
            "Successfully built apyori\n",
            "Installing collected packages: apyori\n",
            "Successfully installed apyori-1.1.2\n"
          ],
          "name": "stdout"
        }
      ]
    },
    {
      "cell_type": "code",
      "metadata": {
        "id": "FCqRALFB83CQ"
      },
      "source": [
        "from apyori import apriori #ตอนแรกจะไม่มีโค้ดนี้ให้ install"
      ],
      "execution_count": 67,
      "outputs": []
    },
    {
      "cell_type": "code",
      "metadata": {
        "id": "FOPnWR7e9QYR",
        "outputId": "4c003fd0-278d-45c3-c3b5-e2a5d08944df",
        "colab": {
          "base_uri": "https://localhost:8080/"
        }
      },
      "source": [
        "transacs = data.groupby('InvoiceNo')['StockCode'].apply(list)\n",
        "transacs"
      ],
      "execution_count": 74,
      "outputs": [
        {
          "output_type": "execute_result",
          "data": {
            "text/plain": [
              "InvoiceNo\n",
              "536365     [85123A, 71053, 84406B, 84029G, 84029E, 22752,...\n",
              "536366                                        [22633, 22632]\n",
              "536367     [84879, 22745, 22748, 22749, 22310, 84969, 226...\n",
              "536368                          [22960, 22913, 22912, 22914]\n",
              "536369                                               [21756]\n",
              "                                 ...                        \n",
              "C581484                                              [23843]\n",
              "C581490                                       [22178, 23144]\n",
              "C581499                                                  [M]\n",
              "C581568                                              [21258]\n",
              "C581569                                       [84978, 20979]\n",
              "Name: StockCode, Length: 25900, dtype: object"
            ]
          },
          "metadata": {
            "tags": []
          },
          "execution_count": 74
        }
      ]
    },
    {
      "cell_type": "code",
      "metadata": {
        "id": "ONQ8he2z88IE"
      },
      "source": [
        "out = list(apriori(transacs, min_support = 0.03, min_confidence = 0.1))# Data,"
      ],
      "execution_count": 71,
      "outputs": []
    },
    {
      "cell_type": "code",
      "metadata": {
        "id": "AaX7QV3988CD",
        "outputId": "715fdce2-41c3-4464-9454-8ea30f79258e",
        "colab": {
          "base_uri": "https://localhost:8080/"
        }
      },
      "source": [
        "transacs = data.groupby('CustomerID')['StockCode'].apply(list)\n",
        "transacs"
      ],
      "execution_count": 76,
      "outputs": [
        {
          "output_type": "execute_result",
          "data": {
            "text/plain": [
              "CustomerID\n",
              "12346.0                                       [23166, 23166]\n",
              "12347.0    [85116, 22375, 71477, 22492, 22771, 22772, 227...\n",
              "12348.0    [84992, 22951, 84991, 84991, 21213, 21213, 226...\n",
              "12349.0    [23112, 23460, 21564, 21411, 21563, 22131, 221...\n",
              "12350.0    [21908, 22412, 79066K, 79191C, 22348, 84086C, ...\n",
              "                                 ...                        \n",
              "18280.0    [82484, 22180, 22467, 22725, 22727, 22495, 223...\n",
              "18281.0    [22037, 22716, 22028, 23007, 23008, 23209, 22467]\n",
              "18282.0    [21270, 23187, 23295, 22089, 21108, 21109, 224...\n",
              "18283.0    [22356, 20726, 22384, 22386, 20717, 20718, 850...\n",
              "18287.0    [22755, 22754, 22753, 22756, 22758, 22757, 227...\n",
              "Name: StockCode, Length: 4372, dtype: object"
            ]
          },
          "metadata": {
            "tags": []
          },
          "execution_count": 76
        }
      ]
    },
    {
      "cell_type": "code",
      "metadata": {
        "id": "V3s6uOW6879f",
        "outputId": "5792ee32-b994-4ea4-ae48-a0a73c4a2bc7",
        "colab": {
          "base_uri": "https://localhost:8080/"
        }
      },
      "source": [
        "list(apriori(transacs, min_support = 0.07, min_confidence = 0.7))"
      ],
      "execution_count": 77,
      "outputs": [
        {
          "output_type": "execute_result",
          "data": {
            "text/plain": [
              "[RelationRecord(items=frozenset({'21733', '85123A'}), support=0.07136322049405307, ordered_statistics=[OrderedStatistic(items_base=frozenset({'21733'}), items_add=frozenset({'85123A'}), confidence=0.8103896103896104, lift=4.129397874852421)]),\n",
              " RelationRecord(items=frozenset({'22423', '22699'}), support=0.07410795974382434, ordered_statistics=[OrderedStatistic(items_base=frozenset({'22699'}), items_add=frozenset({'22423'}), confidence=0.7587822014051523, lift=3.740017795426523)]),\n",
              " RelationRecord(items=frozenset({'22697', '22699'}), support=0.07410795974382434, ordered_statistics=[OrderedStatistic(items_base=frozenset({'22697'}), items_add=frozenset({'22699'}), confidence=0.8307692307692307, lift=8.506143037290578), OrderedStatistic(items_base=frozenset({'22699'}), items_add=frozenset({'22697'}), confidence=0.7587822014051523, lift=8.506143037290578)])]"
            ]
          },
          "metadata": {
            "tags": []
          },
          "execution_count": 77
        }
      ]
    },
    {
      "cell_type": "code",
      "metadata": {
        "id": "vlbHvVGtDHhB"
      },
      "source": [
        "# หาแบบเดิม แต่ใช้ข้อมูลแค่ ประเทศ United Kingdom จากนั้นนำมาเปรียบเทียบกัน"
      ],
      "execution_count": null,
      "outputs": []
    },
    {
      "cell_type": "markdown",
      "metadata": {
        "id": "__MBBWqUl4rb"
      },
      "source": [
        "#3. เขียนคำศัพท์ที่ได้เรียนในวิชาพร้อมทั้งคำนิยามที่เป็นคำพูดของนักศึกษาเอง (ห้าม search google) 20 คำ\n",
        "(คำละ 0.5 คะแนน)\n",
        "ตอบ \n",
        "1. query คือ การสืบค้นข้อมูลจากข้อมูลที่มีอยู่\n",
        "2. 1 เทระไบต์ = 1,024 กิกะไบต์\n",
        "3. Text databases ข้อความที่ถูกอธิบายยาวๆ\n",
        "4. Internet of Things (IoT) คือ อุปกรณ์อิเล็กทรอนิกส์ต่างๆที่สามารถส่งผ่านข้อมูลถึงกันโดยผ่านเครือข่ายอินเทอร์เน็ต โดยไม่ต้องป้อนข้อมูลใดๆ และสามารถควบคุมได้ผ่านอุปกรณ์อิเล็กทรอนิคส์ต่างๆ\n",
        "5. ผู้ดูแลระบบฐานข้อมูล (DBA - Databases Admin ) คือ เป็นผู้ดูแลบำรุงรักษา และแซ่มแซมประสิทธิภาพของฐานข้อมูล ให้มีความถูกต้องมากที่สุด\n",
        "6.  Data Warehouse คือ ที่เก็บรวบรวมข้อมูลแสดงข้อมูลในมุมต่างๆ\n",
        "7. Data Mining คือ การทำเหมืองข้อมูลขนาดใหญ่ เป็นกระบวนการที่กระทํากับข้อมูลจํานวนมากเพื่อค้นหารูปแบบและความสัมพันธ์ ที่ซ่อนอยู่ในชุดข้อมูลนั้นๆ\n",
        "8. data is a new oil คือ เป็นการเปรียบเทียบว่าข้อมูลเป็นทรัพยากรณ์ที่มีค่าเทียบเท่ากับน้ำมัน\n",
        "9. relational records เป็นการใช้ Index หรือ ID ใช้เชื่อมข้อมูลจากตารางหนึ่งไปยังอีกตารางหนึ่ง เช่น เลขบัตรประชาชน รหัสนักศึกษา\n",
        "10. data matrix,e.g,crosstabs เป็นการเก็บข้อมูลที่หัวข้อ 2 ฝั่ง\n",
        "11. transaction data เป็นการเก็บข้อมูลที่ไม่มีหัวข้อ\n",
        "12. document data : Term-frequency vector (matrix) of text documents เป็นการเก็บข้อมูลที่มี attributes ด้านบน และตัวบอกตัวตน้านข้าง\n",
        "13. Dimensionality เป็นการเชื่อมต่อกันแต่ละมิติ\n",
        "14. Sparsity จุดที่ม่มีข้อมูลจะเป็นช่องว่าง\n",
        "15. Resolution เป็นเรื่องเกี่ยวกับรายละเอียดภาพที่ต้องปรับสเกลให้เท่ากัน\n",
        "16. Distribution อธิบายข้อมูลค่ากลางและค่าารกระจาย\n",
        "17. Nominal Attributes ให้ชื่อแทนข้อมูล ไม่มีความหมายทางคณิตศาสตร์\n",
        "18. Binary Attributes ข้อมูลที่มี 2 ค่าเท่านั้น (0,1) 2.1 ข้อมูลสมมาตร 2.2 ข้อมูลไม่สมมาตร\n",
        "19. Ordinal Attributes ข้อมูลเรียงลำดับได้ (เล็ก กลาง ใหญ่)\n",
        "20. NumericAttributes ข้อมูลที่เป็นตัวเลข 4.1 Interval ไม่มีศูนย์แท้ เป็นค่าที่นิยามขึ้น 4.2 ratio มีศูนย์แท้ 4.3 Discrete ไม่ต่อเนื่อง 4.4 Continous ต่อเนื่อง"
      ]
    }
  ]
}