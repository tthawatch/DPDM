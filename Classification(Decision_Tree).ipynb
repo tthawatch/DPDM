{
  "nbformat": 4,
  "nbformat_minor": 0,
  "metadata": {
    "colab": {
      "name": "Classification(Decision Tree).ipynb",
      "provenance": [],
      "authorship_tag": "ABX9TyN0AhZxrwLW+zWMqNrwHnV+",
      "include_colab_link": true
    },
    "kernelspec": {
      "name": "python3",
      "display_name": "Python 3"
    }
  },
  "cells": [
    {
      "cell_type": "markdown",
      "metadata": {
        "id": "view-in-github",
        "colab_type": "text"
      },
      "source": [
        "<a href=\"https://colab.research.google.com/github/tthawatch/DPDM/blob/master/Classification(Decision_Tree).ipynb\" target=\"_parent\"><img src=\"https://colab.research.google.com/assets/colab-badge.svg\" alt=\"Open In Colab\"/></a>"
      ]
    },
    {
      "cell_type": "code",
      "metadata": {
        "id": "Jnh2Kf3qOZyJ"
      },
      "source": [
        "from sklearn import datasets\n",
        "iris_data = datasets.load_iris()\n",
        "x = iris_data['data']\n",
        "y = iris_data['target']"
      ],
      "execution_count": 11,
      "outputs": []
    },
    {
      "cell_type": "markdown",
      "metadata": {
        "id": "p6S9_LSjPPSS"
      },
      "source": [
        "## Import"
      ]
    },
    {
      "cell_type": "code",
      "metadata": {
        "id": "drmqaRgsPNb4"
      },
      "source": [
        "from sklearn.tree import DecisionTreeClassifier"
      ],
      "execution_count": 12,
      "outputs": []
    },
    {
      "cell_type": "markdown",
      "metadata": {
        "id": "_ecjWv1eP9v9"
      },
      "source": [
        "##Define"
      ]
    },
    {
      "cell_type": "code",
      "metadata": {
        "id": "ooayuKaxP9ZJ"
      },
      "source": [
        "myTree = DecisionTreeClassifier(criterion='entropy',max_depth = 2)"
      ],
      "execution_count": 13,
      "outputs": []
    },
    {
      "cell_type": "markdown",
      "metadata": {
        "id": "2c-YzAC9QbmY"
      },
      "source": [
        "##Train"
      ]
    },
    {
      "cell_type": "code",
      "metadata": {
        "id": "WDTVeDAXQcA9",
        "outputId": "a06a4db8-c8d7-44d9-a7b4-b5edf0a365f8",
        "colab": {
          "base_uri": "https://localhost:8080/"
        }
      },
      "source": [
        "myTree.fit(x[:-2,:],y[:-2])"
      ],
      "execution_count": 14,
      "outputs": [
        {
          "output_type": "execute_result",
          "data": {
            "text/plain": [
              "DecisionTreeClassifier(ccp_alpha=0.0, class_weight=None, criterion='entropy',\n",
              "                       max_depth=2, max_features=None, max_leaf_nodes=None,\n",
              "                       min_impurity_decrease=0.0, min_impurity_split=None,\n",
              "                       min_samples_leaf=1, min_samples_split=2,\n",
              "                       min_weight_fraction_leaf=0.0, presort='deprecated',\n",
              "                       random_state=None, splitter='best')"
            ]
          },
          "metadata": {
            "tags": []
          },
          "execution_count": 14
        }
      ]
    },
    {
      "cell_type": "markdown",
      "metadata": {
        "id": "U43encuFQ4UF"
      },
      "source": [
        "##Test"
      ]
    },
    {
      "cell_type": "code",
      "metadata": {
        "id": "2EjK3Ck2Q3ll",
        "outputId": "3f07fccb-d00a-4d00-ef4c-974f729fed65",
        "colab": {
          "base_uri": "https://localhost:8080/"
        }
      },
      "source": [
        "myTree.predict(x[-2:,:])"
      ],
      "execution_count": 16,
      "outputs": [
        {
          "output_type": "execute_result",
          "data": {
            "text/plain": [
              "array([2, 2])"
            ]
          },
          "metadata": {
            "tags": []
          },
          "execution_count": 16
        }
      ]
    },
    {
      "cell_type": "code",
      "metadata": {
        "id": "h9bkiOtZUihN"
      },
      "source": [
        ""
      ],
      "execution_count": null,
      "outputs": []
    }
  ]
}