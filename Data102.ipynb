{
  "nbformat": 4,
  "nbformat_minor": 0,
  "metadata": {
    "colab": {
      "name": "Data102.ipynb",
      "provenance": [],
      "authorship_tag": "ABX9TyOvWTFj8rcCCLpb5V9nGTh3",
      "include_colab_link": true
    },
    "kernelspec": {
      "name": "python3",
      "display_name": "Python 3"
    }
  },
  "cells": [
    {
      "cell_type": "markdown",
      "metadata": {
        "id": "view-in-github",
        "colab_type": "text"
      },
      "source": [
        "<a href=\"https://colab.research.google.com/github/tthawatch/DPDM/blob/master/Data102.ipynb\" target=\"_parent\"><img src=\"https://colab.research.google.com/assets/colab-badge.svg\" alt=\"Open In Colab\"/></a>"
      ]
    },
    {
      "cell_type": "markdown",
      "metadata": {
        "id": "R6aGEaQ5c6k5",
        "colab_type": "text"
      },
      "source": [
        "#Visualization\n",
        "\n"
      ]
    },
    {
      "cell_type": "markdown",
      "metadata": {
        "id": "51G_H32pdyti",
        "colab_type": "text"
      },
      "source": [
        "- Understanding Matplotlib Functions\n",
        "- Boxplot\n",
        "- Scatter\n",
        "- Plot\n",
        "- Barchart\n",
        "- Histogram\n",
        "- Q-Q plot"
      ]
    },
    {
      "cell_type": "code",
      "metadata": {
        "id": "-Em6gsAiejqq",
        "colab_type": "code",
        "colab": {
          "base_uri": "https://localhost:8080/",
          "height": 34
        },
        "outputId": "eef892cc-a394-42e4-fdf5-3976415d4b26"
      },
      "source": [
        "from google.colab import drive\n",
        "drive.mount('/content/drive')"
      ],
      "execution_count": 2,
      "outputs": [
        {
          "output_type": "stream",
          "text": [
            "Drive already mounted at /content/drive; to attempt to forcibly remount, call drive.mount(\"/content/drive\", force_remount=True).\n"
          ],
          "name": "stdout"
        }
      ]
    },
    {
      "cell_type": "code",
      "metadata": {
        "id": "1xdsCQI6fCZu",
        "colab_type": "code",
        "colab": {
          "base_uri": "https://localhost:8080/",
          "height": 204
        },
        "outputId": "29c690f2-c0bc-4106-b012-a290cb231653"
      },
      "source": [
        "# import os for file manipulation\n",
        "import os\n",
        "# import pandas for tabular or dataframe management\n",
        "import pandas as pd\n",
        "# create variable for path to the folder that stores our data\n",
        "base_path = '/content/drive/My Drive/DWDM_material'\n",
        "# load data from test.csv to data\n",
        "data = pd.read_csv(os.path.join(base_path,'test.csv'))\n",
        "# show head of the data table\n",
        "data.head()"
      ],
      "execution_count": 3,
      "outputs": [
        {
          "output_type": "execute_result",
          "data": {
            "text/html": [
              "<div>\n",
              "<style scoped>\n",
              "    .dataframe tbody tr th:only-of-type {\n",
              "        vertical-align: middle;\n",
              "    }\n",
              "\n",
              "    .dataframe tbody tr th {\n",
              "        vertical-align: top;\n",
              "    }\n",
              "\n",
              "    .dataframe thead th {\n",
              "        text-align: right;\n",
              "    }\n",
              "</style>\n",
              "<table border=\"1\" class=\"dataframe\">\n",
              "  <thead>\n",
              "    <tr style=\"text-align: right;\">\n",
              "      <th></th>\n",
              "      <th>Unnamed: 0</th>\n",
              "      <th>x</th>\n",
              "      <th>y</th>\n",
              "    </tr>\n",
              "  </thead>\n",
              "  <tbody>\n",
              "    <tr>\n",
              "      <th>0</th>\n",
              "      <td>0</td>\n",
              "      <td>55.3846</td>\n",
              "      <td>97.1795</td>\n",
              "    </tr>\n",
              "    <tr>\n",
              "      <th>1</th>\n",
              "      <td>1</td>\n",
              "      <td>51.5385</td>\n",
              "      <td>96.0256</td>\n",
              "    </tr>\n",
              "    <tr>\n",
              "      <th>2</th>\n",
              "      <td>2</td>\n",
              "      <td>46.1538</td>\n",
              "      <td>94.4872</td>\n",
              "    </tr>\n",
              "    <tr>\n",
              "      <th>3</th>\n",
              "      <td>3</td>\n",
              "      <td>42.8205</td>\n",
              "      <td>91.4103</td>\n",
              "    </tr>\n",
              "    <tr>\n",
              "      <th>4</th>\n",
              "      <td>4</td>\n",
              "      <td>40.7692</td>\n",
              "      <td>88.3333</td>\n",
              "    </tr>\n",
              "  </tbody>\n",
              "</table>\n",
              "</div>"
            ],
            "text/plain": [
              "   Unnamed: 0        x        y\n",
              "0           0  55.3846  97.1795\n",
              "1           1  51.5385  96.0256\n",
              "2           2  46.1538  94.4872\n",
              "3           3  42.8205  91.4103\n",
              "4           4  40.7692  88.3333"
            ]
          },
          "metadata": {
            "tags": []
          },
          "execution_count": 3
        }
      ]
    },
    {
      "cell_type": "markdown",
      "metadata": {
        "id": "YvX358xmhp_X",
        "colab_type": "text"
      },
      "source": [
        "# Boxplot"
      ]
    },
    {
      "cell_type": "markdown",
      "metadata": {
        "id": "8ZE8naJ4jEXB",
        "colab_type": "text"
      },
      "source": [
        "ดูการกระจายข้อมูล กำจัด out"
      ]
    },
    {
      "cell_type": "code",
      "metadata": {
        "id": "xk1JmY74hvRV",
        "colab_type": "code",
        "colab": {}
      },
      "source": [
        "from matplotlib import pyplot as plt"
      ],
      "execution_count": 4,
      "outputs": []
    },
    {
      "cell_type": "code",
      "metadata": {
        "id": "KYI3wYn8h-kN",
        "colab_type": "code",
        "colab": {
          "base_uri": "https://localhost:8080/",
          "height": 401
        },
        "outputId": "dd61a3c0-f090-402a-9ae4-5991ac1929d1"
      },
      "source": [
        "# เอาข้อมูลจากแกน x มาแสดงเป็น Boxplot\n",
        "plt.boxplot(data['x'])"
      ],
      "execution_count": 5,
      "outputs": [
        {
          "output_type": "execute_result",
          "data": {
            "text/plain": [
              "{'boxes': [<matplotlib.lines.Line2D at 0x7ff13db6a7b8>],\n",
              " 'caps': [<matplotlib.lines.Line2D at 0x7ff13db81208>,\n",
              "  <matplotlib.lines.Line2D at 0x7ff13db81588>],\n",
              " 'fliers': [<matplotlib.lines.Line2D at 0x7ff13db81c88>],\n",
              " 'means': [],\n",
              " 'medians': [<matplotlib.lines.Line2D at 0x7ff13db81908>],\n",
              " 'whiskers': [<matplotlib.lines.Line2D at 0x7ff13db6aac8>,\n",
              "  <matplotlib.lines.Line2D at 0x7ff13db6ae48>]}"
            ]
          },
          "metadata": {
            "tags": []
          },
          "execution_count": 5
        },
        {
          "output_type": "display_data",
          "data": {
            "image/png": "[encoded data removed]",
            "text/plain": [
              "<Figure size 432x288 with 1 Axes>"
            ]
          },
          "metadata": {
            "tags": [],
            "needs_background": "light"
          }
        }
      ]
    },
    {
      "cell_type": "code",
      "metadata": {
        "id": "z0qlLegtmHIW",
        "colab_type": "code",
        "colab": {
          "base_uri": "https://localhost:8080/",
          "height": 401
        },
        "outputId": "34d2e482-80dd-4835-a662-ac1bf59f7513"
      },
      "source": [
        "plt.boxplot(data['x'],showmeans = True)"
      ],
      "execution_count": 6,
      "outputs": [
        {
          "output_type": "execute_result",
          "data": {
            "text/plain": [
              "{'boxes': [<matplotlib.lines.Line2D at 0x7ff13d641dd8>],\n",
              " 'caps': [<matplotlib.lines.Line2D at 0x7ff13d64f828>,\n",
              "  <matplotlib.lines.Line2D at 0x7ff13d64fba8>],\n",
              " 'fliers': [<matplotlib.lines.Line2D at 0x7ff13d659630>],\n",
              " 'means': [<matplotlib.lines.Line2D at 0x7ff13d6592e8>],\n",
              " 'medians': [<matplotlib.lines.Line2D at 0x7ff13d64ff28>],\n",
              " 'whiskers': [<matplotlib.lines.Line2D at 0x7ff13d64f128>,\n",
              "  <matplotlib.lines.Line2D at 0x7ff13d64f4a8>]}"
            ]
          },
          "metadata": {
            "tags": []
          },
          "execution_count": 6
        },
        {
          "output_type": "display_data",
          "data": {
            "image/png": "[encoded data removed]",
            "text/plain": [
              "<Figure size 432x288 with 1 Axes>"
            ]
          },
          "metadata": {
            "tags": [],
            "needs_background": "light"
          }
        }
      ]
    },
    {
      "cell_type": "code",
      "metadata": {
        "id": "3z21LLLanD8F",
        "colab_type": "code",
        "colab": {
          "base_uri": "https://localhost:8080/",
          "height": 401
        },
        "outputId": "0200bd13-f4a0-482a-8337-8846ac27ff4b"
      },
      "source": [
        "# เปลี่ยนแนวกราฟ\n",
        "plt.boxplot(data['x'],whis=0.8,vert=False)"
      ],
      "execution_count": 7,
      "outputs": [
        {
          "output_type": "execute_result",
          "data": {
            "text/plain": [
              "{'boxes': [<matplotlib.lines.Line2D at 0x7ff13daefb00>],\n",
              " 'caps': [<matplotlib.lines.Line2D at 0x7ff13d600a58>,\n",
              "  <matplotlib.lines.Line2D at 0x7ff13d600b38>],\n",
              " 'fliers': [<matplotlib.lines.Line2D at 0x7ff13d673978>],\n",
              " 'means': [],\n",
              " 'medians': [<matplotlib.lines.Line2D at 0x7ff13d667128>],\n",
              " 'whiskers': [<matplotlib.lines.Line2D at 0x7ff13d64fd68>,\n",
              "  <matplotlib.lines.Line2D at 0x7ff13d600438>]}"
            ]
          },
          "metadata": {
            "tags": []
          },
          "execution_count": 7
        },
        {
          "output_type": "display_data",
          "data": {
            "image/png": "[encoded data removed]",
            "text/plain": [
              "<Figure size 432x288 with 1 Axes>"
            ]
          },
          "metadata": {
            "tags": [],
            "needs_background": "light"
          }
        }
      ]
    },
    {
      "cell_type": "code",
      "metadata": {
        "id": "yw_r7XbUpRHk",
        "colab_type": "code",
        "colab": {
          "base_uri": "https://localhost:8080/",
          "height": 265
        },
        "outputId": "1aec2ae0-5be5-4983-ed6f-da1f4bc3251f"
      },
      "source": [
        "ret = plt.boxplot(data['x'],whis=0.8,vert=False)"
      ],
      "execution_count": 8,
      "outputs": [
        {
          "output_type": "display_data",
          "data": {
            "image/png": "[encoded data removed]",
            "text/plain": [
              "<Figure size 432x288 with 1 Axes>"
            ]
          },
          "metadata": {
            "tags": [],
            "needs_background": "light"
          }
        }
      ]
    },
    {
      "cell_type": "code",
      "metadata": {
        "id": "v5GfG5u4peCt",
        "colab_type": "code",
        "colab": {
          "base_uri": "https://localhost:8080/",
          "height": 153
        },
        "outputId": "ee63f36c-ebf5-4682-db2c-4d78f5cea749"
      },
      "source": [
        "# dictionary ตัวเก็บข้อมูล\n",
        "ret"
      ],
      "execution_count": 9,
      "outputs": [
        {
          "output_type": "execute_result",
          "data": {
            "text/plain": [
              "{'boxes': [<matplotlib.lines.Line2D at 0x7ff13d5a3908>],\n",
              " 'caps': [<matplotlib.lines.Line2D at 0x7ff13d5af358>,\n",
              "  <matplotlib.lines.Line2D at 0x7ff13d5af6d8>],\n",
              " 'fliers': [<matplotlib.lines.Line2D at 0x7ff13d5afdd8>],\n",
              " 'means': [],\n",
              " 'medians': [<matplotlib.lines.Line2D at 0x7ff13d5afa58>],\n",
              " 'whiskers': [<matplotlib.lines.Line2D at 0x7ff13d5a3c18>,\n",
              "  <matplotlib.lines.Line2D at 0x7ff13d5a3f98>]}"
            ]
          },
          "metadata": {
            "tags": []
          },
          "execution_count": 9
        }
      ]
    },
    {
      "cell_type": "code",
      "metadata": {
        "id": "CgZAnkcMqhzA",
        "colab_type": "code",
        "colab": {
          "base_uri": "https://localhost:8080/",
          "height": 34
        },
        "outputId": "9d41f210-8643-43ab-cd48-8314e9f6e7e0"
      },
      "source": [
        "# แสดง fliers ตัว outliers\n",
        "ret['fliers']"
      ],
      "execution_count": 10,
      "outputs": [
        {
          "output_type": "execute_result",
          "data": {
            "text/plain": [
              "[<matplotlib.lines.Line2D at 0x7ff13d5afdd8>]"
            ]
          },
          "metadata": {
            "tags": []
          },
          "execution_count": 10
        }
      ]
    },
    {
      "cell_type": "code",
      "metadata": {
        "id": "ae-eapp2qnid",
        "colab_type": "code",
        "colab": {
          "base_uri": "https://localhost:8080/",
          "height": 34
        },
        "outputId": "7a80269d-16d0-40a5-c35d-b8e95890073d"
      },
      "source": [
        "# แสดงลำดับแรก\n",
        "ret['fliers'][0]"
      ],
      "execution_count": 11,
      "outputs": [
        {
          "output_type": "execute_result",
          "data": {
            "text/plain": [
              "<matplotlib.lines.Line2D at 0x7ff13d5afdd8>"
            ]
          },
          "metadata": {
            "tags": []
          },
          "execution_count": 11
        }
      ]
    },
    {
      "cell_type": "code",
      "metadata": {
        "id": "qN6M7kYTpjHt",
        "colab_type": "code",
        "colab": {
          "base_uri": "https://localhost:8080/",
          "height": 68
        },
        "outputId": "821eee87-e478-4267-9338-d5bf1d910a19"
      },
      "source": [
        "# แสดง outliers ออกมาในแนวแกน x \n",
        "ret['fliers'][0].get_xdata()"
      ],
      "execution_count": 12,
      "outputs": [
        {
          "output_type": "execute_result",
          "data": {
            "text/plain": [
              "array([26.1538, 23.0769, 22.3077, 22.3077, 23.3333, 25.8974, 81.7949,\n",
              "       83.3333, 85.1282, 86.4103, 87.9487, 89.4872, 93.3333, 95.3846,\n",
              "       98.2051, 91.2821])"
            ]
          },
          "metadata": {
            "tags": []
          },
          "execution_count": 12
        }
      ]
    },
    {
      "cell_type": "code",
      "metadata": {
        "id": "baUQUnSMrlV0",
        "colab_type": "code",
        "colab": {
          "base_uri": "https://localhost:8080/",
          "height": 51
        },
        "outputId": "51c65b4c-573b-4891-a1af-ff9bbff21ddb"
      },
      "source": [
        "ret['whiskers']"
      ],
      "execution_count": 13,
      "outputs": [
        {
          "output_type": "execute_result",
          "data": {
            "text/plain": [
              "[<matplotlib.lines.Line2D at 0x7ff13d5a3c18>,\n",
              " <matplotlib.lines.Line2D at 0x7ff13d5a3f98>]"
            ]
          },
          "metadata": {
            "tags": []
          },
          "execution_count": 13
        }
      ]
    },
    {
      "cell_type": "code",
      "metadata": {
        "id": "uW_UDCN9rz4M",
        "colab_type": "code",
        "colab": {}
      },
      "source": [
        "# แสดงค่า max และ min (จุดที่เป็นขอบทั้งสองของ Boxplot)\n"
      ],
      "execution_count": 14,
      "outputs": []
    },
    {
      "cell_type": "code",
      "metadata": {
        "id": "PF0CU5GZH0kd",
        "colab_type": "code",
        "colab": {
          "base_uri": "https://localhost:8080/",
          "height": 34
        },
        "outputId": "1b59f76c-af52-48f2-91ea-21adcbccbb67"
      },
      "source": [
        "ret['whiskers'][0].get_xdata()"
      ],
      "execution_count": 15,
      "outputs": [
        {
          "output_type": "execute_result",
          "data": {
            "text/plain": [
              "array([44.1026, 28.9744])"
            ]
          },
          "metadata": {
            "tags": []
          },
          "execution_count": 15
        }
      ]
    },
    {
      "cell_type": "code",
      "metadata": {
        "id": "woemAMmMKW7f",
        "colab_type": "code",
        "colab": {
          "base_uri": "https://localhost:8080/",
          "height": 34
        },
        "outputId": "50ae8b56-cd89-4a09-a369-516cda8272b0"
      },
      "source": [
        "ret['whiskers'][1].get_xdata()"
      ],
      "execution_count": 16,
      "outputs": [
        {
          "output_type": "execute_result",
          "data": {
            "text/plain": [
              "array([64.7436, 79.7436])"
            ]
          },
          "metadata": {
            "tags": []
          },
          "execution_count": 16
        }
      ]
    },
    {
      "cell_type": "code",
      "metadata": {
        "id": "a0rte6uutBOJ",
        "colab_type": "code",
        "colab": {
          "base_uri": "https://localhost:8080/",
          "height": 34
        },
        "outputId": "e91628fc-ab03-4235-c97b-15d43a145492"
      },
      "source": [
        "# แสดงค่า quartiles ออกมา\n",
        "ret['boxes'][0].get_xdata()"
      ],
      "execution_count": 17,
      "outputs": [
        {
          "output_type": "execute_result",
          "data": {
            "text/plain": [
              "array([44.1026, 44.1026, 64.7436, 64.7436, 44.1026])"
            ]
          },
          "metadata": {
            "tags": []
          },
          "execution_count": 17
        }
      ]
    },
    {
      "cell_type": "markdown",
      "metadata": {
        "id": "o99032A4t-uo",
        "colab_type": "text"
      },
      "source": [
        "## Scatter plot"
      ]
    },
    {
      "cell_type": "code",
      "metadata": {
        "id": "_4Ohu67QuIoq",
        "colab_type": "code",
        "colab": {
          "base_uri": "https://localhost:8080/",
          "height": 282
        },
        "outputId": "52fdfc20-4f99-499e-ee4b-cb2715726d99"
      },
      "source": [
        "# แสดงออกมาในสองมิติ\n",
        "plt.scatter(data['x'],data['y'])"
      ],
      "execution_count": 18,
      "outputs": [
        {
          "output_type": "execute_result",
          "data": {
            "text/plain": [
              "<matplotlib.collections.PathCollection at 0x7ff13d50dc88>"
            ]
          },
          "metadata": {
            "tags": []
          },
          "execution_count": 18
        },
        {
          "output_type": "display_data",
          "data": {
            "image/png": "[encoded data removed]",
            "text/plain": [
              "<Figure size 432x288 with 1 Axes>"
            ]
          },
          "metadata": {
            "tags": [],
            "needs_background": "light"
          }
        }
      ]
    },
    {
      "cell_type": "code",
      "metadata": {
        "id": "A6oDsCHFutqE",
        "colab_type": "code",
        "colab": {
          "base_uri": "https://localhost:8080/",
          "height": 282
        },
        "outputId": "67190e57-a7f5-4d05-fa86-97895f23b1e0"
      },
      "source": [
        "# เปลี่ยนขนาดรูปร่างของจุด\n",
        "plt.scatter(data['x'],data['y'],10)"
      ],
      "execution_count": 19,
      "outputs": [
        {
          "output_type": "execute_result",
          "data": {
            "text/plain": [
              "<matplotlib.collections.PathCollection at 0x7ff13d48a0b8>"
            ]
          },
          "metadata": {
            "tags": []
          },
          "execution_count": 19
        },
        {
          "output_type": "display_data",
          "data": {
            "image/png": "[encoded data removed]",
            "text/plain": [
              "<Figure size 432x288 with 1 Axes>"
            ]
          },
          "metadata": {
            "tags": [],
            "needs_background": "light"
          }
        }
      ]
    },
    {
      "cell_type": "code",
      "metadata": {
        "id": "Ly6oPfQ8vERG",
        "colab_type": "code",
        "colab": {
          "base_uri": "https://localhost:8080/",
          "height": 282
        },
        "outputId": "d26fd6f9-294f-420a-bd9e-583182501f7d"
      },
      "source": [
        "# เปลี่ยนสีของจุด \n",
        "plt.scatter(data['x'],data['y'],s=20,c='m')"
      ],
      "execution_count": 20,
      "outputs": [
        {
          "output_type": "execute_result",
          "data": {
            "text/plain": [
              "<matplotlib.collections.PathCollection at 0x7ff13d46f550>"
            ]
          },
          "metadata": {
            "tags": []
          },
          "execution_count": 20
        },
        {
          "output_type": "display_data",
          "data": {
            "image/png": "[encoded data removed]",
            "text/plain": [
              "<Figure size 432x288 with 1 Axes>"
            ]
          },
          "metadata": {
            "tags": [],
            "needs_background": "light"
          }
        }
      ]
    },
    {
      "cell_type": "code",
      "metadata": {
        "id": "gp2y17zEyrp1",
        "colab_type": "code",
        "colab": {
          "base_uri": "https://localhost:8080/",
          "height": 282
        },
        "outputId": "b154eaca-b188-4a8b-a838-54f80b652b9b"
      },
      "source": [
        "# เปลี่ยนสีของจุด\n",
        "# [[R(แดง),G(เขียว),B(น้ำเงิน),alpha]] \n",
        "plt.scatter(data['x'],data['y'],s=200,c=[[0.5,0.5,0.9,0.5]])"
      ],
      "execution_count": 21,
      "outputs": [
        {
          "output_type": "execute_result",
          "data": {
            "text/plain": [
              "<matplotlib.collections.PathCollection at 0x7ff13d3d4ac8>"
            ]
          },
          "metadata": {
            "tags": []
          },
          "execution_count": 21
        },
        {
          "output_type": "display_data",
          "data": {
            "image/png": "[encoded data removed]",
            "text/plain": [
              "<Figure size 432x288 with 1 Axes>"
            ]
          },
          "metadata": {
            "tags": [],
            "needs_background": "light"
          }
        }
      ]
    },
    {
      "cell_type": "code",
      "metadata": {
        "id": "NMrn1L69wWWg",
        "colab_type": "code",
        "colab": {
          "base_uri": "https://localhost:8080/",
          "height": 282
        },
        "outputId": "8d4aae55-7714-4442-9ba0-26be791c948b"
      },
      "source": [
        "# เปลี่ยนเครื่องหมายจากจุดเป็นแบบอื่นได้\n",
        "plt.scatter(data['x'],data['y'],s=100,c='b',marker='*')"
      ],
      "execution_count": 22,
      "outputs": [
        {
          "output_type": "execute_result",
          "data": {
            "text/plain": [
              "<matplotlib.collections.PathCollection at 0x7ff13d3bceb8>"
            ]
          },
          "metadata": {
            "tags": []
          },
          "execution_count": 22
        },
        {
          "output_type": "display_data",
          "data": {
            "image/png": "[encoded data removed]",
            "text/plain": [
              "<Figure size 432x288 with 1 Axes>"
            ]
          },
          "metadata": {
            "tags": [],
            "needs_background": "light"
          }
        }
      ]
    },
    {
      "cell_type": "code",
      "metadata": {
        "id": "ziVk0H74xCQI",
        "colab_type": "code",
        "colab": {
          "base_uri": "https://localhost:8080/",
          "height": 282
        },
        "outputId": "9c4c9fd6-e1e8-493d-bfde-ecfb3bda5558"
      },
      "source": [
        "plt.scatter(data['x'],data['y'],s=100,c='y',alpha=0.4)\n",
        "plt.scatter([30,40],[60,85],s=200,c='r',alpha=0.2)"
      ],
      "execution_count": 23,
      "outputs": [
        {
          "output_type": "execute_result",
          "data": {
            "text/plain": [
              "<matplotlib.collections.PathCollection at 0x7ff13d32b9b0>"
            ]
          },
          "metadata": {
            "tags": []
          },
          "execution_count": 23
        },
        {
          "output_type": "display_data",
          "data": {
            "image/png": "[encoded data removed]",
            "text/plain": [
              "<Figure size 432x288 with 1 Axes>"
            ]
          },
          "metadata": {
            "tags": [],
            "needs_background": "light"
          }
        }
      ]
    },
    {
      "cell_type": "markdown",
      "metadata": {
        "id": "XrQf4kVDx7su",
        "colab_type": "text"
      },
      "source": [
        "# HW plot นอ ให้ไดโนเสาร์"
      ]
    },
    {
      "cell_type": "code",
      "metadata": {
        "id": "12PRrliT-_5B",
        "colab_type": "code",
        "colab": {
          "base_uri": "https://localhost:8080/",
          "height": 282
        },
        "outputId": "09b46bc5-1e5a-4f5e-f34e-c3405a306dcc"
      },
      "source": [
        "plt.scatter(data['x'],data['y'],s=100,c='b',alpha=0.4,marker='*')\n",
        "plt.scatter([25,27,29,31,33,34,35,25,25,25,25.5,26,26,28,29,31,32,33],[71,72,74,76,78,79,80,75,80,85,90,95,100,96,92,88,84,80],s=100,c='r',alpha=0.3,marker='*')"
      ],
      "execution_count": 24,
      "outputs": [
        {
          "output_type": "execute_result",
          "data": {
            "text/plain": [
              "<matplotlib.collections.PathCollection at 0x7ff13d254828>"
            ]
          },
          "metadata": {
            "tags": []
          },
          "execution_count": 24
        },
        {
          "output_type": "display_data",
          "data": {
            "image/png": "[encoded data removed]",
            "text/plain": [
              "<Figure size 432x288 with 1 Axes>"
            ]
          },
          "metadata": {
            "tags": [],
            "needs_background": "light"
          }
        }
      ]
    },
    {
      "cell_type": "markdown",
      "metadata": {
        "id": "lY-N6BMv2Lrv",
        "colab_type": "text"
      },
      "source": [
        "# plot"
      ]
    },
    {
      "cell_type": "code",
      "metadata": {
        "id": "TB_b9E1gyH5y",
        "colab_type": "code",
        "colab": {
          "base_uri": "https://localhost:8080/",
          "height": 282
        },
        "outputId": "536bc606-1736-4496-e8bd-14220c402bc5"
      },
      "source": [
        "\n",
        "plt.scatter(data['x'],data['y'],s=range(5,len(data['x'])+5))"
      ],
      "execution_count": 25,
      "outputs": [
        {
          "output_type": "execute_result",
          "data": {
            "text/plain": [
              "<matplotlib.collections.PathCollection at 0x7ff13d1c1668>"
            ]
          },
          "metadata": {
            "tags": []
          },
          "execution_count": 25
        },
        {
          "output_type": "display_data",
          "data": {
            "image/png": "[encoded data removed]",
            "text/plain": [
              "<Figure size 432x288 with 1 Axes>"
            ]
          },
          "metadata": {
            "tags": [],
            "needs_background": "light"
          }
        }
      ]
    },
    {
      "cell_type": "code",
      "metadata": {
        "id": "TUVUI3Tw6cka",
        "colab_type": "code",
        "colab": {
          "base_uri": "https://localhost:8080/",
          "height": 1000
        },
        "outputId": "af615c4d-bac3-413e-a82f-d68aea1b10be"
      },
      "source": [
        "c_list = list()\n",
        "for i in range(len(data['x'])):\n",
        "  c_list.append([0,0,(50+i)/255,0.5])\n",
        "\n",
        "c_list"
      ],
      "execution_count": 26,
      "outputs": [
        {
          "output_type": "execute_result",
          "data": {
            "text/plain": [
              "[[0, 0, 0.19607843137254902, 0.5],\n",
              " [0, 0, 0.2, 0.5],\n",
              " [0, 0, 0.20392156862745098, 0.5],\n",
              " [0, 0, 0.20784313725490197, 0.5],\n",
              " [0, 0, 0.21176470588235294, 0.5],\n",
              " [0, 0, 0.21568627450980393, 0.5],\n",
              " [0, 0, 0.2196078431372549, 0.5],\n",
              " [0, 0, 0.2235294117647059, 0.5],\n",
              " [0, 0, 0.22745098039215686, 0.5],\n",
              " [0, 0, 0.23137254901960785, 0.5],\n",
              " [0, 0, 0.23529411764705882, 0.5],\n",
              " [0, 0, 0.23921568627450981, 0.5],\n",
              " [0, 0, 0.24313725490196078, 0.5],\n",
              " [0, 0, 0.24705882352941178, 0.5],\n",
              " [0, 0, 0.25098039215686274, 0.5],\n",
              " [0, 0, 0.2549019607843137, 0.5],\n",
              " [0, 0, 0.25882352941176473, 0.5],\n",
              " [0, 0, 0.2627450980392157, 0.5],\n",
              " [0, 0, 0.26666666666666666, 0.5],\n",
              " [0, 0, 0.27058823529411763, 0.5],\n",
              " [0, 0, 0.27450980392156865, 0.5],\n",
              " [0, 0, 0.2784313725490196, 0.5],\n",
              " [0, 0, 0.2823529411764706, 0.5],\n",
              " [0, 0, 0.28627450980392155, 0.5],\n",
              " [0, 0, 0.2901960784313726, 0.5],\n",
              " [0, 0, 0.29411764705882354, 0.5],\n",
              " [0, 0, 0.2980392156862745, 0.5],\n",
              " [0, 0, 0.30196078431372547, 0.5],\n",
              " [0, 0, 0.3058823529411765, 0.5],\n",
              " [0, 0, 0.30980392156862746, 0.5],\n",
              " [0, 0, 0.3137254901960784, 0.5],\n",
              " [0, 0, 0.3176470588235294, 0.5],\n",
              " [0, 0, 0.3215686274509804, 0.5],\n",
              " [0, 0, 0.3254901960784314, 0.5],\n",
              " [0, 0, 0.32941176470588235, 0.5],\n",
              " [0, 0, 0.3333333333333333, 0.5],\n",
              " [0, 0, 0.33725490196078434, 0.5],\n",
              " [0, 0, 0.3411764705882353, 0.5],\n",
              " [0, 0, 0.34509803921568627, 0.5],\n",
              " [0, 0, 0.34901960784313724, 0.5],\n",
              " [0, 0, 0.35294117647058826, 0.5],\n",
              " [0, 0, 0.3568627450980392, 0.5],\n",
              " [0, 0, 0.3607843137254902, 0.5],\n",
              " [0, 0, 0.36470588235294116, 0.5],\n",
              " [0, 0, 0.3686274509803922, 0.5],\n",
              " [0, 0, 0.37254901960784315, 0.5],\n",
              " [0, 0, 0.3764705882352941, 0.5],\n",
              " [0, 0, 0.3803921568627451, 0.5],\n",
              " [0, 0, 0.3843137254901961, 0.5],\n",
              " [0, 0, 0.38823529411764707, 0.5],\n",
              " [0, 0, 0.39215686274509803, 0.5],\n",
              " [0, 0, 0.396078431372549, 0.5],\n",
              " [0, 0, 0.4, 0.5],\n",
              " [0, 0, 0.403921568627451, 0.5],\n",
              " [0, 0, 0.40784313725490196, 0.5],\n",
              " [0, 0, 0.4117647058823529, 0.5],\n",
              " [0, 0, 0.41568627450980394, 0.5],\n",
              " [0, 0, 0.4196078431372549, 0.5],\n",
              " [0, 0, 0.4235294117647059, 0.5],\n",
              " [0, 0, 0.42745098039215684, 0.5],\n",
              " [0, 0, 0.43137254901960786, 0.5],\n",
              " [0, 0, 0.43529411764705883, 0.5],\n",
              " [0, 0, 0.4392156862745098, 0.5],\n",
              " [0, 0, 0.44313725490196076, 0.5],\n",
              " [0, 0, 0.4470588235294118, 0.5],\n",
              " [0, 0, 0.45098039215686275, 0.5],\n",
              " [0, 0, 0.4549019607843137, 0.5],\n",
              " [0, 0, 0.4588235294117647, 0.5],\n",
              " [0, 0, 0.4627450980392157, 0.5],\n",
              " [0, 0, 0.4666666666666667, 0.5],\n",
              " [0, 0, 0.47058823529411764, 0.5],\n",
              " [0, 0, 0.4745098039215686, 0.5],\n",
              " [0, 0, 0.47843137254901963, 0.5],\n",
              " [0, 0, 0.4823529411764706, 0.5],\n",
              " [0, 0, 0.48627450980392156, 0.5],\n",
              " [0, 0, 0.49019607843137253, 0.5],\n",
              " [0, 0, 0.49411764705882355, 0.5],\n",
              " [0, 0, 0.4980392156862745, 0.5],\n",
              " [0, 0, 0.5019607843137255, 0.5],\n",
              " [0, 0, 0.5058823529411764, 0.5],\n",
              " [0, 0, 0.5098039215686274, 0.5],\n",
              " [0, 0, 0.5137254901960784, 0.5],\n",
              " [0, 0, 0.5176470588235295, 0.5],\n",
              " [0, 0, 0.5215686274509804, 0.5],\n",
              " [0, 0, 0.5254901960784314, 0.5],\n",
              " [0, 0, 0.5294117647058824, 0.5],\n",
              " [0, 0, 0.5333333333333333, 0.5],\n",
              " [0, 0, 0.5372549019607843, 0.5],\n",
              " [0, 0, 0.5411764705882353, 0.5],\n",
              " [0, 0, 0.5450980392156862, 0.5],\n",
              " [0, 0, 0.5490196078431373, 0.5],\n",
              " [0, 0, 0.5529411764705883, 0.5],\n",
              " [0, 0, 0.5568627450980392, 0.5],\n",
              " [0, 0, 0.5607843137254902, 0.5],\n",
              " [0, 0, 0.5647058823529412, 0.5],\n",
              " [0, 0, 0.5686274509803921, 0.5],\n",
              " [0, 0, 0.5725490196078431, 0.5],\n",
              " [0, 0, 0.5764705882352941, 0.5],\n",
              " [0, 0, 0.5803921568627451, 0.5],\n",
              " [0, 0, 0.5843137254901961, 0.5],\n",
              " [0, 0, 0.5882352941176471, 0.5],\n",
              " [0, 0, 0.592156862745098, 0.5],\n",
              " [0, 0, 0.596078431372549, 0.5],\n",
              " [0, 0, 0.6, 0.5],\n",
              " [0, 0, 0.6039215686274509, 0.5],\n",
              " [0, 0, 0.6078431372549019, 0.5],\n",
              " [0, 0, 0.611764705882353, 0.5],\n",
              " [0, 0, 0.615686274509804, 0.5],\n",
              " [0, 0, 0.6196078431372549, 0.5],\n",
              " [0, 0, 0.6235294117647059, 0.5],\n",
              " [0, 0, 0.6274509803921569, 0.5],\n",
              " [0, 0, 0.6313725490196078, 0.5],\n",
              " [0, 0, 0.6352941176470588, 0.5],\n",
              " [0, 0, 0.6392156862745098, 0.5],\n",
              " [0, 0, 0.6431372549019608, 0.5],\n",
              " [0, 0, 0.6470588235294118, 0.5],\n",
              " [0, 0, 0.6509803921568628, 0.5],\n",
              " [0, 0, 0.6549019607843137, 0.5],\n",
              " [0, 0, 0.6588235294117647, 0.5],\n",
              " [0, 0, 0.6627450980392157, 0.5],\n",
              " [0, 0, 0.6666666666666666, 0.5],\n",
              " [0, 0, 0.6705882352941176, 0.5],\n",
              " [0, 0, 0.6745098039215687, 0.5],\n",
              " [0, 0, 0.6784313725490196, 0.5],\n",
              " [0, 0, 0.6823529411764706, 0.5],\n",
              " [0, 0, 0.6862745098039216, 0.5],\n",
              " [0, 0, 0.6901960784313725, 0.5],\n",
              " [0, 0, 0.6941176470588235, 0.5],\n",
              " [0, 0, 0.6980392156862745, 0.5],\n",
              " [0, 0, 0.7019607843137254, 0.5],\n",
              " [0, 0, 0.7058823529411765, 0.5],\n",
              " [0, 0, 0.7098039215686275, 0.5],\n",
              " [0, 0, 0.7137254901960784, 0.5],\n",
              " [0, 0, 0.7176470588235294, 0.5],\n",
              " [0, 0, 0.7215686274509804, 0.5],\n",
              " [0, 0, 0.7254901960784313, 0.5],\n",
              " [0, 0, 0.7294117647058823, 0.5],\n",
              " [0, 0, 0.7333333333333333, 0.5],\n",
              " [0, 0, 0.7372549019607844, 0.5],\n",
              " [0, 0, 0.7411764705882353, 0.5],\n",
              " [0, 0, 0.7450980392156863, 0.5],\n",
              " [0, 0, 0.7490196078431373, 0.5]]"
            ]
          },
          "metadata": {
            "tags": []
          },
          "execution_count": 26
        }
      ]
    },
    {
      "cell_type": "code",
      "metadata": {
        "id": "Ze9m56DH8J3v",
        "colab_type": "code",
        "colab": {
          "base_uri": "https://localhost:8080/",
          "height": 282
        },
        "outputId": "a5382824-e936-4dfa-844d-07b97a389c5e"
      },
      "source": [
        "plt.scatter(data['x'],data['y'],c=c_list,s=range(5,len(data['x'])+5))"
      ],
      "execution_count": 27,
      "outputs": [
        {
          "output_type": "execute_result",
          "data": {
            "text/plain": [
              "<matplotlib.collections.PathCollection at 0x7ff13d1adc50>"
            ]
          },
          "metadata": {
            "tags": []
          },
          "execution_count": 27
        },
        {
          "output_type": "display_data",
          "data": {
            "image/png": "[encoded data removed]",
            "text/plain": [
              "<Figure size 432x288 with 1 Axes>"
            ]
          },
          "metadata": {
            "tags": [],
            "needs_background": "light"
          }
        }
      ]
    },
    {
      "cell_type": "code",
      "metadata": {
        "id": "Sd-IKGTO-FYN",
        "colab_type": "code",
        "colab": {
          "base_uri": "https://localhost:8080/",
          "height": 282
        },
        "outputId": "506a762d-1c73-47aa-aa89-8cfabd33301e"
      },
      "source": [
        "plt.plot(data['x'],data['y'],'r--')"
      ],
      "execution_count": 28,
      "outputs": [
        {
          "output_type": "execute_result",
          "data": {
            "text/plain": [
              "[<matplotlib.lines.Line2D at 0x7ff13d5e7b00>]"
            ]
          },
          "metadata": {
            "tags": []
          },
          "execution_count": 28
        },
        {
          "output_type": "display_data",
          "data": {
            "image/png": "[encoded data removed]",
            "text/plain": [
              "<Figure size 432x288 with 1 Axes>"
            ]
          },
          "metadata": {
            "tags": [],
            "needs_background": "light"
          }
        }
      ]
    },
    {
      "cell_type": "markdown",
      "metadata": {
        "id": "PG6nwsL8-gdE",
        "colab_type": "text"
      },
      "source": [
        "# Bachart"
      ]
    },
    {
      "cell_type": "code",
      "metadata": {
        "id": "jp21QNeB-fe0",
        "colab_type": "code",
        "colab": {}
      },
      "source": [
        "import matplotlib\n",
        "import matplotlib.pyplot as plt\n",
        "import numpy as np"
      ],
      "execution_count": 29,
      "outputs": []
    },
    {
      "cell_type": "code",
      "metadata": {
        "id": "7ZgAUIDK_4rG",
        "colab_type": "code",
        "colab": {}
      },
      "source": [
        "labels = ['G1', 'G2', 'G3', 'G4', 'G5']\n",
        "men_means = [20, 34, 30, 35, 27]\n",
        "women_means = [25, 32, 34, 20, 25]"
      ],
      "execution_count": 30,
      "outputs": []
    },
    {
      "cell_type": "code",
      "metadata": {
        "id": "NZFrN7cr_82D",
        "colab_type": "code",
        "colab": {}
      },
      "source": [
        "x = np.arange(len(labels))  # the label locations\n",
        "width = 0.35  # the width of the bars"
      ],
      "execution_count": 31,
      "outputs": []
    },
    {
      "cell_type": "code",
      "metadata": {
        "id": "VA3hf_mmBfkG",
        "colab_type": "code",
        "colab": {
          "base_uri": "https://localhost:8080/",
          "height": 297
        },
        "outputId": "20f5932c-3103-456b-a0d6-eb7d9784dfb8"
      },
      "source": [
        "fig, ax = plt.subplots()\n",
        "rects1 = ax.bar(x - width/2, men_means, width, label='Men')\n",
        "rects2 = ax.bar(x + width/2, women_means, width, label='Women')\n",
        "# Add some text for labels, title and custom x-axis tick labels, etc.\n",
        "ax.set_ylabel('Scores') # เพิ่มค่าแกน y\n",
        "ax.set_title('Scores by group and gender') # ใส่ชื่อ\n",
        "ax.set_xticks(x)\n",
        "ax.set_xticklabels(labels) # เปลี่ยนชื่อแนวแกน x\n",
        "ax.legend() # บอกสีอะไรเป็นของสีอะไร มาจาก 2,3\n",
        "# ใส่เลขบนแท่ง\n",
        "def autolabel(rects):\n",
        "    \"\"\"Attach a text label above each bar in *rects*, displaying its height.\"\"\"\n",
        "    for rect in rects:\n",
        "        height = rect.get_height()\n",
        "        ax.annotate('{}'.format(height), \n",
        "                    xy=(rect.get_x() + rect.get_width() / 2, height),\n",
        "                    xytext=(0, 3),  # 3 points vertical offset\n",
        "                    textcoords=\"offset points\",\n",
        "                    ha='center', va='bottom')\n",
        "\n",
        "\n",
        "autolabel(rects1)\n",
        "autolabel(rects2)\n",
        "\n",
        "fig.tight_layout()\n"
      ],
      "execution_count": 32,
      "outputs": [
        {
          "output_type": "display_data",
          "data": {
            "image/png": "[encoded data removed]",
            "text/plain": [
              "<Figure size 432x288 with 1 Axes>"
            ]
          },
          "metadata": {
            "tags": [],
            "needs_background": "light"
          }
        }
      ]
    },
    {
      "cell_type": "code",
      "metadata": {
        "id": "asPPbIBcD3pd",
        "colab_type": "code",
        "colab": {
          "base_uri": "https://localhost:8080/",
          "height": 298
        },
        "outputId": "383c45f1-69fa-4aa8-d6be-7192ff2ea8a2"
      },
      "source": [
        " plt.bar(x - width/2, men_means, width, label='Men')\n",
        " plt.bar(x + width/2, women_means, width, label='Women')\n",
        " plt.ylabel('Scores')\n",
        " plt.title('Scores by group and gender')\n",
        " plt.legend()\n",
        " # แบบง่าย"
      ],
      "execution_count": 33,
      "outputs": [
        {
          "output_type": "execute_result",
          "data": {
            "text/plain": [
              "<matplotlib.legend.Legend at 0x7ff13d07c4a8>"
            ]
          },
          "metadata": {
            "tags": []
          },
          "execution_count": 33
        },
        {
          "output_type": "display_data",
          "data": {
            "image/png": "[encoded data removed]",
            "text/plain": [
              "<Figure size 432x288 with 1 Axes>"
            ]
          },
          "metadata": {
            "tags": [],
            "needs_background": "light"
          }
        }
      ]
    },
    {
      "cell_type": "markdown",
      "metadata": {
        "id": "YCEv4AjhGf8D",
        "colab_type": "text"
      },
      "source": [
        "# Histogram"
      ]
    },
    {
      "cell_type": "code",
      "metadata": {
        "id": "zu6NLa6ZGrVT",
        "colab_type": "code",
        "colab": {
          "base_uri": "https://localhost:8080/",
          "height": 317
        },
        "outputId": "f94f6afd-8a54-474c-ad5c-360b8ab7830b"
      },
      "source": [
        "x = [1,1,1,1,4,4,2,2,3]\n",
        "plt.hist(x)"
      ],
      "execution_count": 34,
      "outputs": [
        {
          "output_type": "execute_result",
          "data": {
            "text/plain": [
              "(array([4., 0., 0., 2., 0., 0., 1., 0., 0., 2.]),\n",
              " array([1. , 1.3, 1.6, 1.9, 2.2, 2.5, 2.8, 3.1, 3.4, 3.7, 4. ]),\n",
              " <a list of 10 Patch objects>)"
            ]
          },
          "metadata": {
            "tags": []
          },
          "execution_count": 34
        },
        {
          "output_type": "display_data",
          "data": {
            "image/png": "[encoded data removed]",
            "text/plain": [
              "<Figure size 432x288 with 1 Axes>"
            ]
          },
          "metadata": {
            "tags": [],
            "needs_background": "light"
          }
        }
      ]
    },
    {
      "cell_type": "markdown",
      "metadata": {
        "id": "rcYz3SuPIJsq",
        "colab_type": "text"
      },
      "source": [
        "# Q-Q plot"
      ]
    },
    {
      "cell_type": "code",
      "metadata": {
        "id": "J-XkLB63vUOd",
        "colab_type": "code",
        "colab": {}
      },
      "source": [
        "# ดูว่าเป็น normal distribution หรือป่าว หรือ เปรียบเทียบว่าสองข้อมูลมีกระจายแบบเดียวกันหรือป่าว"
      ],
      "execution_count": 36,
      "outputs": []
    },
    {
      "cell_type": "code",
      "metadata": {
        "id": "BBqwTBcwIJMN",
        "colab_type": "code",
        "colab": {
          "base_uri": "https://localhost:8080/",
          "height": 312
        },
        "outputId": "fc37e762-b24e-4cb2-fdae-9d9130bdc541"
      },
      "source": [
        "N = 1200\n",
        "p = 0.53\n",
        "q = 1000\n",
        "obs = np.random.binomial(N, p, size = q)/N\n",
        "import scipy.stats as stats\n",
        "z = (obs-np.mean(obs))/np.std(obs)\n",
        "stats.probplot(z, dist=\"norm\", plot=plt) #กำหนดว่าจะเทียบกับ distribution ไหน อันนี้เทียบกับ Normal\n",
        "plt.title(\"Normal Q-Q plot\")"
      ],
      "execution_count": 35,
      "outputs": [
        {
          "output_type": "execute_result",
          "data": {
            "text/plain": [
              "Text(0.5, 1.0, 'Normal Q-Q plot')"
            ]
          },
          "metadata": {
            "tags": []
          },
          "execution_count": 35
        },
        {
          "output_type": "display_data",
          "data": {
            "image/png": "[encoded data removed]",
            "text/plain": [
              "<Figure size 432x288 with 1 Axes>"
            ]
          },
          "metadata": {
            "tags": [],
            "needs_background": "light"
          }
        }
      ]
    },
    {
      "cell_type": "markdown",
      "metadata": {
        "id": "C9IcbM3atNnw",
        "colab_type": "text"
      },
      "source": [
        "HW show application #2 of Q-Q plot which is compare distribution of the two datasets"
      ]
    },
    {
      "cell_type": "code",
      "metadata": {
        "id": "ciselpd2xhOg",
        "colab_type": "code",
        "colab": {
          "base_uri": "https://localhost:8080/",
          "height": 312
        },
        "outputId": "a359357f-39de-437f-9bed-458ed441e5a8"
      },
      "source": [
        "N = 1200\n",
        "p = 0.53\n",
        "q = 1000\n",
        "obs = np.random.binomial(N, p, size = q)/N\n",
        "import numpy as np \n",
        "import scipy.stats as stats\n",
        "s = (obs-np.mean(obs))/np.std(obs)\n",
        "x = np.random.normal(loc = 50, scale = 10, size=100)\n",
        "stats.probplot(s, dist=\"norm\", plot=plt)\n",
        "stats.probplot(x, dist=\"norm\", plot=plt)\n",
        "plt.title(\"Normal Q-Q plot\")"
      ],
      "execution_count": 37,
      "outputs": [
        {
          "output_type": "execute_result",
          "data": {
            "text/plain": [
              "Text(0.5, 1.0, 'Normal Q-Q plot')"
            ]
          },
          "metadata": {
            "tags": []
          },
          "execution_count": 37
        },
        {
          "output_type": "display_data",
          "data": {
            "image/png": "[encoded data removed]",
            "text/plain": [
              "<Figure size 432x288 with 1 Axes>"
            ]
          },
          "metadata": {
            "tags": [],
            "needs_background": "light"
          }
        }
      ]
    },
    {
      "cell_type": "code",
      "metadata": {
        "id": "HTs-25q-Q3K8",
        "colab_type": "code",
        "colab": {}
      },
      "source": [
        "import numpy as np #ข้อมูลตัวเลข ดำเนินการเมตริกทุกรูปแบบ"
      ],
      "execution_count": 106,
      "outputs": []
    },
    {
      "cell_type": "code",
      "metadata": {
        "id": "MEDsQrhcQ3hz",
        "colab_type": "code",
        "colab": {}
      },
      "source": [
        "r = np.random.normal(3,1.5,100)"
      ],
      "execution_count": 107,
      "outputs": []
    },
    {
      "cell_type": "code",
      "metadata": {
        "id": "VOzfgb27Q37l",
        "colab_type": "code",
        "colab": {
          "base_uri": "https://localhost:8080/",
          "height": 364
        },
        "outputId": "baf9c9cf-5469-4884-b720-49187bb66f69"
      },
      "source": [
        "r"
      ],
      "execution_count": 113,
      "outputs": [
        {
          "output_type": "execute_result",
          "data": {
            "text/plain": [
              "array([ 3.17337593,  0.98132438,  1.18741967,  2.23040797,  4.59663171,\n",
              "        0.63809929,  3.28403465,  2.99665904,  4.50636145,  2.32735347,\n",
              "        3.61049529,  2.10447508,  3.35146716,  2.61866822,  1.82498363,\n",
              "        2.56089419,  4.86178894,  7.60907686,  1.68212378,  1.95216158,\n",
              "        1.62265989,  2.58629826,  0.53593192,  0.97135078,  1.37342725,\n",
              "        2.91342832,  2.8713384 ,  3.08761091,  4.39886341,  5.89535106,\n",
              "        3.8718834 ,  6.01703385,  4.94877489,  4.05591097,  1.71949454,\n",
              "        1.23424762,  2.10893672,  4.20516635,  3.07018511,  4.24334759,\n",
              "        3.30248594,  4.15445915,  3.99847799,  1.8865351 ,  2.22922028,\n",
              "        3.12461536,  4.16466645,  2.60304975,  3.53530017,  4.36892701,\n",
              "        2.55966535,  1.11648394,  4.14611322,  2.44072641,  2.16346823,\n",
              "        3.24062359,  3.81574547,  1.93794225,  2.75206271,  4.51618191,\n",
              "        1.96274489,  7.45540465,  1.49060073,  5.13581865,  4.50904379,\n",
              "        3.09999596, -0.40464671,  2.36951759,  2.08325657,  2.83408098,\n",
              "        2.38714489,  2.8878336 ,  3.82369191,  1.40482309,  3.45642211,\n",
              "        3.88001508,  2.5099495 ,  1.16837082,  4.66515164,  0.60635499,\n",
              "        3.20356394,  2.92483074,  4.5852903 ,  2.71996552,  1.06885642,\n",
              "        4.24880851,  3.88109555, -0.57147756,  3.79334782,  3.01424839,\n",
              "        5.05061306,  2.80085765,  0.15815081,  3.13949609,  1.58475206,\n",
              "        3.67377292,  3.63014617,  0.32755369,  2.77427064,  3.14278577])"
            ]
          },
          "metadata": {
            "tags": []
          },
          "execution_count": 113
        }
      ]
    },
    {
      "cell_type": "code",
      "metadata": {
        "id": "s2Wvv9BbTAvr",
        "colab_type": "code",
        "colab": {
          "base_uri": "https://localhost:8080/",
          "height": 354
        },
        "outputId": "c44e2b2d-d810-4820-ac60-9c32a8ea6373"
      },
      "source": [
        "from matplotlib import  pyplot as pyplot\n",
        "\n",
        "plt.hist(r)"
      ],
      "execution_count": 114,
      "outputs": [
        {
          "output_type": "execute_result",
          "data": {
            "text/plain": [
              "(array([ 3.,  6., 13., 20., 24., 18., 12.,  1.,  1.,  2.]),\n",
              " array([-0.57147756,  0.24657788,  1.06463332,  1.88268877,  2.70074421,\n",
              "         3.51879965,  4.33685509,  5.15491053,  5.97296597,  6.79102142,\n",
              "         7.60907686]),\n",
              " <a list of 10 Patch objects>)"
            ]
          },
          "metadata": {
            "tags": []
          },
          "execution_count": 114
        },
        {
          "output_type": "display_data",
          "data": {
            "image/png": "[encoded data removed]",
            "text/plain": [
              "<Figure size 432x288 with 1 Axes>"
            ]
          },
          "metadata": {
            "tags": [],
            "needs_background": "light"
          }
        }
      ]
    },
    {
      "cell_type": "code",
      "metadata": {
        "id": "S0bUkEzzUSFH",
        "colab_type": "code",
        "colab": {
          "base_uri": "https://localhost:8080/",
          "height": 352
        },
        "outputId": "fd5df451-421c-46bd-ffc2-832a208802e1"
      },
      "source": [
        "s_uni = np.random.uniform(0,6,100)\n",
        "\n",
        "plt.hist(s_uni)"
      ],
      "execution_count": 116,
      "outputs": [
        {
          "output_type": "execute_result",
          "data": {
            "text/plain": [
              "(array([15., 10.,  5.,  5., 10., 15.,  9.,  5.,  9., 17.]),\n",
              " array([0.10109307, 0.68911753, 1.27714199, 1.86516644, 2.4531909 ,\n",
              "        3.04121535, 3.62923981, 4.21726427, 4.80528872, 5.39331318,\n",
              "        5.98133764]),\n",
              " <a list of 10 Patch objects>)"
            ]
          },
          "metadata": {
            "tags": []
          },
          "execution_count": 116
        },
        {
          "output_type": "display_data",
          "data": {
            "image/png": "[encoded data removed]",
            "text/plain": [
              "<Figure size 432x288 with 1 Axes>"
            ]
          },
          "metadata": {
            "tags": [],
            "needs_background": "light"
          }
        }
      ]
    },
    {
      "cell_type": "code",
      "metadata": {
        "id": "3KgddI81WMNT",
        "colab_type": "code",
        "colab": {}
      },
      "source": [
        "r_sorted = np.sort(r)"
      ],
      "execution_count": 117,
      "outputs": []
    },
    {
      "cell_type": "code",
      "metadata": {
        "id": "G1y-_dhIWWM0",
        "colab_type": "code",
        "colab": {}
      },
      "source": [
        "s_uni_sorted = np.sort(s_uni)"
      ],
      "execution_count": 118,
      "outputs": []
    },
    {
      "cell_type": "code",
      "metadata": {
        "id": "tnMFNFiKW0a9",
        "colab_type": "code",
        "colab": {
          "base_uri": "https://localhost:8080/",
          "height": 297
        },
        "outputId": "51109479-4cff-4e0f-8a8e-ec11e0561ee5"
      },
      "source": [
        "plt.scatter(r_sorted,s_uni_sorted)\n",
        "plt.plot(range(7),range(7),'r-')\n",
        "plt.ylabel('s_uni_sorted')\n",
        "plt.xlabel('r_sorted')"
      ],
      "execution_count": 119,
      "outputs": [
        {
          "output_type": "execute_result",
          "data": {
            "text/plain": [
              "Text(0.5, 0, 'r_sorted')"
            ]
          },
          "metadata": {
            "tags": []
          },
          "execution_count": 119
        },
        {
          "output_type": "display_data",
          "data": {
            "image/png": "[encoded data removed]",
            "text/plain": [
              "<Figure size 432x288 with 1 Axes>"
            ]
          },
          "metadata": {
            "tags": [],
            "needs_background": "light"
          }
        }
      ]
    },
    {
      "cell_type": "markdown",
      "metadata": {
        "id": "xI9Xss2vZMjq",
        "colab_type": "text"
      },
      "source": [
        "##plot Q-Q plot to compare distributions of np.random.normai(3,0.5,20000) and uniform distribution of 50000 datapoints"
      ]
    },
    {
      "cell_type": "code",
      "metadata": {
        "id": "4_q3AucsZs5i",
        "colab_type": "code",
        "colab": {}
      },
      "source": [
        "\n",
        "ex = np.random.normal(3,0.5,20000)"
      ],
      "execution_count": 120,
      "outputs": []
    },
    {
      "cell_type": "code",
      "metadata": {
        "id": "gEtiSPSzaNF6",
        "colab_type": "code",
        "colab": {
          "base_uri": "https://localhost:8080/",
          "height": 52
        },
        "outputId": "c2568930-7784-42cd-d6ed-17ffe2c88e91"
      },
      "source": [
        "ex"
      ],
      "execution_count": 121,
      "outputs": [
        {
          "output_type": "execute_result",
          "data": {
            "text/plain": [
              "array([3.91318525, 2.17540279, 2.81761706, ..., 3.30010662, 3.03265082,\n",
              "       2.5890471 ])"
            ]
          },
          "metadata": {
            "tags": []
          },
          "execution_count": 121
        }
      ]
    },
    {
      "cell_type": "code",
      "metadata": {
        "id": "6iHhgoFcaf9Q",
        "colab_type": "code",
        "colab": {
          "base_uri": "https://localhost:8080/",
          "height": 369
        },
        "outputId": "57325437-31f2-46eb-816e-cffa06c0601e"
      },
      "source": [
        "from matplotlib import  pyplot as pyplot\n",
        "\n",
        "plt.hist(ex)"
      ],
      "execution_count": 122,
      "outputs": [
        {
          "output_type": "execute_result",
          "data": {
            "text/plain": [
              "(array([6.000e+00, 6.500e+01, 5.060e+02, 2.133e+03, 4.936e+03, 6.146e+03,\n",
              "        4.225e+03, 1.633e+03, 3.100e+02, 4.000e+01]),\n",
              " array([0.8714912 , 1.26814494, 1.66479868, 2.06145242, 2.45810617,\n",
              "        2.85475991, 3.25141365, 3.64806739, 4.04472113, 4.44137487,\n",
              "        4.83802861]),\n",
              " <a list of 10 Patch objects>)"
            ]
          },
          "metadata": {
            "tags": []
          },
          "execution_count": 122
        },
        {
          "output_type": "display_data",
          "data": {
            "image/png": "[encoded data removed]",
            "text/plain": [
              "<Figure size 432x288 with 1 Axes>"
            ]
          },
          "metadata": {
            "tags": [],
            "needs_background": "light"
          }
        }
      ]
    },
    {
      "cell_type": "code",
      "metadata": {
        "id": "_ziaohI4a-iQ",
        "colab_type": "code",
        "colab": {
          "base_uri": "https://localhost:8080/",
          "height": 367
        },
        "outputId": "59cf0e04-8725-4173-9aa4-c366383f45e0"
      },
      "source": [
        "ex_uni = np.random.uniform(1,5,50000)\n",
        "\n",
        "plt.hist(ex_uni)"
      ],
      "execution_count": 123,
      "outputs": [
        {
          "output_type": "execute_result",
          "data": {
            "text/plain": [
              "(array([5000., 5042., 4981., 4893., 5049., 5037., 5021., 5046., 4920.,\n",
              "        5011.]),\n",
              " array([1.00026461, 1.40023415, 1.80020369, 2.20017323, 2.60014277,\n",
              "        3.00011231, 3.40008185, 3.80005139, 4.20002093, 4.59999047,\n",
              "        4.99996001]),\n",
              " <a list of 10 Patch objects>)"
            ]
          },
          "metadata": {
            "tags": []
          },
          "execution_count": 123
        },
        {
          "output_type": "display_data",
          "data": {
            "image/png": "[encoded data removed]",
            "text/plain": [
              "<Figure size 432x288 with 1 Axes>"
            ]
          },
          "metadata": {
            "tags": [],
            "needs_background": "light"
          }
        }
      ]
    },
    {
      "cell_type": "code",
      "metadata": {
        "id": "c4zEb6TcbhJr",
        "colab_type": "code",
        "colab": {}
      },
      "source": [
        "ex_sorted = np.sort(ex_uni)"
      ],
      "execution_count": 124,
      "outputs": []
    },
    {
      "cell_type": "code",
      "metadata": {
        "id": "pfCe2XzWd55K",
        "colab_type": "code",
        "colab": {
          "base_uri": "https://localhost:8080/",
          "height": 34
        },
        "outputId": "d2711c13-d171-47f4-b644-8bce48342f36"
      },
      "source": [
        "len(list(ex_sorted)[::200])"
      ],
      "execution_count": 127,
      "outputs": [
        {
          "output_type": "execute_result",
          "data": {
            "text/plain": [
              "100"
            ]
          },
          "metadata": {
            "tags": []
          },
          "execution_count": 127
        }
      ]
    },
    {
      "cell_type": "code",
      "metadata": {
        "id": "S2lt32PrbmHS",
        "colab_type": "code",
        "colab": {}
      },
      "source": [
        "ex_uni_sorted = np.sort(ex_uni)"
      ],
      "execution_count": 125,
      "outputs": []
    },
    {
      "cell_type": "code",
      "metadata": {
        "id": "lhelAxQuexYc",
        "colab_type": "code",
        "colab": {
          "base_uri": "https://localhost:8080/",
          "height": 34
        },
        "outputId": "1a84e9e0-3a40-43a3-fef6-2e442d71660d"
      },
      "source": [
        "len(list(ex_uni_sorted)[::500])"
      ],
      "execution_count": 128,
      "outputs": [
        {
          "output_type": "execute_result",
          "data": {
            "text/plain": [
              "100"
            ]
          },
          "metadata": {
            "tags": []
          },
          "execution_count": 128
        }
      ]
    },
    {
      "cell_type": "code",
      "metadata": {
        "id": "eTOXeCRDbx-P",
        "colab_type": "code",
        "colab": {
          "base_uri": "https://localhost:8080/",
          "height": 297
        },
        "outputId": "8be8e33a-a833-46d6-9c18-cc91f89f3273"
      },
      "source": [
        "plt.scatter(list(ex_sorted)[::200],list(ex_uni_sorted)[::500])\n",
        "plt.plot(range(1,6),range(1,6),'r-')\n",
        "plt.ylabel('s_uni_sorted')\n",
        "plt.xlabel('r_sorted')"
      ],
      "execution_count": 130,
      "outputs": [
        {
          "output_type": "execute_result",
          "data": {
            "text/plain": [
              "Text(0.5, 0, 'r_sorted')"
            ]
          },
          "metadata": {
            "tags": []
          },
          "execution_count": 130
        },
        {
          "output_type": "display_data",
          "data": {
            "image/png": "[encoded data removed]",
            "text/plain": [
              "<Figure size 432x288 with 1 Axes>"
            ]
          },
          "metadata": {
            "tags": [],
            "needs_background": "light"
          }
        }
      ]
    },
    {
      "cell_type": "markdown",
      "metadata": {
        "id": "PCVGRV0UiAQi",
        "colab_type": "text"
      },
      "source": [
        "#Heamtmap"
      ]
    },
    {
      "cell_type": "code",
      "metadata": {
        "id": "7Spph1mlh7PZ",
        "colab_type": "code",
        "colab": {}
      },
      "source": [
        "from sklearn import datasets "
      ],
      "execution_count": 144,
      "outputs": []
    },
    {
      "cell_type": "code",
      "metadata": {
        "id": "ekSgNnj-iXQP",
        "colab_type": "code",
        "colab": {}
      },
      "source": [
        "iris = datasets.load_iris()"
      ],
      "execution_count": 145,
      "outputs": []
    },
    {
      "cell_type": "code",
      "metadata": {
        "id": "YPvS42WwiY5Y",
        "colab_type": "code",
        "colab": {
          "base_uri": "https://localhost:8080/",
          "height": 1000
        },
        "outputId": "17889b71-aa59-46db-b74d-645072cd3d90"
      },
      "source": [
        "iris.data"
      ],
      "execution_count": 146,
      "outputs": [
        {
          "output_type": "execute_result",
          "data": {
            "text/plain": [
              "array([[5.1, 3.5, 1.4, 0.2],\n",
              "       [4.9, 3. , 1.4, 0.2],\n",
              "       [4.7, 3.2, 1.3, 0.2],\n",
              "       [4.6, 3.1, 1.5, 0.2],\n",
              "       [5. , 3.6, 1.4, 0.2],\n",
              "       [5.4, 3.9, 1.7, 0.4],\n",
              "       [4.6, 3.4, 1.4, 0.3],\n",
              "       [5. , 3.4, 1.5, 0.2],\n",
              "       [4.4, 2.9, 1.4, 0.2],\n",
              "       [4.9, 3.1, 1.5, 0.1],\n",
              "       [5.4, 3.7, 1.5, 0.2],\n",
              "       [4.8, 3.4, 1.6, 0.2],\n",
              "       [4.8, 3. , 1.4, 0.1],\n",
              "       [4.3, 3. , 1.1, 0.1],\n",
              "       [5.8, 4. , 1.2, 0.2],\n",
              "       [5.7, 4.4, 1.5, 0.4],\n",
              "       [5.4, 3.9, 1.3, 0.4],\n",
              "       [5.1, 3.5, 1.4, 0.3],\n",
              "       [5.7, 3.8, 1.7, 0.3],\n",
              "       [5.1, 3.8, 1.5, 0.3],\n",
              "       [5.4, 3.4, 1.7, 0.2],\n",
              "       [5.1, 3.7, 1.5, 0.4],\n",
              "       [4.6, 3.6, 1. , 0.2],\n",
              "       [5.1, 3.3, 1.7, 0.5],\n",
              "       [4.8, 3.4, 1.9, 0.2],\n",
              "       [5. , 3. , 1.6, 0.2],\n",
              "       [5. , 3.4, 1.6, 0.4],\n",
              "       [5.2, 3.5, 1.5, 0.2],\n",
              "       [5.2, 3.4, 1.4, 0.2],\n",
              "       [4.7, 3.2, 1.6, 0.2],\n",
              "       [4.8, 3.1, 1.6, 0.2],\n",
              "       [5.4, 3.4, 1.5, 0.4],\n",
              "       [5.2, 4.1, 1.5, 0.1],\n",
              "       [5.5, 4.2, 1.4, 0.2],\n",
              "       [4.9, 3.1, 1.5, 0.2],\n",
              "       [5. , 3.2, 1.2, 0.2],\n",
              "       [5.5, 3.5, 1.3, 0.2],\n",
              "       [4.9, 3.6, 1.4, 0.1],\n",
              "       [4.4, 3. , 1.3, 0.2],\n",
              "       [5.1, 3.4, 1.5, 0.2],\n",
              "       [5. , 3.5, 1.3, 0.3],\n",
              "       [4.5, 2.3, 1.3, 0.3],\n",
              "       [4.4, 3.2, 1.3, 0.2],\n",
              "       [5. , 3.5, 1.6, 0.6],\n",
              "       [5.1, 3.8, 1.9, 0.4],\n",
              "       [4.8, 3. , 1.4, 0.3],\n",
              "       [5.1, 3.8, 1.6, 0.2],\n",
              "       [4.6, 3.2, 1.4, 0.2],\n",
              "       [5.3, 3.7, 1.5, 0.2],\n",
              "       [5. , 3.3, 1.4, 0.2],\n",
              "       [7. , 3.2, 4.7, 1.4],\n",
              "       [6.4, 3.2, 4.5, 1.5],\n",
              "       [6.9, 3.1, 4.9, 1.5],\n",
              "       [5.5, 2.3, 4. , 1.3],\n",
              "       [6.5, 2.8, 4.6, 1.5],\n",
              "       [5.7, 2.8, 4.5, 1.3],\n",
              "       [6.3, 3.3, 4.7, 1.6],\n",
              "       [4.9, 2.4, 3.3, 1. ],\n",
              "       [6.6, 2.9, 4.6, 1.3],\n",
              "       [5.2, 2.7, 3.9, 1.4],\n",
              "       [5. , 2. , 3.5, 1. ],\n",
              "       [5.9, 3. , 4.2, 1.5],\n",
              "       [6. , 2.2, 4. , 1. ],\n",
              "       [6.1, 2.9, 4.7, 1.4],\n",
              "       [5.6, 2.9, 3.6, 1.3],\n",
              "       [6.7, 3.1, 4.4, 1.4],\n",
              "       [5.6, 3. , 4.5, 1.5],\n",
              "       [5.8, 2.7, 4.1, 1. ],\n",
              "       [6.2, 2.2, 4.5, 1.5],\n",
              "       [5.6, 2.5, 3.9, 1.1],\n",
              "       [5.9, 3.2, 4.8, 1.8],\n",
              "       [6.1, 2.8, 4. , 1.3],\n",
              "       [6.3, 2.5, 4.9, 1.5],\n",
              "       [6.1, 2.8, 4.7, 1.2],\n",
              "       [6.4, 2.9, 4.3, 1.3],\n",
              "       [6.6, 3. , 4.4, 1.4],\n",
              "       [6.8, 2.8, 4.8, 1.4],\n",
              "       [6.7, 3. , 5. , 1.7],\n",
              "       [6. , 2.9, 4.5, 1.5],\n",
              "       [5.7, 2.6, 3.5, 1. ],\n",
              "       [5.5, 2.4, 3.8, 1.1],\n",
              "       [5.5, 2.4, 3.7, 1. ],\n",
              "       [5.8, 2.7, 3.9, 1.2],\n",
              "       [6. , 2.7, 5.1, 1.6],\n",
              "       [5.4, 3. , 4.5, 1.5],\n",
              "       [6. , 3.4, 4.5, 1.6],\n",
              "       [6.7, 3.1, 4.7, 1.5],\n",
              "       [6.3, 2.3, 4.4, 1.3],\n",
              "       [5.6, 3. , 4.1, 1.3],\n",
              "       [5.5, 2.5, 4. , 1.3],\n",
              "       [5.5, 2.6, 4.4, 1.2],\n",
              "       [6.1, 3. , 4.6, 1.4],\n",
              "       [5.8, 2.6, 4. , 1.2],\n",
              "       [5. , 2.3, 3.3, 1. ],\n",
              "       [5.6, 2.7, 4.2, 1.3],\n",
              "       [5.7, 3. , 4.2, 1.2],\n",
              "       [5.7, 2.9, 4.2, 1.3],\n",
              "       [6.2, 2.9, 4.3, 1.3],\n",
              "       [5.1, 2.5, 3. , 1.1],\n",
              "       [5.7, 2.8, 4.1, 1.3],\n",
              "       [6.3, 3.3, 6. , 2.5],\n",
              "       [5.8, 2.7, 5.1, 1.9],\n",
              "       [7.1, 3. , 5.9, 2.1],\n",
              "       [6.3, 2.9, 5.6, 1.8],\n",
              "       [6.5, 3. , 5.8, 2.2],\n",
              "       [7.6, 3. , 6.6, 2.1],\n",
              "       [4.9, 2.5, 4.5, 1.7],\n",
              "       [7.3, 2.9, 6.3, 1.8],\n",
              "       [6.7, 2.5, 5.8, 1.8],\n",
              "       [7.2, 3.6, 6.1, 2.5],\n",
              "       [6.5, 3.2, 5.1, 2. ],\n",
              "       [6.4, 2.7, 5.3, 1.9],\n",
              "       [6.8, 3. , 5.5, 2.1],\n",
              "       [5.7, 2.5, 5. , 2. ],\n",
              "       [5.8, 2.8, 5.1, 2.4],\n",
              "       [6.4, 3.2, 5.3, 2.3],\n",
              "       [6.5, 3. , 5.5, 1.8],\n",
              "       [7.7, 3.8, 6.7, 2.2],\n",
              "       [7.7, 2.6, 6.9, 2.3],\n",
              "       [6. , 2.2, 5. , 1.5],\n",
              "       [6.9, 3.2, 5.7, 2.3],\n",
              "       [5.6, 2.8, 4.9, 2. ],\n",
              "       [7.7, 2.8, 6.7, 2. ],\n",
              "       [6.3, 2.7, 4.9, 1.8],\n",
              "       [6.7, 3.3, 5.7, 2.1],\n",
              "       [7.2, 3.2, 6. , 1.8],\n",
              "       [6.2, 2.8, 4.8, 1.8],\n",
              "       [6.1, 3. , 4.9, 1.8],\n",
              "       [6.4, 2.8, 5.6, 2.1],\n",
              "       [7.2, 3. , 5.8, 1.6],\n",
              "       [7.4, 2.8, 6.1, 1.9],\n",
              "       [7.9, 3.8, 6.4, 2. ],\n",
              "       [6.4, 2.8, 5.6, 2.2],\n",
              "       [6.3, 2.8, 5.1, 1.5],\n",
              "       [6.1, 2.6, 5.6, 1.4],\n",
              "       [7.7, 3. , 6.1, 2.3],\n",
              "       [6.3, 3.4, 5.6, 2.4],\n",
              "       [6.4, 3.1, 5.5, 1.8],\n",
              "       [6. , 3. , 4.8, 1.8],\n",
              "       [6.9, 3.1, 5.4, 2.1],\n",
              "       [6.7, 3.1, 5.6, 2.4],\n",
              "       [6.9, 3.1, 5.1, 2.3],\n",
              "       [5.8, 2.7, 5.1, 1.9],\n",
              "       [6.8, 3.2, 5.9, 2.3],\n",
              "       [6.7, 3.3, 5.7, 2.5],\n",
              "       [6.7, 3. , 5.2, 2.3],\n",
              "       [6.3, 2.5, 5. , 1.9],\n",
              "       [6.5, 3. , 5.2, 2. ],\n",
              "       [6.2, 3.4, 5.4, 2.3],\n",
              "       [5.9, 3. , 5.1, 1.8]])"
            ]
          },
          "metadata": {
            "tags": []
          },
          "execution_count": 146
        }
      ]
    },
    {
      "cell_type": "code",
      "metadata": {
        "id": "T6yRn9dyi_8J",
        "colab_type": "code",
        "colab": {
          "base_uri": "https://localhost:8080/",
          "height": 1000
        },
        "outputId": "80c5cf58-6c00-471e-b4ec-88418a57ca37"
      },
      "source": [
        "plt.rcParams['figure.figsize'] = [50,80]\n",
        "plt.imshow(iris.data, cmap='hot', interpolation='nearest')"
      ],
      "execution_count": 147,
      "outputs": [
        {
          "output_type": "execute_result",
          "data": {
            "text/plain": [
              "<matplotlib.image.AxesImage at 0x7ff123ea3630>"
            ]
          },
          "metadata": {
            "tags": []
          },
          "execution_count": 147
        },
        {
          "output_type": "display_data",
          "data": {
            "image/png": "[encoded data removed]",
            "text/plain": [
              "<Figure size 3600x5760 with 1 Axes>"
            ]
          },
          "metadata": {
            "tags": [],
            "needs_background": "light"
          }
        }
      ]
    },
    {
      "cell_type": "code",
      "metadata": {
        "id": "QDJDjfdbkH8x",
        "colab_type": "code",
        "colab": {
          "base_uri": "https://localhost:8080/",
          "height": 1000
        },
        "outputId": "7ee5a73c-8879-4e9f-9a26-cbef7193642b"
      },
      "source": [
        "iris"
      ],
      "execution_count": 148,
      "outputs": [
        {
          "output_type": "execute_result",
          "data": {
            "text/plain": [
              "{'DESCR': '.. _iris_dataset:\\n\\nIris plants dataset\\n--------------------\\n\\n**Data Set Characteristics:**\\n\\n    :Number of Instances: 150 (50 in each of three classes)\\n    :Number of Attributes: 4 numeric, predictive attributes and the class\\n    :Attribute Information:\\n        - sepal length in cm\\n        - sepal width in cm\\n        - petal length in cm\\n        - petal width in cm\\n        - class:\\n                - Iris-Setosa\\n                - Iris-Versicolour\\n                - Iris-Virginica\\n                \\n    :Summary Statistics:\\n\\n    ============== ==== ==== ======= ===== ====================\\n                    Min  Max   Mean    SD   Class Correlation\\n    ============== ==== ==== ======= ===== ====================\\n    sepal length:   4.3  7.9   5.84   0.83    0.7826\\n    sepal width:    2.0  4.4   3.05   0.43   -0.4194\\n    petal length:   1.0  6.9   3.76   1.76    0.9490  (high!)\\n    petal width:    0.1  2.5   1.20   0.76    0.9565  (high!)\\n    ============== ==== ==== ======= ===== ====================\\n\\n    :Missing Attribute Values: None\\n    :Class Distribution: 33.3% for each of 3 classes.\\n    :Creator: R.A. Fisher\\n    :Donor: Michael Marshall (MARSHALL%PLU@io.arc.nasa.gov)\\n    :Date: July, 1988\\n\\nThe famous Iris database, first used by Sir R.A. Fisher. The dataset is taken\\nfrom Fisher\\'s paper. Note that it\\'s the same as in R, but not as in the UCI\\nMachine Learning Repository, which has two wrong data points.\\n\\nThis is perhaps the best known database to be found in the\\npattern recognition literature.  Fisher\\'s paper is a classic in the field and\\nis referenced frequently to this day.  (See Duda & Hart, for example.)  The\\ndata set contains 3 classes of 50 instances each, where each class refers to a\\ntype of iris plant.  One class is linearly separable from the other 2; the\\nlatter are NOT linearly separable from each other.\\n\\n.. topic:: References\\n\\n   - Fisher, R.A. \"The use of multiple measurements in taxonomic problems\"\\n     Annual Eugenics, 7, Part II, 179-188 (1936); also in \"Contributions to\\n     Mathematical Statistics\" (John Wiley, NY, 1950).\\n   - Duda, R.O., & Hart, P.E. (1973) Pattern Classification and Scene Analysis.\\n     (Q327.D83) John Wiley & Sons.  ISBN 0-471-22361-1.  See page 218.\\n   - Dasarathy, B.V. (1980) \"Nosing Around the Neighborhood: A New System\\n     Structure and Classification Rule for Recognition in Partially Exposed\\n     Environments\".  IEEE Transactions on Pattern Analysis and Machine\\n     Intelligence, Vol. PAMI-2, No. 1, 67-71.\\n   - Gates, G.W. (1972) \"The Reduced Nearest Neighbor Rule\".  IEEE Transactions\\n     on Information Theory, May 1972, 431-433.\\n   - See also: 1988 MLC Proceedings, 54-64.  Cheeseman et al\"s AUTOCLASS II\\n     conceptual clustering system finds 3 classes in the data.\\n   - Many, many more ...',\n",
              " 'data': array([[5.1, 3.5, 1.4, 0.2],\n",
              "        [4.9, 3. , 1.4, 0.2],\n",
              "        [4.7, 3.2, 1.3, 0.2],\n",
              "        [4.6, 3.1, 1.5, 0.2],\n",
              "        [5. , 3.6, 1.4, 0.2],\n",
              "        [5.4, 3.9, 1.7, 0.4],\n",
              "        [4.6, 3.4, 1.4, 0.3],\n",
              "        [5. , 3.4, 1.5, 0.2],\n",
              "        [4.4, 2.9, 1.4, 0.2],\n",
              "        [4.9, 3.1, 1.5, 0.1],\n",
              "        [5.4, 3.7, 1.5, 0.2],\n",
              "        [4.8, 3.4, 1.6, 0.2],\n",
              "        [4.8, 3. , 1.4, 0.1],\n",
              "        [4.3, 3. , 1.1, 0.1],\n",
              "        [5.8, 4. , 1.2, 0.2],\n",
              "        [5.7, 4.4, 1.5, 0.4],\n",
              "        [5.4, 3.9, 1.3, 0.4],\n",
              "        [5.1, 3.5, 1.4, 0.3],\n",
              "        [5.7, 3.8, 1.7, 0.3],\n",
              "        [5.1, 3.8, 1.5, 0.3],\n",
              "        [5.4, 3.4, 1.7, 0.2],\n",
              "        [5.1, 3.7, 1.5, 0.4],\n",
              "        [4.6, 3.6, 1. , 0.2],\n",
              "        [5.1, 3.3, 1.7, 0.5],\n",
              "        [4.8, 3.4, 1.9, 0.2],\n",
              "        [5. , 3. , 1.6, 0.2],\n",
              "        [5. , 3.4, 1.6, 0.4],\n",
              "        [5.2, 3.5, 1.5, 0.2],\n",
              "        [5.2, 3.4, 1.4, 0.2],\n",
              "        [4.7, 3.2, 1.6, 0.2],\n",
              "        [4.8, 3.1, 1.6, 0.2],\n",
              "        [5.4, 3.4, 1.5, 0.4],\n",
              "        [5.2, 4.1, 1.5, 0.1],\n",
              "        [5.5, 4.2, 1.4, 0.2],\n",
              "        [4.9, 3.1, 1.5, 0.2],\n",
              "        [5. , 3.2, 1.2, 0.2],\n",
              "        [5.5, 3.5, 1.3, 0.2],\n",
              "        [4.9, 3.6, 1.4, 0.1],\n",
              "        [4.4, 3. , 1.3, 0.2],\n",
              "        [5.1, 3.4, 1.5, 0.2],\n",
              "        [5. , 3.5, 1.3, 0.3],\n",
              "        [4.5, 2.3, 1.3, 0.3],\n",
              "        [4.4, 3.2, 1.3, 0.2],\n",
              "        [5. , 3.5, 1.6, 0.6],\n",
              "        [5.1, 3.8, 1.9, 0.4],\n",
              "        [4.8, 3. , 1.4, 0.3],\n",
              "        [5.1, 3.8, 1.6, 0.2],\n",
              "        [4.6, 3.2, 1.4, 0.2],\n",
              "        [5.3, 3.7, 1.5, 0.2],\n",
              "        [5. , 3.3, 1.4, 0.2],\n",
              "        [7. , 3.2, 4.7, 1.4],\n",
              "        [6.4, 3.2, 4.5, 1.5],\n",
              "        [6.9, 3.1, 4.9, 1.5],\n",
              "        [5.5, 2.3, 4. , 1.3],\n",
              "        [6.5, 2.8, 4.6, 1.5],\n",
              "        [5.7, 2.8, 4.5, 1.3],\n",
              "        [6.3, 3.3, 4.7, 1.6],\n",
              "        [4.9, 2.4, 3.3, 1. ],\n",
              "        [6.6, 2.9, 4.6, 1.3],\n",
              "        [5.2, 2.7, 3.9, 1.4],\n",
              "        [5. , 2. , 3.5, 1. ],\n",
              "        [5.9, 3. , 4.2, 1.5],\n",
              "        [6. , 2.2, 4. , 1. ],\n",
              "        [6.1, 2.9, 4.7, 1.4],\n",
              "        [5.6, 2.9, 3.6, 1.3],\n",
              "        [6.7, 3.1, 4.4, 1.4],\n",
              "        [5.6, 3. , 4.5, 1.5],\n",
              "        [5.8, 2.7, 4.1, 1. ],\n",
              "        [6.2, 2.2, 4.5, 1.5],\n",
              "        [5.6, 2.5, 3.9, 1.1],\n",
              "        [5.9, 3.2, 4.8, 1.8],\n",
              "        [6.1, 2.8, 4. , 1.3],\n",
              "        [6.3, 2.5, 4.9, 1.5],\n",
              "        [6.1, 2.8, 4.7, 1.2],\n",
              "        [6.4, 2.9, 4.3, 1.3],\n",
              "        [6.6, 3. , 4.4, 1.4],\n",
              "        [6.8, 2.8, 4.8, 1.4],\n",
              "        [6.7, 3. , 5. , 1.7],\n",
              "        [6. , 2.9, 4.5, 1.5],\n",
              "        [5.7, 2.6, 3.5, 1. ],\n",
              "        [5.5, 2.4, 3.8, 1.1],\n",
              "        [5.5, 2.4, 3.7, 1. ],\n",
              "        [5.8, 2.7, 3.9, 1.2],\n",
              "        [6. , 2.7, 5.1, 1.6],\n",
              "        [5.4, 3. , 4.5, 1.5],\n",
              "        [6. , 3.4, 4.5, 1.6],\n",
              "        [6.7, 3.1, 4.7, 1.5],\n",
              "        [6.3, 2.3, 4.4, 1.3],\n",
              "        [5.6, 3. , 4.1, 1.3],\n",
              "        [5.5, 2.5, 4. , 1.3],\n",
              "        [5.5, 2.6, 4.4, 1.2],\n",
              "        [6.1, 3. , 4.6, 1.4],\n",
              "        [5.8, 2.6, 4. , 1.2],\n",
              "        [5. , 2.3, 3.3, 1. ],\n",
              "        [5.6, 2.7, 4.2, 1.3],\n",
              "        [5.7, 3. , 4.2, 1.2],\n",
              "        [5.7, 2.9, 4.2, 1.3],\n",
              "        [6.2, 2.9, 4.3, 1.3],\n",
              "        [5.1, 2.5, 3. , 1.1],\n",
              "        [5.7, 2.8, 4.1, 1.3],\n",
              "        [6.3, 3.3, 6. , 2.5],\n",
              "        [5.8, 2.7, 5.1, 1.9],\n",
              "        [7.1, 3. , 5.9, 2.1],\n",
              "        [6.3, 2.9, 5.6, 1.8],\n",
              "        [6.5, 3. , 5.8, 2.2],\n",
              "        [7.6, 3. , 6.6, 2.1],\n",
              "        [4.9, 2.5, 4.5, 1.7],\n",
              "        [7.3, 2.9, 6.3, 1.8],\n",
              "        [6.7, 2.5, 5.8, 1.8],\n",
              "        [7.2, 3.6, 6.1, 2.5],\n",
              "        [6.5, 3.2, 5.1, 2. ],\n",
              "        [6.4, 2.7, 5.3, 1.9],\n",
              "        [6.8, 3. , 5.5, 2.1],\n",
              "        [5.7, 2.5, 5. , 2. ],\n",
              "        [5.8, 2.8, 5.1, 2.4],\n",
              "        [6.4, 3.2, 5.3, 2.3],\n",
              "        [6.5, 3. , 5.5, 1.8],\n",
              "        [7.7, 3.8, 6.7, 2.2],\n",
              "        [7.7, 2.6, 6.9, 2.3],\n",
              "        [6. , 2.2, 5. , 1.5],\n",
              "        [6.9, 3.2, 5.7, 2.3],\n",
              "        [5.6, 2.8, 4.9, 2. ],\n",
              "        [7.7, 2.8, 6.7, 2. ],\n",
              "        [6.3, 2.7, 4.9, 1.8],\n",
              "        [6.7, 3.3, 5.7, 2.1],\n",
              "        [7.2, 3.2, 6. , 1.8],\n",
              "        [6.2, 2.8, 4.8, 1.8],\n",
              "        [6.1, 3. , 4.9, 1.8],\n",
              "        [6.4, 2.8, 5.6, 2.1],\n",
              "        [7.2, 3. , 5.8, 1.6],\n",
              "        [7.4, 2.8, 6.1, 1.9],\n",
              "        [7.9, 3.8, 6.4, 2. ],\n",
              "        [6.4, 2.8, 5.6, 2.2],\n",
              "        [6.3, 2.8, 5.1, 1.5],\n",
              "        [6.1, 2.6, 5.6, 1.4],\n",
              "        [7.7, 3. , 6.1, 2.3],\n",
              "        [6.3, 3.4, 5.6, 2.4],\n",
              "        [6.4, 3.1, 5.5, 1.8],\n",
              "        [6. , 3. , 4.8, 1.8],\n",
              "        [6.9, 3.1, 5.4, 2.1],\n",
              "        [6.7, 3.1, 5.6, 2.4],\n",
              "        [6.9, 3.1, 5.1, 2.3],\n",
              "        [5.8, 2.7, 5.1, 1.9],\n",
              "        [6.8, 3.2, 5.9, 2.3],\n",
              "        [6.7, 3.3, 5.7, 2.5],\n",
              "        [6.7, 3. , 5.2, 2.3],\n",
              "        [6.3, 2.5, 5. , 1.9],\n",
              "        [6.5, 3. , 5.2, 2. ],\n",
              "        [6.2, 3.4, 5.4, 2.3],\n",
              "        [5.9, 3. , 5.1, 1.8]]),\n",
              " 'feature_names': ['sepal length (cm)',\n",
              "  'sepal width (cm)',\n",
              "  'petal length (cm)',\n",
              "  'petal width (cm)'],\n",
              " 'filename': '/usr/local/lib/python3.6/dist-packages/sklearn/datasets/data/iris.csv',\n",
              " 'target': array([0, 0, 0, 0, 0, 0, 0, 0, 0, 0, 0, 0, 0, 0, 0, 0, 0, 0, 0, 0, 0, 0,\n",
              "        0, 0, 0, 0, 0, 0, 0, 0, 0, 0, 0, 0, 0, 0, 0, 0, 0, 0, 0, 0, 0, 0,\n",
              "        0, 0, 0, 0, 0, 0, 1, 1, 1, 1, 1, 1, 1, 1, 1, 1, 1, 1, 1, 1, 1, 1,\n",
              "        1, 1, 1, 1, 1, 1, 1, 1, 1, 1, 1, 1, 1, 1, 1, 1, 1, 1, 1, 1, 1, 1,\n",
              "        1, 1, 1, 1, 1, 1, 1, 1, 1, 1, 1, 1, 2, 2, 2, 2, 2, 2, 2, 2, 2, 2,\n",
              "        2, 2, 2, 2, 2, 2, 2, 2, 2, 2, 2, 2, 2, 2, 2, 2, 2, 2, 2, 2, 2, 2,\n",
              "        2, 2, 2, 2, 2, 2, 2, 2, 2, 2, 2, 2, 2, 2, 2, 2, 2, 2]),\n",
              " 'target_names': array(['setosa', 'versicolor', 'virginica'], dtype='<U10')}"
            ]
          },
          "metadata": {
            "tags": []
          },
          "execution_count": 148
        }
      ]
    },
    {
      "cell_type": "code",
      "metadata": {
        "id": "1pDZVdN7kfhX",
        "colab_type": "code",
        "colab": {
          "base_uri": "https://localhost:8080/",
          "height": 136
        },
        "outputId": "4c00111e-cb63-476b-8099-1090956d1ccc"
      },
      "source": [
        "iris.target"
      ],
      "execution_count": 149,
      "outputs": [
        {
          "output_type": "execute_result",
          "data": {
            "text/plain": [
              "array([0, 0, 0, 0, 0, 0, 0, 0, 0, 0, 0, 0, 0, 0, 0, 0, 0, 0, 0, 0, 0, 0,\n",
              "       0, 0, 0, 0, 0, 0, 0, 0, 0, 0, 0, 0, 0, 0, 0, 0, 0, 0, 0, 0, 0, 0,\n",
              "       0, 0, 0, 0, 0, 0, 1, 1, 1, 1, 1, 1, 1, 1, 1, 1, 1, 1, 1, 1, 1, 1,\n",
              "       1, 1, 1, 1, 1, 1, 1, 1, 1, 1, 1, 1, 1, 1, 1, 1, 1, 1, 1, 1, 1, 1,\n",
              "       1, 1, 1, 1, 1, 1, 1, 1, 1, 1, 1, 1, 2, 2, 2, 2, 2, 2, 2, 2, 2, 2,\n",
              "       2, 2, 2, 2, 2, 2, 2, 2, 2, 2, 2, 2, 2, 2, 2, 2, 2, 2, 2, 2, 2, 2,\n",
              "       2, 2, 2, 2, 2, 2, 2, 2, 2, 2, 2, 2, 2, 2, 2, 2, 2, 2])"
            ]
          },
          "metadata": {
            "tags": []
          },
          "execution_count": 149
        }
      ]
    },
    {
      "cell_type": "code",
      "metadata": {
        "id": "l3RiqcT7k29R",
        "colab_type": "code",
        "colab": {
          "base_uri": "https://localhost:8080/",
          "height": 419
        },
        "outputId": "dea2060b-5fa4-4eb6-c973-4df3a3160a8c"
      },
      "source": [
        "import pandas as pd\n",
        "iris_data = pd.read_csv('/usr/local/lib/python3.6/dist-packages/sklearn/datasets/data/iris.csv')\n",
        "iris_data"
      ],
      "execution_count": 154,
      "outputs": [
        {
          "output_type": "execute_result",
          "data": {
            "text/html": [
              "<div>\n",
              "<style scoped>\n",
              "    .dataframe tbody tr th:only-of-type {\n",
              "        vertical-align: middle;\n",
              "    }\n",
              "\n",
              "    .dataframe tbody tr th {\n",
              "        vertical-align: top;\n",
              "    }\n",
              "\n",
              "    .dataframe thead th {\n",
              "        text-align: right;\n",
              "    }\n",
              "</style>\n",
              "<table border=\"1\" class=\"dataframe\">\n",
              "  <thead>\n",
              "    <tr style=\"text-align: right;\">\n",
              "      <th></th>\n",
              "      <th>150</th>\n",
              "      <th>4</th>\n",
              "      <th>setosa</th>\n",
              "      <th>versicolor</th>\n",
              "      <th>virginica</th>\n",
              "    </tr>\n",
              "  </thead>\n",
              "  <tbody>\n",
              "    <tr>\n",
              "      <th>0</th>\n",
              "      <td>5.1</td>\n",
              "      <td>3.5</td>\n",
              "      <td>1.4</td>\n",
              "      <td>0.2</td>\n",
              "      <td>0</td>\n",
              "    </tr>\n",
              "    <tr>\n",
              "      <th>1</th>\n",
              "      <td>4.9</td>\n",
              "      <td>3.0</td>\n",
              "      <td>1.4</td>\n",
              "      <td>0.2</td>\n",
              "      <td>0</td>\n",
              "    </tr>\n",
              "    <tr>\n",
              "      <th>2</th>\n",
              "      <td>4.7</td>\n",
              "      <td>3.2</td>\n",
              "      <td>1.3</td>\n",
              "      <td>0.2</td>\n",
              "      <td>0</td>\n",
              "    </tr>\n",
              "    <tr>\n",
              "      <th>3</th>\n",
              "      <td>4.6</td>\n",
              "      <td>3.1</td>\n",
              "      <td>1.5</td>\n",
              "      <td>0.2</td>\n",
              "      <td>0</td>\n",
              "    </tr>\n",
              "    <tr>\n",
              "      <th>4</th>\n",
              "      <td>5.0</td>\n",
              "      <td>3.6</td>\n",
              "      <td>1.4</td>\n",
              "      <td>0.2</td>\n",
              "      <td>0</td>\n",
              "    </tr>\n",
              "    <tr>\n",
              "      <th>...</th>\n",
              "      <td>...</td>\n",
              "      <td>...</td>\n",
              "      <td>...</td>\n",
              "      <td>...</td>\n",
              "      <td>...</td>\n",
              "    </tr>\n",
              "    <tr>\n",
              "      <th>145</th>\n",
              "      <td>6.7</td>\n",
              "      <td>3.0</td>\n",
              "      <td>5.2</td>\n",
              "      <td>2.3</td>\n",
              "      <td>2</td>\n",
              "    </tr>\n",
              "    <tr>\n",
              "      <th>146</th>\n",
              "      <td>6.3</td>\n",
              "      <td>2.5</td>\n",
              "      <td>5.0</td>\n",
              "      <td>1.9</td>\n",
              "      <td>2</td>\n",
              "    </tr>\n",
              "    <tr>\n",
              "      <th>147</th>\n",
              "      <td>6.5</td>\n",
              "      <td>3.0</td>\n",
              "      <td>5.2</td>\n",
              "      <td>2.0</td>\n",
              "      <td>2</td>\n",
              "    </tr>\n",
              "    <tr>\n",
              "      <th>148</th>\n",
              "      <td>6.2</td>\n",
              "      <td>3.4</td>\n",
              "      <td>5.4</td>\n",
              "      <td>2.3</td>\n",
              "      <td>2</td>\n",
              "    </tr>\n",
              "    <tr>\n",
              "      <th>149</th>\n",
              "      <td>5.9</td>\n",
              "      <td>3.0</td>\n",
              "      <td>5.1</td>\n",
              "      <td>1.8</td>\n",
              "      <td>2</td>\n",
              "    </tr>\n",
              "  </tbody>\n",
              "</table>\n",
              "<p>150 rows × 5 columns</p>\n",
              "</div>"
            ],
            "text/plain": [
              "     150    4  setosa  versicolor  virginica\n",
              "0    5.1  3.5     1.4         0.2          0\n",
              "1    4.9  3.0     1.4         0.2          0\n",
              "2    4.7  3.2     1.3         0.2          0\n",
              "3    4.6  3.1     1.5         0.2          0\n",
              "4    5.0  3.6     1.4         0.2          0\n",
              "..   ...  ...     ...         ...        ...\n",
              "145  6.7  3.0     5.2         2.3          2\n",
              "146  6.3  2.5     5.0         1.9          2\n",
              "147  6.5  3.0     5.2         2.0          2\n",
              "148  6.2  3.4     5.4         2.3          2\n",
              "149  5.9  3.0     5.1         1.8          2\n",
              "\n",
              "[150 rows x 5 columns]"
            ]
          },
          "metadata": {
            "tags": []
          },
          "execution_count": 154
        }
      ]
    },
    {
      "cell_type": "code",
      "metadata": {
        "id": "HcxIltkTmS_h",
        "colab_type": "code",
        "colab": {}
      },
      "source": [
        "setosa = iris_data[iris_data['virginica']==0]\n",
        "versicolor = iris_data[iris_data['virginica']==1]\n",
        "verginica = iris_data[iris_data['virginica']==2]"
      ],
      "execution_count": 155,
      "outputs": []
    },
    {
      "cell_type": "code",
      "metadata": {
        "id": "oD1vumuZpO7R",
        "colab_type": "code",
        "colab": {
          "base_uri": "https://localhost:8080/",
          "height": 1000
        },
        "outputId": "d0ade454-54c6-458a-d84c-603e710227df"
      },
      "source": [
        "fig, axs = plt.subplots(1, 3)\n",
        "# lt.imshow(iris.data, cmap='hot', interpolation='nearest')\n",
        "axs[0].imshow(setosa[['150','4','setosa','versicolor']], cmap='hot', interpolation='nearest')\n",
        "axs[1].imshow(versicolor[['150','4','setosa','versicolor']], cmap='hot', interpolation='nearest')\n",
        "axs[2].imshow(verginica[['150','4','setosa','versicolor']], cmap='hot', interpolation='nearest')"
      ],
      "execution_count": 156,
      "outputs": [
        {
          "output_type": "execute_result",
          "data": {
            "text/plain": [
              "<matplotlib.image.AxesImage at 0x7ff123e01320>"
            ]
          },
          "metadata": {
            "tags": []
          },
          "execution_count": 156
        },
        {
          "output_type": "display_data",
          "data": {
            "image/png": "[encoded data removed]",
            "text/plain": [
              "<Figure size 3600x5760 with 3 Axes>"
            ]
          },
          "metadata": {
            "tags": [],
            "needs_background": "light"
          }
        }
      ]
    }
  ]
}